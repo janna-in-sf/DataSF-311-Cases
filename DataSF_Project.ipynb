{
  "cells": [
    {
      "cell_type": "markdown",
      "metadata": {
        "id": "view-in-github",
        "colab_type": "text"
      },
      "source": [
        "<a href=\"https://colab.research.google.com/github/janna-in-sf/DataSF-311-Cases/blob/main/DataSF_Project.ipynb\" target=\"_parent\"><img src=\"https://colab.research.google.com/assets/colab-badge.svg\" alt=\"Open In Colab\"/></a>"
      ]
    },
    {
      "cell_type": "markdown",
      "metadata": {
        "id": "NwLJBr9K0D7h"
      },
      "source": [
        "# DataSF Project\n",
        "\n",
        "Data from Data SF on 311 requests/cases to city of San Francisco. \n",
        "\n",
        "*    See: https://data.sfgov.org/City-Infrastructure/311-Cases/vw6y-z8j6 \n",
        "*   Started: January 2023\n",
        "*   Status: Work in Progress\n",
        "*   Janna Voss\n",
        "\n"
      ]
    },
    {
      "cell_type": "markdown",
      "metadata": {
        "id": "Mr7QOJmq0Nvm"
      },
      "source": [
        "## Imports"
      ]
    },
    {
      "cell_type": "code",
      "execution_count": 1,
      "metadata": {
        "id": "iJg0RP3h0Azg"
      },
      "outputs": [],
      "source": [
        "from google.colab import drive\n",
        "import pandas as pd\n",
        "import numpy as np\n",
        "import statistics\n",
        "import matplotlib.pyplot as plt\n",
        "import seaborn as sns\n",
        "\n",
        "import math\n",
        "import time\n",
        "from datetime import datetime"
      ]
    },
    {
      "cell_type": "markdown",
      "metadata": {
        "id": "uK-yPc1G3ACZ"
      },
      "source": [
        "## Load Input File"
      ]
    },
    {
      "cell_type": "markdown",
      "source": [
        "### Mount Drive"
      ],
      "metadata": {
        "id": "qHiKqA7AtYq2"
      }
    },
    {
      "cell_type": "code",
      "execution_count": 2,
      "metadata": {
        "colab": {
          "base_uri": "https://localhost:8080/"
        },
        "id": "zrfxWTXz6QYt",
        "outputId": "c8c50f5d-981c-45af-bfc5-de39517d56f9"
      },
      "outputs": [
        {
          "output_type": "stream",
          "name": "stdout",
          "text": [
            "Mounted at /content/drive\n"
          ]
        }
      ],
      "source": [
        "drive.mount('/content/drive')"
      ]
    },
    {
      "cell_type": "markdown",
      "source": [
        "### Read CSV"
      ],
      "metadata": {
        "id": "s9HeF8Trtx3c"
      }
    },
    {
      "cell_type": "code",
      "execution_count": 3,
      "metadata": {
        "id": "x-XSZ7Sd3HaD"
      },
      "outputs": [],
      "source": [
        "# set variables\n",
        "file_path = '/content/drive/MyDrive/colab_files/data/'\n",
        "file_name = '311_Cases.csv'\n",
        "absolute_file_name = file_path + file_name\n",
        "\n",
        "# hardcoded column names for cols to keep from input CSV file\n",
        "col_names = ['CaseID', 'Opened', 'Closed', 'Updated','Status', 'Status Notes',\n",
        "             'Responsible Agency', 'Category', 'Request Type', 'Request Details',\n",
        "             'Address', 'Street', 'Supervisor District', 'Neighborhood', \n",
        "             'Police District','Latitude', 'Longitude', 'Source']\n",
        "col_types = {'Status': 'category', 'Supervisor District':'category', \n",
        "             'Police District':'category', 'Latitude': 'float32', \n",
        "             'Longitude': 'float32','Source':'category'}\n",
        "col_index_name = 'CaseID'"
      ]
    },
    {
      "cell_type": "code",
      "execution_count": 14,
      "metadata": {
        "colab": {
          "base_uri": "https://localhost:8080/"
        },
        "id": "t0fZ5ep07VCX",
        "outputId": "365efc03-efa5-4192-b961-25dbc8d2c3f2"
      },
      "outputs": [
        {
          "output_type": "stream",
          "name": "stdout",
          "text": [
            "Loading file:  /content/drive/MyDrive/colab_files/data/311_Cases.csv \n",
            "\n",
            "Start Time = 16:43:04\n",
            "End Time   = 16:43:04\n",
            "Elapsed time: 0.06742262840270996 seconds\n",
            "\n",
            "Loaded file with (rows, cols) =  (2500, 17) \n",
            "\n",
            "Before converting col names Index(['Opened', 'Closed', 'Updated', 'Status', 'Status Notes',\n",
            "       'Responsible Agency', 'Category', 'Request Type', 'Request Details',\n",
            "       'Address', 'Street', 'Supervisor District', 'Neighborhood',\n",
            "       'Police District', 'Latitude', 'Longitude', 'Source'],\n",
            "      dtype='object') \n",
            "\n",
            "After convertin col names Index(['opened', 'closed', 'updated', 'status', 'status_notes',\n",
            "       'responsible_agency', 'category', 'request_type', 'request_details',\n",
            "       'address', 'street', 'supervisor_district', 'neighborhood',\n",
            "       'police_district', 'latitude', 'longitude', 'source'],\n",
            "      dtype='object')\n"
          ]
        }
      ],
      "source": [
        "# Load the file\n",
        "print('Loading file: ', absolute_file_name,'\\n')\n",
        "\n",
        "rows_to_load = 2500\n",
        "csv_date_format = '%m/%d/%Y %I:%M:%S %p'\n",
        "\n",
        "start = time.time()\n",
        "print(\"Start Time =\", datetime.now().strftime(\"%H:%M:%S\"))\n",
        "\n",
        "#df = pd.read_csv(absolute_file_name, usecols=col_names, dtype=col_types, \n",
        "#                 index_col= col_index_name)\n",
        "df = pd.read_csv(absolute_file_name, usecols=col_names, dtype=col_types, \n",
        "                 index_col= col_index_name, nrows=rows_to_load)\n",
        "\n",
        "# change type for dates\n",
        "for date_col_name in ['Opened','Closed','Updated']:\n",
        "  df[date_col_name] = pd.to_datetime(df[date_col_name],format=csv_date_format)\n",
        "\n",
        "end = time.time()\n",
        "print(\"End Time   =\", datetime.now().strftime(\"%H:%M:%S\"))\n",
        "print('Elapsed time:',end - start, 'seconds')\n",
        "print('\\nLoaded file with (rows, cols) = ',df.shape,'\\n')\n",
        "\n",
        "print('Before converting col names', df.columns, '\\n')\n",
        "# rename columns that contain spaces\n",
        "df.columns = df.columns.str.replace(' ', '_')\n",
        "\n",
        "# chg col names to lower case\n",
        "df= df.rename(columns=str.lower)\n",
        "print('After convertin col names', df.columns)"
      ]
    },
    {
      "cell_type": "code",
      "execution_count": 15,
      "metadata": {
        "colab": {
          "base_uri": "https://localhost:8080/",
          "height": 656
        },
        "id": "uqgrLf6A8xhi",
        "outputId": "bd4035ec-fb99-48ff-d9ec-d04f5dcbea66"
      },
      "outputs": [
        {
          "output_type": "execute_result",
          "data": {
            "text/plain": [
              "                     opened              closed             updated  status  \\\n",
              "CaseID                                                                        \n",
              "6501676 2016-11-06 10:10:45 2016-11-07 09:11:12 2016-11-07 09:11:12  Closed   \n",
              "6484030 2016-11-01 11:26:26 2016-11-01 16:59:33 2016-11-01 16:59:33  Closed   \n",
              "6505388 2016-11-07 11:08:09 2016-11-12 16:40:17 2016-11-12 16:40:17  Closed   \n",
              "6504738 2016-11-07 09:41:28 2016-11-07 11:11:06 2016-11-07 11:11:06  Closed   \n",
              "6507086 2016-11-07 15:40:03 2016-11-08 10:10:08 2016-11-08 10:10:08  Closed   \n",
              "\n",
              "                                              status_notes  \\\n",
              "CaseID                                                       \n",
              "6501676                              Case Resolved - 10-98   \n",
              "6484030                   Case Resolved - Pickup completed   \n",
              "6505388  Case Resolved - entire area is trashed out nee...   \n",
              "6504738  Case Resolved - If the bridge is closed DPW ca...   \n",
              "6507086  Case Resolved - meter shop has closed this req...   \n",
              "\n",
              "           responsible_agency                      category  \\\n",
              "CaseID                                                        \n",
              "6501676         DPW Ops Queue                   Encampments   \n",
              "6484030    Recology_Abandoned  Street and Sidewalk Cleaning   \n",
              "6505388         DPW Ops Queue  Street and Sidewalk Cleaning   \n",
              "6504738         DPW Ops Queue  Street and Sidewalk Cleaning   \n",
              "6507086  DPT Meter_Bike Queue              Damaged Property   \n",
              "\n",
              "                  request_type        request_details  \\\n",
              "CaseID                                                  \n",
              "6501676     Encampment Reports     Encampment Cleanup   \n",
              "6484030            Bulky Items               Mattress   \n",
              "6505388            Bulky Items            Electronics   \n",
              "6504738  Human or Animal Waste  Human or Animal Waste   \n",
              "6507086  Damaged Parking_Meter          Parking_Meter   \n",
              "\n",
              "                                                   address  \\\n",
              "CaseID                                                       \n",
              "6501676         2953 HARRISON ST, SAN FRANCISCO, CA, 94110   \n",
              "6484030    Intersection of ISADORA DUNCAN LN and TAYLOR ST   \n",
              "6505388  Intersection of ARELIOUS WALKER DR and REVERE AVE   \n",
              "6504738          1366 VERMONT ST, SAN FRANCISCO, CA, 94110   \n",
              "6507086          2664 MISSION ST, SAN FRANCISCO, CA, 94110   \n",
              "\n",
              "                     street supervisor_district    neighborhood  \\\n",
              "CaseID                                                            \n",
              "6501676         HARRISON ST                   9         Mission   \n",
              "6484030   ISADORA DUNCAN LN                   3  Lower Nob Hill   \n",
              "6505388  ARELIOUS WALKER DR                  10   Hunters Point   \n",
              "6504738          VERMONT ST                  10    Potrero Hill   \n",
              "6507086          MISSION ST                   9         Mission   \n",
              "\n",
              "        police_district   latitude   longitude          source  \n",
              "CaseID                                                          \n",
              "6501676         MISSION  37.750233 -122.411804  Mobile/Open311  \n",
              "6484030         CENTRAL  37.787567 -122.411644           Phone  \n",
              "6505388         BAYVIEW  37.725494 -122.378494  Mobile/Open311  \n",
              "6504738         MISSION  37.752312 -122.403488  Mobile/Open311  \n",
              "6507086         MISSION  37.754307 -122.418839           Phone  "
            ],
            "text/html": [
              "\n",
              "  <div id=\"df-00c27497-e066-4803-ad8c-c4130995abd6\">\n",
              "    <div class=\"colab-df-container\">\n",
              "      <div>\n",
              "<style scoped>\n",
              "    .dataframe tbody tr th:only-of-type {\n",
              "        vertical-align: middle;\n",
              "    }\n",
              "\n",
              "    .dataframe tbody tr th {\n",
              "        vertical-align: top;\n",
              "    }\n",
              "\n",
              "    .dataframe thead th {\n",
              "        text-align: right;\n",
              "    }\n",
              "</style>\n",
              "<table border=\"1\" class=\"dataframe\">\n",
              "  <thead>\n",
              "    <tr style=\"text-align: right;\">\n",
              "      <th></th>\n",
              "      <th>opened</th>\n",
              "      <th>closed</th>\n",
              "      <th>updated</th>\n",
              "      <th>status</th>\n",
              "      <th>status_notes</th>\n",
              "      <th>responsible_agency</th>\n",
              "      <th>category</th>\n",
              "      <th>request_type</th>\n",
              "      <th>request_details</th>\n",
              "      <th>address</th>\n",
              "      <th>street</th>\n",
              "      <th>supervisor_district</th>\n",
              "      <th>neighborhood</th>\n",
              "      <th>police_district</th>\n",
              "      <th>latitude</th>\n",
              "      <th>longitude</th>\n",
              "      <th>source</th>\n",
              "    </tr>\n",
              "    <tr>\n",
              "      <th>CaseID</th>\n",
              "      <th></th>\n",
              "      <th></th>\n",
              "      <th></th>\n",
              "      <th></th>\n",
              "      <th></th>\n",
              "      <th></th>\n",
              "      <th></th>\n",
              "      <th></th>\n",
              "      <th></th>\n",
              "      <th></th>\n",
              "      <th></th>\n",
              "      <th></th>\n",
              "      <th></th>\n",
              "      <th></th>\n",
              "      <th></th>\n",
              "      <th></th>\n",
              "      <th></th>\n",
              "    </tr>\n",
              "  </thead>\n",
              "  <tbody>\n",
              "    <tr>\n",
              "      <th>6501676</th>\n",
              "      <td>2016-11-06 10:10:45</td>\n",
              "      <td>2016-11-07 09:11:12</td>\n",
              "      <td>2016-11-07 09:11:12</td>\n",
              "      <td>Closed</td>\n",
              "      <td>Case Resolved - 10-98</td>\n",
              "      <td>DPW Ops Queue</td>\n",
              "      <td>Encampments</td>\n",
              "      <td>Encampment Reports</td>\n",
              "      <td>Encampment Cleanup</td>\n",
              "      <td>2953 HARRISON ST, SAN FRANCISCO, CA, 94110</td>\n",
              "      <td>HARRISON ST</td>\n",
              "      <td>9</td>\n",
              "      <td>Mission</td>\n",
              "      <td>MISSION</td>\n",
              "      <td>37.750233</td>\n",
              "      <td>-122.411804</td>\n",
              "      <td>Mobile/Open311</td>\n",
              "    </tr>\n",
              "    <tr>\n",
              "      <th>6484030</th>\n",
              "      <td>2016-11-01 11:26:26</td>\n",
              "      <td>2016-11-01 16:59:33</td>\n",
              "      <td>2016-11-01 16:59:33</td>\n",
              "      <td>Closed</td>\n",
              "      <td>Case Resolved - Pickup completed</td>\n",
              "      <td>Recology_Abandoned</td>\n",
              "      <td>Street and Sidewalk Cleaning</td>\n",
              "      <td>Bulky Items</td>\n",
              "      <td>Mattress</td>\n",
              "      <td>Intersection of ISADORA DUNCAN LN and TAYLOR ST</td>\n",
              "      <td>ISADORA DUNCAN LN</td>\n",
              "      <td>3</td>\n",
              "      <td>Lower Nob Hill</td>\n",
              "      <td>CENTRAL</td>\n",
              "      <td>37.787567</td>\n",
              "      <td>-122.411644</td>\n",
              "      <td>Phone</td>\n",
              "    </tr>\n",
              "    <tr>\n",
              "      <th>6505388</th>\n",
              "      <td>2016-11-07 11:08:09</td>\n",
              "      <td>2016-11-12 16:40:17</td>\n",
              "      <td>2016-11-12 16:40:17</td>\n",
              "      <td>Closed</td>\n",
              "      <td>Case Resolved - entire area is trashed out nee...</td>\n",
              "      <td>DPW Ops Queue</td>\n",
              "      <td>Street and Sidewalk Cleaning</td>\n",
              "      <td>Bulky Items</td>\n",
              "      <td>Electronics</td>\n",
              "      <td>Intersection of ARELIOUS WALKER DR and REVERE AVE</td>\n",
              "      <td>ARELIOUS WALKER DR</td>\n",
              "      <td>10</td>\n",
              "      <td>Hunters Point</td>\n",
              "      <td>BAYVIEW</td>\n",
              "      <td>37.725494</td>\n",
              "      <td>-122.378494</td>\n",
              "      <td>Mobile/Open311</td>\n",
              "    </tr>\n",
              "    <tr>\n",
              "      <th>6504738</th>\n",
              "      <td>2016-11-07 09:41:28</td>\n",
              "      <td>2016-11-07 11:11:06</td>\n",
              "      <td>2016-11-07 11:11:06</td>\n",
              "      <td>Closed</td>\n",
              "      <td>Case Resolved - If the bridge is closed DPW ca...</td>\n",
              "      <td>DPW Ops Queue</td>\n",
              "      <td>Street and Sidewalk Cleaning</td>\n",
              "      <td>Human or Animal Waste</td>\n",
              "      <td>Human or Animal Waste</td>\n",
              "      <td>1366 VERMONT ST, SAN FRANCISCO, CA, 94110</td>\n",
              "      <td>VERMONT ST</td>\n",
              "      <td>10</td>\n",
              "      <td>Potrero Hill</td>\n",
              "      <td>MISSION</td>\n",
              "      <td>37.752312</td>\n",
              "      <td>-122.403488</td>\n",
              "      <td>Mobile/Open311</td>\n",
              "    </tr>\n",
              "    <tr>\n",
              "      <th>6507086</th>\n",
              "      <td>2016-11-07 15:40:03</td>\n",
              "      <td>2016-11-08 10:10:08</td>\n",
              "      <td>2016-11-08 10:10:08</td>\n",
              "      <td>Closed</td>\n",
              "      <td>Case Resolved - meter shop has closed this req...</td>\n",
              "      <td>DPT Meter_Bike Queue</td>\n",
              "      <td>Damaged Property</td>\n",
              "      <td>Damaged Parking_Meter</td>\n",
              "      <td>Parking_Meter</td>\n",
              "      <td>2664 MISSION ST, SAN FRANCISCO, CA, 94110</td>\n",
              "      <td>MISSION ST</td>\n",
              "      <td>9</td>\n",
              "      <td>Mission</td>\n",
              "      <td>MISSION</td>\n",
              "      <td>37.754307</td>\n",
              "      <td>-122.418839</td>\n",
              "      <td>Phone</td>\n",
              "    </tr>\n",
              "  </tbody>\n",
              "</table>\n",
              "</div>\n",
              "      <button class=\"colab-df-convert\" onclick=\"convertToInteractive('df-00c27497-e066-4803-ad8c-c4130995abd6')\"\n",
              "              title=\"Convert this dataframe to an interactive table.\"\n",
              "              style=\"display:none;\">\n",
              "        \n",
              "  <svg xmlns=\"http://www.w3.org/2000/svg\" height=\"24px\"viewBox=\"0 0 24 24\"\n",
              "       width=\"24px\">\n",
              "    <path d=\"M0 0h24v24H0V0z\" fill=\"none\"/>\n",
              "    <path d=\"M18.56 5.44l.94 2.06.94-2.06 2.06-.94-2.06-.94-.94-2.06-.94 2.06-2.06.94zm-11 1L8.5 8.5l.94-2.06 2.06-.94-2.06-.94L8.5 2.5l-.94 2.06-2.06.94zm10 10l.94 2.06.94-2.06 2.06-.94-2.06-.94-.94-2.06-.94 2.06-2.06.94z\"/><path d=\"M17.41 7.96l-1.37-1.37c-.4-.4-.92-.59-1.43-.59-.52 0-1.04.2-1.43.59L10.3 9.45l-7.72 7.72c-.78.78-.78 2.05 0 2.83L4 21.41c.39.39.9.59 1.41.59.51 0 1.02-.2 1.41-.59l7.78-7.78 2.81-2.81c.8-.78.8-2.07 0-2.86zM5.41 20L4 18.59l7.72-7.72 1.47 1.35L5.41 20z\"/>\n",
              "  </svg>\n",
              "      </button>\n",
              "      \n",
              "  <style>\n",
              "    .colab-df-container {\n",
              "      display:flex;\n",
              "      flex-wrap:wrap;\n",
              "      gap: 12px;\n",
              "    }\n",
              "\n",
              "    .colab-df-convert {\n",
              "      background-color: #E8F0FE;\n",
              "      border: none;\n",
              "      border-radius: 50%;\n",
              "      cursor: pointer;\n",
              "      display: none;\n",
              "      fill: #1967D2;\n",
              "      height: 32px;\n",
              "      padding: 0 0 0 0;\n",
              "      width: 32px;\n",
              "    }\n",
              "\n",
              "    .colab-df-convert:hover {\n",
              "      background-color: #E2EBFA;\n",
              "      box-shadow: 0px 1px 2px rgba(60, 64, 67, 0.3), 0px 1px 3px 1px rgba(60, 64, 67, 0.15);\n",
              "      fill: #174EA6;\n",
              "    }\n",
              "\n",
              "    [theme=dark] .colab-df-convert {\n",
              "      background-color: #3B4455;\n",
              "      fill: #D2E3FC;\n",
              "    }\n",
              "\n",
              "    [theme=dark] .colab-df-convert:hover {\n",
              "      background-color: #434B5C;\n",
              "      box-shadow: 0px 1px 3px 1px rgba(0, 0, 0, 0.15);\n",
              "      filter: drop-shadow(0px 1px 2px rgba(0, 0, 0, 0.3));\n",
              "      fill: #FFFFFF;\n",
              "    }\n",
              "  </style>\n",
              "\n",
              "      <script>\n",
              "        const buttonEl =\n",
              "          document.querySelector('#df-00c27497-e066-4803-ad8c-c4130995abd6 button.colab-df-convert');\n",
              "        buttonEl.style.display =\n",
              "          google.colab.kernel.accessAllowed ? 'block' : 'none';\n",
              "\n",
              "        async function convertToInteractive(key) {\n",
              "          const element = document.querySelector('#df-00c27497-e066-4803-ad8c-c4130995abd6');\n",
              "          const dataTable =\n",
              "            await google.colab.kernel.invokeFunction('convertToInteractive',\n",
              "                                                     [key], {});\n",
              "          if (!dataTable) return;\n",
              "\n",
              "          const docLinkHtml = 'Like what you see? Visit the ' +\n",
              "            '<a target=\"_blank\" href=https://colab.research.google.com/notebooks/data_table.ipynb>data table notebook</a>'\n",
              "            + ' to learn more about interactive tables.';\n",
              "          element.innerHTML = '';\n",
              "          dataTable['output_type'] = 'display_data';\n",
              "          await google.colab.output.renderOutput(dataTable, element);\n",
              "          const docLink = document.createElement('div');\n",
              "          docLink.innerHTML = docLinkHtml;\n",
              "          element.appendChild(docLink);\n",
              "        }\n",
              "      </script>\n",
              "    </div>\n",
              "  </div>\n",
              "  "
            ]
          },
          "metadata": {},
          "execution_count": 15
        }
      ],
      "source": [
        "df.head()"
      ]
    },
    {
      "cell_type": "code",
      "source": [
        "df.shape"
      ],
      "metadata": {
        "colab": {
          "base_uri": "https://localhost:8080/"
        },
        "id": "nWSLo2veR9fr",
        "outputId": "dc61f48f-b99b-4334-bb5f-cbf267df5c57"
      },
      "execution_count": 16,
      "outputs": [
        {
          "output_type": "execute_result",
          "data": {
            "text/plain": [
              "(2500, 17)"
            ]
          },
          "metadata": {},
          "execution_count": 16
        }
      ]
    },
    {
      "cell_type": "markdown",
      "source": [
        "### Verify there are no duplicated CaseID (index)"
      ],
      "metadata": {
        "id": "4Ozdqc7kwAb6"
      }
    },
    {
      "cell_type": "code",
      "source": [
        "# check for duplicate case nbrs, which are the index\n",
        "assert df.index.duplicated().sum() == 0, 'Duplicated indexes - CaseID'"
      ],
      "metadata": {
        "id": "P9BTf7nboJum"
      },
      "execution_count": 17,
      "outputs": []
    },
    {
      "cell_type": "markdown",
      "metadata": {
        "id": "10-rD3zpZmgg"
      },
      "source": [
        "### Sort by index (CaseId)"
      ]
    },
    {
      "cell_type": "code",
      "execution_count": 18,
      "metadata": {
        "colab": {
          "base_uri": "https://localhost:8080/"
        },
        "id": "fP1kqAe_FOfG",
        "outputId": "736d3318-58b3-4cc6-90c3-c4473660fece"
      },
      "outputs": [
        {
          "output_type": "stream",
          "name": "stdout",
          "text": [
            "Index is monotnoic: False\n",
            "                     opened              closed             updated\n",
            "CaseID                                                             \n",
            "6501676 2016-11-06 10:10:45 2016-11-07 09:11:12 2016-11-07 09:11:12\n",
            "6484030 2016-11-01 11:26:26 2016-11-01 16:59:33 2016-11-01 16:59:33\n",
            "6505388 2016-11-07 11:08:09 2016-11-12 16:40:17 2016-11-12 16:40:17\n",
            "\n",
            "*** After sorting index, index is monotnoic: True\n",
            "                    opened              closed             updated\n",
            "CaseID                                                            \n",
            "721686 2010-08-27 20:32:34 2010-09-02 15:02:39 2010-09-02 15:02:39\n",
            "730283 2010-09-10 15:40:46 2010-09-15 14:42:02 2010-09-15 14:42:02\n",
            "732258 2010-09-14 04:25:57 2010-09-16 14:02:37 2010-09-16 14:02:37\n"
          ]
        }
      ],
      "source": [
        "# if values in Index are NOT monotonically increasing, sort index\n",
        "print('Index is monotnoic:',df.index.is_monotonic_increasing)\n",
        "status_list = ['opened','closed','updated']\n",
        "print(df[status_list].head(3))\n",
        "\n",
        "if (not df.index.is_monotonic_increasing):\n",
        "  df.sort_index(inplace=True)\n",
        "  print('\\n*** After sorting index, index is monotnoic:',df.index.is_monotonic_increasing)\n",
        "  print(df[status_list].head(3))"
      ]
    },
    {
      "cell_type": "markdown",
      "metadata": {
        "id": "39giO_fS8wQh"
      },
      "source": [
        "## Exploratory Data Analysis"
      ]
    },
    {
      "cell_type": "markdown",
      "source": [
        "### Address Any Nulls"
      ],
      "metadata": {
        "id": "IVj54Xwl7gis"
      }
    },
    {
      "cell_type": "code",
      "source": [
        "# Drop row(s) containing nulls in 5% (or fewer) rows out of the total nbr of rows\n",
        "# Note: Don't drop rows with null in 'Closed' - doing so will remove all open open cases\n",
        "\n",
        "if df.isna().sum().any():\n",
        "  keep_cols = ['closed', 'updated']\n",
        "  threshold = df.shape[0] * 0.05\n",
        "\n",
        "  cols_below_threshold = df.columns[(df.isna().sum() > 0) & (df.isna().sum() <= threshold)]\n",
        "  if cols_below_threshold.isin(keep_cols).any():\n",
        "    cols_below_threshold = cols_below_threshold.drop(keep_cols, errors='ignore')\n",
        "\n",
        "  if len(cols_below_threshold) > 0 :\n",
        "    print('Threshold:', threshold, '\\n\\n*** Number of na, by column')\n",
        "    print(df.isna().sum(),'\\n')\n",
        "    print('Nbr of columns below threshold (excluding', keep_cols,'):',len(cols_below_threshold))\n",
        "    print('Names of columns below threshold:', cols_below_threshold)\n",
        "\n",
        "    df2 = df.copy()\n",
        "    df.dropna(subset=cols_below_threshold, inplace=True)\n",
        "    print('\\n*** Number of rows dropped due to nulls:', df2.shape[0]-df.shape[0])\n",
        "\n",
        "    # validate \n",
        "    assert df.shape[1] == df2.shape[1], 'ERROR: Logic to drop rows for nulls inadvertently dropped columns!'\n",
        "    for col in cols_below_threshold:\n",
        "      assert df[col].isna().sum() == 0, f'Did not remove rows with nulls in col {col}'\n",
        "    del df2, cols_below_threshold, keep_cols"
      ],
      "metadata": {
        "colab": {
          "base_uri": "https://localhost:8080/"
        },
        "id": "_JIl4ey27fnG",
        "outputId": "dbdfe4ed-c0c0-44b4-dcc6-e530771e396b"
      },
      "execution_count": 19,
      "outputs": [
        {
          "output_type": "stream",
          "name": "stdout",
          "text": [
            "Threshold: 125.0 \n",
            "\n",
            "*** Number of na, by column\n",
            "opened                   0\n",
            "closed                   5\n",
            "updated                  0\n",
            "status                   0\n",
            "status_notes             3\n",
            "responsible_agency       0\n",
            "category                 0\n",
            "request_type             0\n",
            "request_details         60\n",
            "address                  0\n",
            "street                 128\n",
            "supervisor_district    128\n",
            "neighborhood           133\n",
            "police_district        136\n",
            "latitude                 0\n",
            "longitude                0\n",
            "source                   0\n",
            "dtype: int64 \n",
            "\n",
            "Nbr of columns below threshold (excluding ['closed', 'updated'] ): 2\n",
            "Names of columns below threshold: Index(['status_notes', 'request_details'], dtype='object')\n",
            "\n",
            "*** Number of rows dropped due to nulls: 63\n"
          ]
        }
      ]
    },
    {
      "cell_type": "markdown",
      "source": [
        "### Address Duplicate Rows"
      ],
      "metadata": {
        "id": "cnVcTR2VTqZe"
      }
    },
    {
      "cell_type": "code",
      "source": [
        "# Drop any duplicated rows, keeping the first instance\n",
        "if df.duplicated().any():\n",
        "  before_dropping_dups = df.shape[0]\n",
        "  print('Number of duplicated rows:', len(df[df.duplicated(keep=False)]))\n",
        "\n",
        "  df.drop_duplicates(keep='first', inplace=True)\n",
        "  print('Number of rows dropped due to dups (keeping 1st occurrence)',before_dropping_dups - df.shape[0])"
      ],
      "metadata": {
        "id": "2mrrqzHfTk_s"
      },
      "execution_count": 20,
      "outputs": []
    },
    {
      "cell_type": "markdown",
      "source": [
        "### View Data & Summary Stats"
      ],
      "metadata": {
        "id": "1T2g0ht_dHtm"
      }
    },
    {
      "cell_type": "code",
      "execution_count": 21,
      "metadata": {
        "colab": {
          "base_uri": "https://localhost:8080/",
          "height": 639
        },
        "id": "o7nOviJz8vkf",
        "outputId": "279f9050-6d1a-4d04-bb42-7c45c96fee4a"
      },
      "outputs": [
        {
          "output_type": "execute_result",
          "data": {
            "text/plain": [
              "                     opened              closed             updated  status  \\\n",
              "CaseID                                                                        \n",
              "721686  2010-08-27 20:32:34 2010-09-02 15:02:39 2010-09-02 15:02:39  Closed   \n",
              "730283  2010-09-10 15:40:46 2010-09-15 14:42:02 2010-09-15 14:42:02  Closed   \n",
              "732258  2010-09-14 04:25:57 2010-09-16 14:02:37 2010-09-16 14:02:37  Closed   \n",
              "2899186 2013-10-02 14:57:53 2015-04-15 04:05:25 2015-04-15 04:05:25  Closed   \n",
              "4328069 2014-12-23 10:43:18 2014-12-23 12:45:40 2014-12-23 12:45:40  Closed   \n",
              "\n",
              "                                              status_notes  \\\n",
              "CaseID                                                       \n",
              "721686                         Case Transferred - # 372527   \n",
              "730283                           Case Transferred - 373563   \n",
              "732258                           Case Transferred - 373691   \n",
              "2899186  Case Transferred - Per process - cases are clo...   \n",
              "4328069       Case Completed - resolved: Pickup completed.   \n",
              "\n",
              "                       responsible_agency                      category  \\\n",
              "CaseID                                                                    \n",
              "721686                    MUNI Work Queue                 MUNI Feedback   \n",
              "730283                    MUNI Work Queue                 MUNI Feedback   \n",
              "732258                    MUNI Work Queue                 MUNI Feedback   \n",
              "2899186  311 Service Request Queue - Hold              Damaged Property   \n",
              "4328069                Recology_Abandoned  Street and Sidewalk Cleaning   \n",
              "\n",
              "                                              request_type  \\\n",
              "CaseID                                                       \n",
              "721686         MUNI - Services_Service_Delivery_Facilities   \n",
              "730283         MUNI - Services_Service_Delivery_Facilities   \n",
              "732258   MUNI - Conduct_Discourteous_Insensitive_Inappr...   \n",
              "2899186                             Damaged Traffic_Signal   \n",
              "4328069                                        Bulky Items   \n",
              "\n",
              "                                 request_details  \\\n",
              "CaseID                                             \n",
              "721686             605_Vehicle_Maintenance_Noise   \n",
              "730283   608_Station_Stop_Appearance_Maintenance   \n",
              "732258             303_Fare_Transfer_POP_Dispute   \n",
              "2899186                           Traffic_Signal   \n",
              "4328069                             Refrigerator   \n",
              "\n",
              "                                         address  street supervisor_district  \\\n",
              "CaseID                                                                         \n",
              "721686    Not associated with a specific address     NaN                 NaN   \n",
              "730283    Not associated with a specific address     NaN                 NaN   \n",
              "732258    Not associated with a specific address     NaN                 NaN   \n",
              "2899186  Intersection of 3RD ST and INGERSON AVE  3RD ST                  10   \n",
              "4328069   Not associated with a specific address     NaN                 NaN   \n",
              "\n",
              "        neighborhood police_district   latitude   longitude             source  \n",
              "CaseID                                                                          \n",
              "721686           NaN             NaN   0.000000    0.000000              Phone  \n",
              "730283           NaN             NaN   0.000000    0.000000              Phone  \n",
              "732258           NaN             NaN   0.000000    0.000000              Phone  \n",
              "2899186   Bret Harte         BAYVIEW  37.720982 -122.396271              Phone  \n",
              "4328069          NaN             NaN   0.000000    0.000000  Integrated Agency  "
            ],
            "text/html": [
              "\n",
              "  <div id=\"df-228a7b0e-d55d-481f-b9c8-7bdc692ca463\">\n",
              "    <div class=\"colab-df-container\">\n",
              "      <div>\n",
              "<style scoped>\n",
              "    .dataframe tbody tr th:only-of-type {\n",
              "        vertical-align: middle;\n",
              "    }\n",
              "\n",
              "    .dataframe tbody tr th {\n",
              "        vertical-align: top;\n",
              "    }\n",
              "\n",
              "    .dataframe thead th {\n",
              "        text-align: right;\n",
              "    }\n",
              "</style>\n",
              "<table border=\"1\" class=\"dataframe\">\n",
              "  <thead>\n",
              "    <tr style=\"text-align: right;\">\n",
              "      <th></th>\n",
              "      <th>opened</th>\n",
              "      <th>closed</th>\n",
              "      <th>updated</th>\n",
              "      <th>status</th>\n",
              "      <th>status_notes</th>\n",
              "      <th>responsible_agency</th>\n",
              "      <th>category</th>\n",
              "      <th>request_type</th>\n",
              "      <th>request_details</th>\n",
              "      <th>address</th>\n",
              "      <th>street</th>\n",
              "      <th>supervisor_district</th>\n",
              "      <th>neighborhood</th>\n",
              "      <th>police_district</th>\n",
              "      <th>latitude</th>\n",
              "      <th>longitude</th>\n",
              "      <th>source</th>\n",
              "    </tr>\n",
              "    <tr>\n",
              "      <th>CaseID</th>\n",
              "      <th></th>\n",
              "      <th></th>\n",
              "      <th></th>\n",
              "      <th></th>\n",
              "      <th></th>\n",
              "      <th></th>\n",
              "      <th></th>\n",
              "      <th></th>\n",
              "      <th></th>\n",
              "      <th></th>\n",
              "      <th></th>\n",
              "      <th></th>\n",
              "      <th></th>\n",
              "      <th></th>\n",
              "      <th></th>\n",
              "      <th></th>\n",
              "      <th></th>\n",
              "    </tr>\n",
              "  </thead>\n",
              "  <tbody>\n",
              "    <tr>\n",
              "      <th>721686</th>\n",
              "      <td>2010-08-27 20:32:34</td>\n",
              "      <td>2010-09-02 15:02:39</td>\n",
              "      <td>2010-09-02 15:02:39</td>\n",
              "      <td>Closed</td>\n",
              "      <td>Case Transferred - # 372527</td>\n",
              "      <td>MUNI Work Queue</td>\n",
              "      <td>MUNI Feedback</td>\n",
              "      <td>MUNI - Services_Service_Delivery_Facilities</td>\n",
              "      <td>605_Vehicle_Maintenance_Noise</td>\n",
              "      <td>Not associated with a specific address</td>\n",
              "      <td>NaN</td>\n",
              "      <td>NaN</td>\n",
              "      <td>NaN</td>\n",
              "      <td>NaN</td>\n",
              "      <td>0.000000</td>\n",
              "      <td>0.000000</td>\n",
              "      <td>Phone</td>\n",
              "    </tr>\n",
              "    <tr>\n",
              "      <th>730283</th>\n",
              "      <td>2010-09-10 15:40:46</td>\n",
              "      <td>2010-09-15 14:42:02</td>\n",
              "      <td>2010-09-15 14:42:02</td>\n",
              "      <td>Closed</td>\n",
              "      <td>Case Transferred - 373563</td>\n",
              "      <td>MUNI Work Queue</td>\n",
              "      <td>MUNI Feedback</td>\n",
              "      <td>MUNI - Services_Service_Delivery_Facilities</td>\n",
              "      <td>608_Station_Stop_Appearance_Maintenance</td>\n",
              "      <td>Not associated with a specific address</td>\n",
              "      <td>NaN</td>\n",
              "      <td>NaN</td>\n",
              "      <td>NaN</td>\n",
              "      <td>NaN</td>\n",
              "      <td>0.000000</td>\n",
              "      <td>0.000000</td>\n",
              "      <td>Phone</td>\n",
              "    </tr>\n",
              "    <tr>\n",
              "      <th>732258</th>\n",
              "      <td>2010-09-14 04:25:57</td>\n",
              "      <td>2010-09-16 14:02:37</td>\n",
              "      <td>2010-09-16 14:02:37</td>\n",
              "      <td>Closed</td>\n",
              "      <td>Case Transferred - 373691</td>\n",
              "      <td>MUNI Work Queue</td>\n",
              "      <td>MUNI Feedback</td>\n",
              "      <td>MUNI - Conduct_Discourteous_Insensitive_Inappr...</td>\n",
              "      <td>303_Fare_Transfer_POP_Dispute</td>\n",
              "      <td>Not associated with a specific address</td>\n",
              "      <td>NaN</td>\n",
              "      <td>NaN</td>\n",
              "      <td>NaN</td>\n",
              "      <td>NaN</td>\n",
              "      <td>0.000000</td>\n",
              "      <td>0.000000</td>\n",
              "      <td>Phone</td>\n",
              "    </tr>\n",
              "    <tr>\n",
              "      <th>2899186</th>\n",
              "      <td>2013-10-02 14:57:53</td>\n",
              "      <td>2015-04-15 04:05:25</td>\n",
              "      <td>2015-04-15 04:05:25</td>\n",
              "      <td>Closed</td>\n",
              "      <td>Case Transferred - Per process - cases are clo...</td>\n",
              "      <td>311 Service Request Queue - Hold</td>\n",
              "      <td>Damaged Property</td>\n",
              "      <td>Damaged Traffic_Signal</td>\n",
              "      <td>Traffic_Signal</td>\n",
              "      <td>Intersection of 3RD ST and INGERSON AVE</td>\n",
              "      <td>3RD ST</td>\n",
              "      <td>10</td>\n",
              "      <td>Bret Harte</td>\n",
              "      <td>BAYVIEW</td>\n",
              "      <td>37.720982</td>\n",
              "      <td>-122.396271</td>\n",
              "      <td>Phone</td>\n",
              "    </tr>\n",
              "    <tr>\n",
              "      <th>4328069</th>\n",
              "      <td>2014-12-23 10:43:18</td>\n",
              "      <td>2014-12-23 12:45:40</td>\n",
              "      <td>2014-12-23 12:45:40</td>\n",
              "      <td>Closed</td>\n",
              "      <td>Case Completed - resolved: Pickup completed.</td>\n",
              "      <td>Recology_Abandoned</td>\n",
              "      <td>Street and Sidewalk Cleaning</td>\n",
              "      <td>Bulky Items</td>\n",
              "      <td>Refrigerator</td>\n",
              "      <td>Not associated with a specific address</td>\n",
              "      <td>NaN</td>\n",
              "      <td>NaN</td>\n",
              "      <td>NaN</td>\n",
              "      <td>NaN</td>\n",
              "      <td>0.000000</td>\n",
              "      <td>0.000000</td>\n",
              "      <td>Integrated Agency</td>\n",
              "    </tr>\n",
              "  </tbody>\n",
              "</table>\n",
              "</div>\n",
              "      <button class=\"colab-df-convert\" onclick=\"convertToInteractive('df-228a7b0e-d55d-481f-b9c8-7bdc692ca463')\"\n",
              "              title=\"Convert this dataframe to an interactive table.\"\n",
              "              style=\"display:none;\">\n",
              "        \n",
              "  <svg xmlns=\"http://www.w3.org/2000/svg\" height=\"24px\"viewBox=\"0 0 24 24\"\n",
              "       width=\"24px\">\n",
              "    <path d=\"M0 0h24v24H0V0z\" fill=\"none\"/>\n",
              "    <path d=\"M18.56 5.44l.94 2.06.94-2.06 2.06-.94-2.06-.94-.94-2.06-.94 2.06-2.06.94zm-11 1L8.5 8.5l.94-2.06 2.06-.94-2.06-.94L8.5 2.5l-.94 2.06-2.06.94zm10 10l.94 2.06.94-2.06 2.06-.94-2.06-.94-.94-2.06-.94 2.06-2.06.94z\"/><path d=\"M17.41 7.96l-1.37-1.37c-.4-.4-.92-.59-1.43-.59-.52 0-1.04.2-1.43.59L10.3 9.45l-7.72 7.72c-.78.78-.78 2.05 0 2.83L4 21.41c.39.39.9.59 1.41.59.51 0 1.02-.2 1.41-.59l7.78-7.78 2.81-2.81c.8-.78.8-2.07 0-2.86zM5.41 20L4 18.59l7.72-7.72 1.47 1.35L5.41 20z\"/>\n",
              "  </svg>\n",
              "      </button>\n",
              "      \n",
              "  <style>\n",
              "    .colab-df-container {\n",
              "      display:flex;\n",
              "      flex-wrap:wrap;\n",
              "      gap: 12px;\n",
              "    }\n",
              "\n",
              "    .colab-df-convert {\n",
              "      background-color: #E8F0FE;\n",
              "      border: none;\n",
              "      border-radius: 50%;\n",
              "      cursor: pointer;\n",
              "      display: none;\n",
              "      fill: #1967D2;\n",
              "      height: 32px;\n",
              "      padding: 0 0 0 0;\n",
              "      width: 32px;\n",
              "    }\n",
              "\n",
              "    .colab-df-convert:hover {\n",
              "      background-color: #E2EBFA;\n",
              "      box-shadow: 0px 1px 2px rgba(60, 64, 67, 0.3), 0px 1px 3px 1px rgba(60, 64, 67, 0.15);\n",
              "      fill: #174EA6;\n",
              "    }\n",
              "\n",
              "    [theme=dark] .colab-df-convert {\n",
              "      background-color: #3B4455;\n",
              "      fill: #D2E3FC;\n",
              "    }\n",
              "\n",
              "    [theme=dark] .colab-df-convert:hover {\n",
              "      background-color: #434B5C;\n",
              "      box-shadow: 0px 1px 3px 1px rgba(0, 0, 0, 0.15);\n",
              "      filter: drop-shadow(0px 1px 2px rgba(0, 0, 0, 0.3));\n",
              "      fill: #FFFFFF;\n",
              "    }\n",
              "  </style>\n",
              "\n",
              "      <script>\n",
              "        const buttonEl =\n",
              "          document.querySelector('#df-228a7b0e-d55d-481f-b9c8-7bdc692ca463 button.colab-df-convert');\n",
              "        buttonEl.style.display =\n",
              "          google.colab.kernel.accessAllowed ? 'block' : 'none';\n",
              "\n",
              "        async function convertToInteractive(key) {\n",
              "          const element = document.querySelector('#df-228a7b0e-d55d-481f-b9c8-7bdc692ca463');\n",
              "          const dataTable =\n",
              "            await google.colab.kernel.invokeFunction('convertToInteractive',\n",
              "                                                     [key], {});\n",
              "          if (!dataTable) return;\n",
              "\n",
              "          const docLinkHtml = 'Like what you see? Visit the ' +\n",
              "            '<a target=\"_blank\" href=https://colab.research.google.com/notebooks/data_table.ipynb>data table notebook</a>'\n",
              "            + ' to learn more about interactive tables.';\n",
              "          element.innerHTML = '';\n",
              "          dataTable['output_type'] = 'display_data';\n",
              "          await google.colab.output.renderOutput(dataTable, element);\n",
              "          const docLink = document.createElement('div');\n",
              "          docLink.innerHTML = docLinkHtml;\n",
              "          element.appendChild(docLink);\n",
              "        }\n",
              "      </script>\n",
              "    </div>\n",
              "  </div>\n",
              "  "
            ]
          },
          "metadata": {},
          "execution_count": 21
        }
      ],
      "source": [
        "df.head()"
      ]
    },
    {
      "cell_type": "code",
      "execution_count": 22,
      "metadata": {
        "colab": {
          "base_uri": "https://localhost:8080/",
          "height": 605
        },
        "id": "IMllr0IB86Zq",
        "outputId": "6e10ba15-a0db-498d-cf93-2eea80aca7b2"
      },
      "outputs": [
        {
          "output_type": "execute_result",
          "data": {
            "text/plain": [
              "                      opened              closed             updated  status  \\\n",
              "CaseID                                                                         \n",
              "10401883 2019-01-24 16:26:00 2019-01-24 17:57:19 2019-01-24 17:57:19  Closed   \n",
              "10405876 2019-01-25 14:25:00 2019-01-25 20:24:48 2019-01-25 20:24:48  Closed   \n",
              "15560868 2022-07-12 05:59:00 2022-07-12 14:14:40 2022-07-12 14:14:40  Closed   \n",
              "15564300 2022-07-12 18:11:00 2022-07-14 19:34:27 2022-07-14 19:34:27  Closed   \n",
              "16205667 2022-12-20 15:08:00 2022-12-20 15:23:05 2022-12-20 15:23:05  Closed   \n",
              "\n",
              "                               status_notes  responsible_agency  \\\n",
              "CaseID                                                            \n",
              "10401883  Case Resolved - Pickup completed.  Recology_Abandoned   \n",
              "10405876  Case Resolved - Pickup completed.  Recology_Abandoned   \n",
              "15560868  Case Resolved - Pickup completed.  Recology_Abandoned   \n",
              "15564300                      Case Resolved       DPW Ops Queue   \n",
              "16205667                      Case Resolved       DPW Ops Queue   \n",
              "\n",
              "                              category  \\\n",
              "CaseID                                   \n",
              "10401883  Street and Sidewalk Cleaning   \n",
              "10405876  Street and Sidewalk Cleaning   \n",
              "15560868  Street and Sidewalk Cleaning   \n",
              "15564300  Street and Sidewalk Cleaning   \n",
              "16205667                      Graffiti   \n",
              "\n",
              "                                              request_type  \\\n",
              "CaseID                                                       \n",
              "10401883                                       Bulky Items   \n",
              "10405876                                       Bulky Items   \n",
              "15560868                                       Bulky Items   \n",
              "15564300                  Missed_Route_Mechanical_Sweeping   \n",
              "16205667  Graffiti on Other_enter_additional_details_below   \n",
              "\n",
              "                                           request_details  \\\n",
              "CaseID                                                       \n",
              "10401883                             Boxed or Bagged Items   \n",
              "10405876                                          Mattress   \n",
              "15560868                                         Furniture   \n",
              "15564300                  Missed_Route_Mechanical_Sweeping   \n",
              "16205667  Other_enter_additional_details_below - Offensive   \n",
              "\n",
              "                                               address         street  \\\n",
              "CaseID                                                                  \n",
              "10401883  2899 SAN BRUNO AVE, SAN FRANCISCO, CA, 94134  SAN BRUNO AVE   \n",
              "10405876        501 GROVE ST, SAN FRANCISCO, CA, 94102       GROVE ST   \n",
              "15560868      139 WEBSTER ST, SAN FRANCISCO, CA, 94117     WEBSTER ST   \n",
              "15564300      Intersection of LINCOLN WAY and LA PLAYA    LINCOLN WAY   \n",
              "16205667      600 CLAYTON ST, SAN FRANCISCO, CA, 94117     CLAYTON ST   \n",
              "\n",
              "         supervisor_district    neighborhood police_district   latitude  \\\n",
              "CaseID                                                                    \n",
              "10401883                   9         Portola         BAYVIEW  37.725506   \n",
              "10405876                   5    Hayes Valley        NORTHERN  37.777439   \n",
              "15560868                   5    Lower Haight        NORTHERN  37.771954   \n",
              "15564300                   4    Outer Sunset         TARAVAL  37.764034   \n",
              "16205667                   5  Haight Ashbury            PARK  37.769859   \n",
              "\n",
              "           longitude          source  \n",
              "CaseID                                \n",
              "10401883 -122.402557           Phone  \n",
              "10405876 -122.425117           Phone  \n",
              "15560868 -122.428917  Mobile/Open311  \n",
              "15564300 -122.509399           Phone  \n",
              "16205667 -122.448471  Mobile/Open311  "
            ],
            "text/html": [
              "\n",
              "  <div id=\"df-42216546-2b8b-4867-aa32-753a3b23cce7\">\n",
              "    <div class=\"colab-df-container\">\n",
              "      <div>\n",
              "<style scoped>\n",
              "    .dataframe tbody tr th:only-of-type {\n",
              "        vertical-align: middle;\n",
              "    }\n",
              "\n",
              "    .dataframe tbody tr th {\n",
              "        vertical-align: top;\n",
              "    }\n",
              "\n",
              "    .dataframe thead th {\n",
              "        text-align: right;\n",
              "    }\n",
              "</style>\n",
              "<table border=\"1\" class=\"dataframe\">\n",
              "  <thead>\n",
              "    <tr style=\"text-align: right;\">\n",
              "      <th></th>\n",
              "      <th>opened</th>\n",
              "      <th>closed</th>\n",
              "      <th>updated</th>\n",
              "      <th>status</th>\n",
              "      <th>status_notes</th>\n",
              "      <th>responsible_agency</th>\n",
              "      <th>category</th>\n",
              "      <th>request_type</th>\n",
              "      <th>request_details</th>\n",
              "      <th>address</th>\n",
              "      <th>street</th>\n",
              "      <th>supervisor_district</th>\n",
              "      <th>neighborhood</th>\n",
              "      <th>police_district</th>\n",
              "      <th>latitude</th>\n",
              "      <th>longitude</th>\n",
              "      <th>source</th>\n",
              "    </tr>\n",
              "    <tr>\n",
              "      <th>CaseID</th>\n",
              "      <th></th>\n",
              "      <th></th>\n",
              "      <th></th>\n",
              "      <th></th>\n",
              "      <th></th>\n",
              "      <th></th>\n",
              "      <th></th>\n",
              "      <th></th>\n",
              "      <th></th>\n",
              "      <th></th>\n",
              "      <th></th>\n",
              "      <th></th>\n",
              "      <th></th>\n",
              "      <th></th>\n",
              "      <th></th>\n",
              "      <th></th>\n",
              "      <th></th>\n",
              "    </tr>\n",
              "  </thead>\n",
              "  <tbody>\n",
              "    <tr>\n",
              "      <th>10401883</th>\n",
              "      <td>2019-01-24 16:26:00</td>\n",
              "      <td>2019-01-24 17:57:19</td>\n",
              "      <td>2019-01-24 17:57:19</td>\n",
              "      <td>Closed</td>\n",
              "      <td>Case Resolved - Pickup completed.</td>\n",
              "      <td>Recology_Abandoned</td>\n",
              "      <td>Street and Sidewalk Cleaning</td>\n",
              "      <td>Bulky Items</td>\n",
              "      <td>Boxed or Bagged Items</td>\n",
              "      <td>2899 SAN BRUNO AVE, SAN FRANCISCO, CA, 94134</td>\n",
              "      <td>SAN BRUNO AVE</td>\n",
              "      <td>9</td>\n",
              "      <td>Portola</td>\n",
              "      <td>BAYVIEW</td>\n",
              "      <td>37.725506</td>\n",
              "      <td>-122.402557</td>\n",
              "      <td>Phone</td>\n",
              "    </tr>\n",
              "    <tr>\n",
              "      <th>10405876</th>\n",
              "      <td>2019-01-25 14:25:00</td>\n",
              "      <td>2019-01-25 20:24:48</td>\n",
              "      <td>2019-01-25 20:24:48</td>\n",
              "      <td>Closed</td>\n",
              "      <td>Case Resolved - Pickup completed.</td>\n",
              "      <td>Recology_Abandoned</td>\n",
              "      <td>Street and Sidewalk Cleaning</td>\n",
              "      <td>Bulky Items</td>\n",
              "      <td>Mattress</td>\n",
              "      <td>501 GROVE ST, SAN FRANCISCO, CA, 94102</td>\n",
              "      <td>GROVE ST</td>\n",
              "      <td>5</td>\n",
              "      <td>Hayes Valley</td>\n",
              "      <td>NORTHERN</td>\n",
              "      <td>37.777439</td>\n",
              "      <td>-122.425117</td>\n",
              "      <td>Phone</td>\n",
              "    </tr>\n",
              "    <tr>\n",
              "      <th>15560868</th>\n",
              "      <td>2022-07-12 05:59:00</td>\n",
              "      <td>2022-07-12 14:14:40</td>\n",
              "      <td>2022-07-12 14:14:40</td>\n",
              "      <td>Closed</td>\n",
              "      <td>Case Resolved - Pickup completed.</td>\n",
              "      <td>Recology_Abandoned</td>\n",
              "      <td>Street and Sidewalk Cleaning</td>\n",
              "      <td>Bulky Items</td>\n",
              "      <td>Furniture</td>\n",
              "      <td>139 WEBSTER ST, SAN FRANCISCO, CA, 94117</td>\n",
              "      <td>WEBSTER ST</td>\n",
              "      <td>5</td>\n",
              "      <td>Lower Haight</td>\n",
              "      <td>NORTHERN</td>\n",
              "      <td>37.771954</td>\n",
              "      <td>-122.428917</td>\n",
              "      <td>Mobile/Open311</td>\n",
              "    </tr>\n",
              "    <tr>\n",
              "      <th>15564300</th>\n",
              "      <td>2022-07-12 18:11:00</td>\n",
              "      <td>2022-07-14 19:34:27</td>\n",
              "      <td>2022-07-14 19:34:27</td>\n",
              "      <td>Closed</td>\n",
              "      <td>Case Resolved</td>\n",
              "      <td>DPW Ops Queue</td>\n",
              "      <td>Street and Sidewalk Cleaning</td>\n",
              "      <td>Missed_Route_Mechanical_Sweeping</td>\n",
              "      <td>Missed_Route_Mechanical_Sweeping</td>\n",
              "      <td>Intersection of LINCOLN WAY and LA PLAYA</td>\n",
              "      <td>LINCOLN WAY</td>\n",
              "      <td>4</td>\n",
              "      <td>Outer Sunset</td>\n",
              "      <td>TARAVAL</td>\n",
              "      <td>37.764034</td>\n",
              "      <td>-122.509399</td>\n",
              "      <td>Phone</td>\n",
              "    </tr>\n",
              "    <tr>\n",
              "      <th>16205667</th>\n",
              "      <td>2022-12-20 15:08:00</td>\n",
              "      <td>2022-12-20 15:23:05</td>\n",
              "      <td>2022-12-20 15:23:05</td>\n",
              "      <td>Closed</td>\n",
              "      <td>Case Resolved</td>\n",
              "      <td>DPW Ops Queue</td>\n",
              "      <td>Graffiti</td>\n",
              "      <td>Graffiti on Other_enter_additional_details_below</td>\n",
              "      <td>Other_enter_additional_details_below - Offensive</td>\n",
              "      <td>600 CLAYTON ST, SAN FRANCISCO, CA, 94117</td>\n",
              "      <td>CLAYTON ST</td>\n",
              "      <td>5</td>\n",
              "      <td>Haight Ashbury</td>\n",
              "      <td>PARK</td>\n",
              "      <td>37.769859</td>\n",
              "      <td>-122.448471</td>\n",
              "      <td>Mobile/Open311</td>\n",
              "    </tr>\n",
              "  </tbody>\n",
              "</table>\n",
              "</div>\n",
              "      <button class=\"colab-df-convert\" onclick=\"convertToInteractive('df-42216546-2b8b-4867-aa32-753a3b23cce7')\"\n",
              "              title=\"Convert this dataframe to an interactive table.\"\n",
              "              style=\"display:none;\">\n",
              "        \n",
              "  <svg xmlns=\"http://www.w3.org/2000/svg\" height=\"24px\"viewBox=\"0 0 24 24\"\n",
              "       width=\"24px\">\n",
              "    <path d=\"M0 0h24v24H0V0z\" fill=\"none\"/>\n",
              "    <path d=\"M18.56 5.44l.94 2.06.94-2.06 2.06-.94-2.06-.94-.94-2.06-.94 2.06-2.06.94zm-11 1L8.5 8.5l.94-2.06 2.06-.94-2.06-.94L8.5 2.5l-.94 2.06-2.06.94zm10 10l.94 2.06.94-2.06 2.06-.94-2.06-.94-.94-2.06-.94 2.06-2.06.94z\"/><path d=\"M17.41 7.96l-1.37-1.37c-.4-.4-.92-.59-1.43-.59-.52 0-1.04.2-1.43.59L10.3 9.45l-7.72 7.72c-.78.78-.78 2.05 0 2.83L4 21.41c.39.39.9.59 1.41.59.51 0 1.02-.2 1.41-.59l7.78-7.78 2.81-2.81c.8-.78.8-2.07 0-2.86zM5.41 20L4 18.59l7.72-7.72 1.47 1.35L5.41 20z\"/>\n",
              "  </svg>\n",
              "      </button>\n",
              "      \n",
              "  <style>\n",
              "    .colab-df-container {\n",
              "      display:flex;\n",
              "      flex-wrap:wrap;\n",
              "      gap: 12px;\n",
              "    }\n",
              "\n",
              "    .colab-df-convert {\n",
              "      background-color: #E8F0FE;\n",
              "      border: none;\n",
              "      border-radius: 50%;\n",
              "      cursor: pointer;\n",
              "      display: none;\n",
              "      fill: #1967D2;\n",
              "      height: 32px;\n",
              "      padding: 0 0 0 0;\n",
              "      width: 32px;\n",
              "    }\n",
              "\n",
              "    .colab-df-convert:hover {\n",
              "      background-color: #E2EBFA;\n",
              "      box-shadow: 0px 1px 2px rgba(60, 64, 67, 0.3), 0px 1px 3px 1px rgba(60, 64, 67, 0.15);\n",
              "      fill: #174EA6;\n",
              "    }\n",
              "\n",
              "    [theme=dark] .colab-df-convert {\n",
              "      background-color: #3B4455;\n",
              "      fill: #D2E3FC;\n",
              "    }\n",
              "\n",
              "    [theme=dark] .colab-df-convert:hover {\n",
              "      background-color: #434B5C;\n",
              "      box-shadow: 0px 1px 3px 1px rgba(0, 0, 0, 0.15);\n",
              "      filter: drop-shadow(0px 1px 2px rgba(0, 0, 0, 0.3));\n",
              "      fill: #FFFFFF;\n",
              "    }\n",
              "  </style>\n",
              "\n",
              "      <script>\n",
              "        const buttonEl =\n",
              "          document.querySelector('#df-42216546-2b8b-4867-aa32-753a3b23cce7 button.colab-df-convert');\n",
              "        buttonEl.style.display =\n",
              "          google.colab.kernel.accessAllowed ? 'block' : 'none';\n",
              "\n",
              "        async function convertToInteractive(key) {\n",
              "          const element = document.querySelector('#df-42216546-2b8b-4867-aa32-753a3b23cce7');\n",
              "          const dataTable =\n",
              "            await google.colab.kernel.invokeFunction('convertToInteractive',\n",
              "                                                     [key], {});\n",
              "          if (!dataTable) return;\n",
              "\n",
              "          const docLinkHtml = 'Like what you see? Visit the ' +\n",
              "            '<a target=\"_blank\" href=https://colab.research.google.com/notebooks/data_table.ipynb>data table notebook</a>'\n",
              "            + ' to learn more about interactive tables.';\n",
              "          element.innerHTML = '';\n",
              "          dataTable['output_type'] = 'display_data';\n",
              "          await google.colab.output.renderOutput(dataTable, element);\n",
              "          const docLink = document.createElement('div');\n",
              "          docLink.innerHTML = docLinkHtml;\n",
              "          element.appendChild(docLink);\n",
              "        }\n",
              "      </script>\n",
              "    </div>\n",
              "  </div>\n",
              "  "
            ]
          },
          "metadata": {},
          "execution_count": 22
        }
      ],
      "source": [
        "df.tail()"
      ]
    },
    {
      "cell_type": "code",
      "execution_count": 23,
      "metadata": {
        "colab": {
          "base_uri": "https://localhost:8080/",
          "height": 424
        },
        "id": "PDeuOo_uLAo6",
        "outputId": "ac03e0cb-3cd5-46c7-afae-5e37eaa2f8de"
      },
      "outputs": [
        {
          "output_type": "execute_result",
          "data": {
            "text/plain": [
              "                     opened              closed             updated  status  \\\n",
              "CaseID                                                                        \n",
              "6494517 2016-11-03 23:52:15 2016-11-04 13:15:24 2016-11-04 13:15:24  Closed   \n",
              "6480398 2016-10-31 14:05:19 2016-11-14 11:11:47 2016-11-14 11:11:47  Closed   \n",
              "6476403 2016-10-30 13:51:00 2016-11-01 19:15:33 2016-11-01 19:15:33  Closed   \n",
              "\n",
              "                                              status_notes  \\\n",
              "CaseID                                                       \n",
              "6494517  Case Resolved - SES Graffiti Crew  - Paint - P...   \n",
              "6480398          Case Resolved - graffiti has been removed   \n",
              "6476403                              Case Resolved - 10-98   \n",
              "\n",
              "                   responsible_agency                      category  \\\n",
              "CaseID                                                                \n",
              "6494517                 DPW Ops Queue                      Graffiti   \n",
              "6480398  PUC - Water - Graffiti Queue                      Graffiti   \n",
              "6476403                 DPW Ops Queue  Street and Sidewalk Cleaning   \n",
              "\n",
              "                                             request_type  \\\n",
              "CaseID                                                      \n",
              "6494517  Graffiti on Other_enter_additional_details_below   \n",
              "6480398                          Graffiti on Fire_hydrant   \n",
              "6476403                                     Medical Waste   \n",
              "\n",
              "                                          request_details  \\\n",
              "CaseID                                                      \n",
              "6494517  Other_enter_additional_details_below - Offensive   \n",
              "6480398                      Fire_hydrant - Not_Offensive   \n",
              "6476403                                           Needles   \n",
              "\n",
              "                                          address      street  \\\n",
              "CaseID                                                          \n",
              "6494517  1556 HOWARD ST, SAN FRANCISCO, CA, 94103   HOWARD ST   \n",
              "6480398     Intersection of BUSH ST and GRANT AVE     BUSH ST   \n",
              "6476403  535 ALABAMA ST, SAN FRANCISCO, CA, 94110  ALABAMA ST   \n",
              "\n",
              "        supervisor_district             neighborhood police_district  \\\n",
              "CaseID                                                                 \n",
              "6494517                   6          South of Market        SOUTHERN   \n",
              "6480398                   3  Downtown / Union Square         CENTRAL   \n",
              "6476403                   9                  Mission         MISSION   \n",
              "\n",
              "          latitude   longitude          source  \n",
              "CaseID                                          \n",
              "6494517  37.772469 -122.416618  Mobile/Open311  \n",
              "6480398  37.790691 -122.405594  Mobile/Open311  \n",
              "6476403  37.762592 -122.412109  Mobile/Open311  "
            ],
            "text/html": [
              "\n",
              "  <div id=\"df-a9044e93-326e-4b1a-95b6-374be74f4af0\">\n",
              "    <div class=\"colab-df-container\">\n",
              "      <div>\n",
              "<style scoped>\n",
              "    .dataframe tbody tr th:only-of-type {\n",
              "        vertical-align: middle;\n",
              "    }\n",
              "\n",
              "    .dataframe tbody tr th {\n",
              "        vertical-align: top;\n",
              "    }\n",
              "\n",
              "    .dataframe thead th {\n",
              "        text-align: right;\n",
              "    }\n",
              "</style>\n",
              "<table border=\"1\" class=\"dataframe\">\n",
              "  <thead>\n",
              "    <tr style=\"text-align: right;\">\n",
              "      <th></th>\n",
              "      <th>opened</th>\n",
              "      <th>closed</th>\n",
              "      <th>updated</th>\n",
              "      <th>status</th>\n",
              "      <th>status_notes</th>\n",
              "      <th>responsible_agency</th>\n",
              "      <th>category</th>\n",
              "      <th>request_type</th>\n",
              "      <th>request_details</th>\n",
              "      <th>address</th>\n",
              "      <th>street</th>\n",
              "      <th>supervisor_district</th>\n",
              "      <th>neighborhood</th>\n",
              "      <th>police_district</th>\n",
              "      <th>latitude</th>\n",
              "      <th>longitude</th>\n",
              "      <th>source</th>\n",
              "    </tr>\n",
              "    <tr>\n",
              "      <th>CaseID</th>\n",
              "      <th></th>\n",
              "      <th></th>\n",
              "      <th></th>\n",
              "      <th></th>\n",
              "      <th></th>\n",
              "      <th></th>\n",
              "      <th></th>\n",
              "      <th></th>\n",
              "      <th></th>\n",
              "      <th></th>\n",
              "      <th></th>\n",
              "      <th></th>\n",
              "      <th></th>\n",
              "      <th></th>\n",
              "      <th></th>\n",
              "      <th></th>\n",
              "      <th></th>\n",
              "    </tr>\n",
              "  </thead>\n",
              "  <tbody>\n",
              "    <tr>\n",
              "      <th>6494517</th>\n",
              "      <td>2016-11-03 23:52:15</td>\n",
              "      <td>2016-11-04 13:15:24</td>\n",
              "      <td>2016-11-04 13:15:24</td>\n",
              "      <td>Closed</td>\n",
              "      <td>Case Resolved - SES Graffiti Crew  - Paint - P...</td>\n",
              "      <td>DPW Ops Queue</td>\n",
              "      <td>Graffiti</td>\n",
              "      <td>Graffiti on Other_enter_additional_details_below</td>\n",
              "      <td>Other_enter_additional_details_below - Offensive</td>\n",
              "      <td>1556 HOWARD ST, SAN FRANCISCO, CA, 94103</td>\n",
              "      <td>HOWARD ST</td>\n",
              "      <td>6</td>\n",
              "      <td>South of Market</td>\n",
              "      <td>SOUTHERN</td>\n",
              "      <td>37.772469</td>\n",
              "      <td>-122.416618</td>\n",
              "      <td>Mobile/Open311</td>\n",
              "    </tr>\n",
              "    <tr>\n",
              "      <th>6480398</th>\n",
              "      <td>2016-10-31 14:05:19</td>\n",
              "      <td>2016-11-14 11:11:47</td>\n",
              "      <td>2016-11-14 11:11:47</td>\n",
              "      <td>Closed</td>\n",
              "      <td>Case Resolved - graffiti has been removed</td>\n",
              "      <td>PUC - Water - Graffiti Queue</td>\n",
              "      <td>Graffiti</td>\n",
              "      <td>Graffiti on Fire_hydrant</td>\n",
              "      <td>Fire_hydrant - Not_Offensive</td>\n",
              "      <td>Intersection of BUSH ST and GRANT AVE</td>\n",
              "      <td>BUSH ST</td>\n",
              "      <td>3</td>\n",
              "      <td>Downtown / Union Square</td>\n",
              "      <td>CENTRAL</td>\n",
              "      <td>37.790691</td>\n",
              "      <td>-122.405594</td>\n",
              "      <td>Mobile/Open311</td>\n",
              "    </tr>\n",
              "    <tr>\n",
              "      <th>6476403</th>\n",
              "      <td>2016-10-30 13:51:00</td>\n",
              "      <td>2016-11-01 19:15:33</td>\n",
              "      <td>2016-11-01 19:15:33</td>\n",
              "      <td>Closed</td>\n",
              "      <td>Case Resolved - 10-98</td>\n",
              "      <td>DPW Ops Queue</td>\n",
              "      <td>Street and Sidewalk Cleaning</td>\n",
              "      <td>Medical Waste</td>\n",
              "      <td>Needles</td>\n",
              "      <td>535 ALABAMA ST, SAN FRANCISCO, CA, 94110</td>\n",
              "      <td>ALABAMA ST</td>\n",
              "      <td>9</td>\n",
              "      <td>Mission</td>\n",
              "      <td>MISSION</td>\n",
              "      <td>37.762592</td>\n",
              "      <td>-122.412109</td>\n",
              "      <td>Mobile/Open311</td>\n",
              "    </tr>\n",
              "  </tbody>\n",
              "</table>\n",
              "</div>\n",
              "      <button class=\"colab-df-convert\" onclick=\"convertToInteractive('df-a9044e93-326e-4b1a-95b6-374be74f4af0')\"\n",
              "              title=\"Convert this dataframe to an interactive table.\"\n",
              "              style=\"display:none;\">\n",
              "        \n",
              "  <svg xmlns=\"http://www.w3.org/2000/svg\" height=\"24px\"viewBox=\"0 0 24 24\"\n",
              "       width=\"24px\">\n",
              "    <path d=\"M0 0h24v24H0V0z\" fill=\"none\"/>\n",
              "    <path d=\"M18.56 5.44l.94 2.06.94-2.06 2.06-.94-2.06-.94-.94-2.06-.94 2.06-2.06.94zm-11 1L8.5 8.5l.94-2.06 2.06-.94-2.06-.94L8.5 2.5l-.94 2.06-2.06.94zm10 10l.94 2.06.94-2.06 2.06-.94-2.06-.94-.94-2.06-.94 2.06-2.06.94z\"/><path d=\"M17.41 7.96l-1.37-1.37c-.4-.4-.92-.59-1.43-.59-.52 0-1.04.2-1.43.59L10.3 9.45l-7.72 7.72c-.78.78-.78 2.05 0 2.83L4 21.41c.39.39.9.59 1.41.59.51 0 1.02-.2 1.41-.59l7.78-7.78 2.81-2.81c.8-.78.8-2.07 0-2.86zM5.41 20L4 18.59l7.72-7.72 1.47 1.35L5.41 20z\"/>\n",
              "  </svg>\n",
              "      </button>\n",
              "      \n",
              "  <style>\n",
              "    .colab-df-container {\n",
              "      display:flex;\n",
              "      flex-wrap:wrap;\n",
              "      gap: 12px;\n",
              "    }\n",
              "\n",
              "    .colab-df-convert {\n",
              "      background-color: #E8F0FE;\n",
              "      border: none;\n",
              "      border-radius: 50%;\n",
              "      cursor: pointer;\n",
              "      display: none;\n",
              "      fill: #1967D2;\n",
              "      height: 32px;\n",
              "      padding: 0 0 0 0;\n",
              "      width: 32px;\n",
              "    }\n",
              "\n",
              "    .colab-df-convert:hover {\n",
              "      background-color: #E2EBFA;\n",
              "      box-shadow: 0px 1px 2px rgba(60, 64, 67, 0.3), 0px 1px 3px 1px rgba(60, 64, 67, 0.15);\n",
              "      fill: #174EA6;\n",
              "    }\n",
              "\n",
              "    [theme=dark] .colab-df-convert {\n",
              "      background-color: #3B4455;\n",
              "      fill: #D2E3FC;\n",
              "    }\n",
              "\n",
              "    [theme=dark] .colab-df-convert:hover {\n",
              "      background-color: #434B5C;\n",
              "      box-shadow: 0px 1px 3px 1px rgba(0, 0, 0, 0.15);\n",
              "      filter: drop-shadow(0px 1px 2px rgba(0, 0, 0, 0.3));\n",
              "      fill: #FFFFFF;\n",
              "    }\n",
              "  </style>\n",
              "\n",
              "      <script>\n",
              "        const buttonEl =\n",
              "          document.querySelector('#df-a9044e93-326e-4b1a-95b6-374be74f4af0 button.colab-df-convert');\n",
              "        buttonEl.style.display =\n",
              "          google.colab.kernel.accessAllowed ? 'block' : 'none';\n",
              "\n",
              "        async function convertToInteractive(key) {\n",
              "          const element = document.querySelector('#df-a9044e93-326e-4b1a-95b6-374be74f4af0');\n",
              "          const dataTable =\n",
              "            await google.colab.kernel.invokeFunction('convertToInteractive',\n",
              "                                                     [key], {});\n",
              "          if (!dataTable) return;\n",
              "\n",
              "          const docLinkHtml = 'Like what you see? Visit the ' +\n",
              "            '<a target=\"_blank\" href=https://colab.research.google.com/notebooks/data_table.ipynb>data table notebook</a>'\n",
              "            + ' to learn more about interactive tables.';\n",
              "          element.innerHTML = '';\n",
              "          dataTable['output_type'] = 'display_data';\n",
              "          await google.colab.output.renderOutput(dataTable, element);\n",
              "          const docLink = document.createElement('div');\n",
              "          docLink.innerHTML = docLinkHtml;\n",
              "          element.appendChild(docLink);\n",
              "        }\n",
              "      </script>\n",
              "    </div>\n",
              "  </div>\n",
              "  "
            ]
          },
          "metadata": {},
          "execution_count": 23
        }
      ],
      "source": [
        "df.sample(n=3)"
      ]
    },
    {
      "cell_type": "code",
      "execution_count": 24,
      "metadata": {
        "colab": {
          "base_uri": "https://localhost:8080/"
        },
        "id": "l29P7Dhd9P2D",
        "outputId": "b64dbd6f-9489-4fbc-91ec-c9d79240108e"
      },
      "outputs": [
        {
          "output_type": "stream",
          "name": "stdout",
          "text": [
            "<class 'pandas.core.frame.DataFrame'>\n",
            "Int64Index: 2437 entries, 721686 to 16205667\n",
            "Data columns (total 17 columns):\n",
            " #   Column               Non-Null Count  Dtype         \n",
            "---  ------               --------------  -----         \n",
            " 0   opened               2437 non-null   datetime64[ns]\n",
            " 1   closed               2435 non-null   datetime64[ns]\n",
            " 2   updated              2437 non-null   datetime64[ns]\n",
            " 3   status               2437 non-null   category      \n",
            " 4   status_notes         2437 non-null   object        \n",
            " 5   responsible_agency   2437 non-null   object        \n",
            " 6   category             2437 non-null   object        \n",
            " 7   request_type         2437 non-null   object        \n",
            " 8   request_details      2437 non-null   object        \n",
            " 9   address              2437 non-null   object        \n",
            " 10  street               2315 non-null   object        \n",
            " 11  supervisor_district  2315 non-null   category      \n",
            " 12  neighborhood         2310 non-null   object        \n",
            " 13  police_district      2307 non-null   category      \n",
            " 14  latitude             2437 non-null   float32       \n",
            " 15  longitude            2437 non-null   float32       \n",
            " 16  source               2437 non-null   category      \n",
            "dtypes: category(4), datetime64[ns](3), float32(2), object(8)\n",
            "memory usage: 258.0+ KB\n"
          ]
        }
      ],
      "source": [
        "df.info()"
      ]
    },
    {
      "cell_type": "code",
      "execution_count": 25,
      "metadata": {
        "colab": {
          "base_uri": "https://localhost:8080/"
        },
        "id": "0XEtlQok09RS",
        "outputId": "b3d96366-6b34-478b-cb9d-56d414e4b300"
      },
      "outputs": [
        {
          "output_type": "stream",
          "name": "stdout",
          "text": [
            "Nbr unique values per column, out of total of 2437 rows\n",
            "\n",
            "opened                 2435\n",
            "closed                 2380\n",
            "updated                2381\n",
            "status                    2\n",
            "status_notes            796\n",
            "responsible_agency       85\n",
            "category                 34\n",
            "request_type            142\n",
            "request_details         327\n",
            "address                2021\n",
            "street                  588\n",
            "supervisor_district      13\n",
            "neighborhood            110\n",
            "police_district          11\n",
            "latitude               2120\n",
            "longitude              1963\n",
            "source                    6\n",
            "dtype: int64\n"
          ]
        }
      ],
      "source": [
        "# nbr unique for each col\n",
        "print('Nbr unique values per column, out of total of',df.shape[0],'rows\\n')\n",
        "print(df.nunique(dropna=False))"
      ]
    },
    {
      "cell_type": "markdown",
      "source": [
        "### Consider Catagorical Features"
      ],
      "metadata": {
        "id": "AQU-rVCO3968"
      }
    },
    {
      "cell_type": "code",
      "source": [
        "# These are numbers, but not measures\n",
        "# Does the number indicate a supervisor or (more likely) an area of the city?\n",
        "# How does this district compare to 'Police District' or 'Neighborhood'?\n",
        "# There are 13 Supervisor Districts and 11 Police Districts, (118 Neighborhoods) -\n",
        "#      are the line designating these districts the same?\n",
        "df.supervisor_district.value_counts()\n"
      ],
      "metadata": {
        "colab": {
          "base_uri": "https://localhost:8080/"
        },
        "id": "tkm6eURHfBwe",
        "outputId": "9236bb7e-ff42-41a8-bf5c-35e14d87943c"
      },
      "execution_count": 27,
      "outputs": [
        {
          "output_type": "execute_result",
          "data": {
            "text/plain": [
              "9     388\n",
              "6     368\n",
              "3     319\n",
              "8     235\n",
              "1     218\n",
              "10    208\n",
              "5     203\n",
              "11    112\n",
              "4      97\n",
              "2      89\n",
              "7      73\n",
              "0       5\n",
              "Name: supervisor_district, dtype: int64"
            ]
          },
          "metadata": {},
          "execution_count": 27
        }
      ]
    },
    {
      "cell_type": "code",
      "source": [
        "df.police_district.value_counts()\n",
        "# ALLCAPS"
      ],
      "metadata": {
        "colab": {
          "base_uri": "https://localhost:8080/"
        },
        "id": "AbOB7663fKpN",
        "outputId": "afebfcf8-0eef-4650-dafe-b61c1ca5e32b"
      },
      "execution_count": 28,
      "outputs": [
        {
          "output_type": "execute_result",
          "data": {
            "text/plain": [
              "MISSION       503\n",
              "SOUTHERN      330\n",
              "CENTRAL       294\n",
              "RICHMOND      235\n",
              "NORTHERN      218\n",
              "INGLESIDE     212\n",
              "BAYVIEW       183\n",
              "TARAVAL       176\n",
              "PARK          119\n",
              "TENDERLOIN     37\n",
              "Name: police_district, dtype: int64"
            ]
          },
          "metadata": {},
          "execution_count": 28
        }
      ]
    },
    {
      "cell_type": "code",
      "source": [
        "df.source.value_counts()"
      ],
      "metadata": {
        "colab": {
          "base_uri": "https://localhost:8080/"
        },
        "id": "DX-xB1J-qpRv",
        "outputId": "9dfc534b-4f15-415f-fc0e-66b26e2b05ee"
      },
      "execution_count": 29,
      "outputs": [
        {
          "output_type": "execute_result",
          "data": {
            "text/plain": [
              "Mobile/Open311       1267\n",
              "Phone                 772\n",
              "Web                   323\n",
              "Integrated Agency      66\n",
              "Twitter                 7\n",
              "Other Department        2\n",
              "Name: source, dtype: int64"
            ]
          },
          "metadata": {},
          "execution_count": 29
        }
      ]
    },
    {
      "cell_type": "code",
      "execution_count": 30,
      "metadata": {
        "colab": {
          "base_uri": "https://localhost:8080/"
        },
        "id": "sDssiQrQMVRF",
        "outputId": "9abb46aa-feca-44e5-a58c-9df42be2b56b"
      },
      "outputs": [
        {
          "output_type": "stream",
          "name": "stdout",
          "text": [
            "CaseID\n",
            "6483674                    Case Resolved - Pickup completed.\n",
            "6484911    Case Resolved - PRIVATE PROPERTY;PENDING PIO I...\n",
            "6489042           Case Resolved - 11/4/16 ALREADY POSTED. RC\n",
            "6491858                                Case Resolved - 10/98\n",
            "6478450                                        Case Resolved\n",
            "6472380                                     Case Transferred\n",
            "6497155      Case is a Duplicate - Duplicate case of 6497334\n",
            "6489912                    Case Resolved - Pickup completed.\n",
            "Name: status_notes, dtype: object\n"
          ]
        }
      ],
      "source": [
        "print(df['status_notes'].sample(n=8))"
      ]
    },
    {
      "cell_type": "code",
      "source": [
        "df.status_notes.value_counts()"
      ],
      "metadata": {
        "colab": {
          "base_uri": "https://localhost:8080/"
        },
        "id": "SDd9mq3oOGj3",
        "outputId": "20d83de2-c13d-4eb3-bebd-0550b009a7dc"
      },
      "execution_count": 31,
      "outputs": [
        {
          "output_type": "execute_result",
          "data": {
            "text/plain": [
              "Case Resolved                                                                                                                                                                             394\n",
              "Case Resolved - Pickup completed.                                                                                                                                                         287\n",
              "Case Transferred                                                                                                                                                                          114\n",
              "Scheduled                                                                                                                                                                                  68\n",
              "Case Resolved - 10-98                                                                                                                                                                      66\n",
              "                                                                                                                                                                                         ... \n",
              "Case is a Duplicate - 11/02/16  DUPLICATE COMPLAINT                SR # 6485783                                                                                                             1\n",
              "Case is a Duplicate - Duplicate with case 6484856                                                                                                                                           1\n",
              "Case Resolved - 11/4/16: Spoke with Owner Mike, he Will inform his staff to no longer serve food to the parklet customers he has pagers on order for customers to use for future. GS -      1\n",
              "Case Resolved - Signs removed.                                                                                                                                                              1\n",
              "Case closed - Case resolved                                                                                                                                                                 1\n",
              "Name: status_notes, Length: 796, dtype: int64"
            ]
          },
          "metadata": {},
          "execution_count": 31
        }
      ]
    },
    {
      "cell_type": "code",
      "source": [
        "# Should these been changed? Maybe add col for 'case_resolved'?\n",
        "\n",
        "df_quick = df.query(\"status_notes.str.contains('Case Resolved').values\")\n",
        "df_quick.filter(['status', 'status_notes'])\n",
        "#del df_quick"
      ],
      "metadata": {
        "id": "MXFJ_HA82E84",
        "colab": {
          "base_uri": "https://localhost:8080/",
          "height": 450
        },
        "outputId": "7da7ca9f-4112-4aff-9255-864617d3e809"
      },
      "execution_count": 32,
      "outputs": [
        {
          "output_type": "execute_result",
          "data": {
            "text/plain": [
              "          status                                       status_notes\n",
              "CaseID                                                             \n",
              "6278946   Closed                   Case Resolved - Completed.......\n",
              "6471253   Closed  Case Resolved - Maximo Service Request has bee...\n",
              "6471273   Closed  Case Resolved - WASTE NOT FOUND               ...\n",
              "6471317   Closed  Case Resolved - Customer called 311 and was pr...\n",
              "6471338   Closed                                      Case Resolved\n",
              "...          ...                                                ...\n",
              "10401883  Closed                  Case Resolved - Pickup completed.\n",
              "10405876  Closed                  Case Resolved - Pickup completed.\n",
              "15560868  Closed                  Case Resolved - Pickup completed.\n",
              "15564300  Closed                                      Case Resolved\n",
              "16205667  Closed                                      Case Resolved\n",
              "\n",
              "[1844 rows x 2 columns]"
            ],
            "text/html": [
              "\n",
              "  <div id=\"df-8d6b53af-92f0-4cc0-b7ab-f4d0313366de\">\n",
              "    <div class=\"colab-df-container\">\n",
              "      <div>\n",
              "<style scoped>\n",
              "    .dataframe tbody tr th:only-of-type {\n",
              "        vertical-align: middle;\n",
              "    }\n",
              "\n",
              "    .dataframe tbody tr th {\n",
              "        vertical-align: top;\n",
              "    }\n",
              "\n",
              "    .dataframe thead th {\n",
              "        text-align: right;\n",
              "    }\n",
              "</style>\n",
              "<table border=\"1\" class=\"dataframe\">\n",
              "  <thead>\n",
              "    <tr style=\"text-align: right;\">\n",
              "      <th></th>\n",
              "      <th>status</th>\n",
              "      <th>status_notes</th>\n",
              "    </tr>\n",
              "    <tr>\n",
              "      <th>CaseID</th>\n",
              "      <th></th>\n",
              "      <th></th>\n",
              "    </tr>\n",
              "  </thead>\n",
              "  <tbody>\n",
              "    <tr>\n",
              "      <th>6278946</th>\n",
              "      <td>Closed</td>\n",
              "      <td>Case Resolved - Completed.......</td>\n",
              "    </tr>\n",
              "    <tr>\n",
              "      <th>6471253</th>\n",
              "      <td>Closed</td>\n",
              "      <td>Case Resolved - Maximo Service Request has bee...</td>\n",
              "    </tr>\n",
              "    <tr>\n",
              "      <th>6471273</th>\n",
              "      <td>Closed</td>\n",
              "      <td>Case Resolved - WASTE NOT FOUND               ...</td>\n",
              "    </tr>\n",
              "    <tr>\n",
              "      <th>6471317</th>\n",
              "      <td>Closed</td>\n",
              "      <td>Case Resolved - Customer called 311 and was pr...</td>\n",
              "    </tr>\n",
              "    <tr>\n",
              "      <th>6471338</th>\n",
              "      <td>Closed</td>\n",
              "      <td>Case Resolved</td>\n",
              "    </tr>\n",
              "    <tr>\n",
              "      <th>...</th>\n",
              "      <td>...</td>\n",
              "      <td>...</td>\n",
              "    </tr>\n",
              "    <tr>\n",
              "      <th>10401883</th>\n",
              "      <td>Closed</td>\n",
              "      <td>Case Resolved - Pickup completed.</td>\n",
              "    </tr>\n",
              "    <tr>\n",
              "      <th>10405876</th>\n",
              "      <td>Closed</td>\n",
              "      <td>Case Resolved - Pickup completed.</td>\n",
              "    </tr>\n",
              "    <tr>\n",
              "      <th>15560868</th>\n",
              "      <td>Closed</td>\n",
              "      <td>Case Resolved - Pickup completed.</td>\n",
              "    </tr>\n",
              "    <tr>\n",
              "      <th>15564300</th>\n",
              "      <td>Closed</td>\n",
              "      <td>Case Resolved</td>\n",
              "    </tr>\n",
              "    <tr>\n",
              "      <th>16205667</th>\n",
              "      <td>Closed</td>\n",
              "      <td>Case Resolved</td>\n",
              "    </tr>\n",
              "  </tbody>\n",
              "</table>\n",
              "<p>1844 rows × 2 columns</p>\n",
              "</div>\n",
              "      <button class=\"colab-df-convert\" onclick=\"convertToInteractive('df-8d6b53af-92f0-4cc0-b7ab-f4d0313366de')\"\n",
              "              title=\"Convert this dataframe to an interactive table.\"\n",
              "              style=\"display:none;\">\n",
              "        \n",
              "  <svg xmlns=\"http://www.w3.org/2000/svg\" height=\"24px\"viewBox=\"0 0 24 24\"\n",
              "       width=\"24px\">\n",
              "    <path d=\"M0 0h24v24H0V0z\" fill=\"none\"/>\n",
              "    <path d=\"M18.56 5.44l.94 2.06.94-2.06 2.06-.94-2.06-.94-.94-2.06-.94 2.06-2.06.94zm-11 1L8.5 8.5l.94-2.06 2.06-.94-2.06-.94L8.5 2.5l-.94 2.06-2.06.94zm10 10l.94 2.06.94-2.06 2.06-.94-2.06-.94-.94-2.06-.94 2.06-2.06.94z\"/><path d=\"M17.41 7.96l-1.37-1.37c-.4-.4-.92-.59-1.43-.59-.52 0-1.04.2-1.43.59L10.3 9.45l-7.72 7.72c-.78.78-.78 2.05 0 2.83L4 21.41c.39.39.9.59 1.41.59.51 0 1.02-.2 1.41-.59l7.78-7.78 2.81-2.81c.8-.78.8-2.07 0-2.86zM5.41 20L4 18.59l7.72-7.72 1.47 1.35L5.41 20z\"/>\n",
              "  </svg>\n",
              "      </button>\n",
              "      \n",
              "  <style>\n",
              "    .colab-df-container {\n",
              "      display:flex;\n",
              "      flex-wrap:wrap;\n",
              "      gap: 12px;\n",
              "    }\n",
              "\n",
              "    .colab-df-convert {\n",
              "      background-color: #E8F0FE;\n",
              "      border: none;\n",
              "      border-radius: 50%;\n",
              "      cursor: pointer;\n",
              "      display: none;\n",
              "      fill: #1967D2;\n",
              "      height: 32px;\n",
              "      padding: 0 0 0 0;\n",
              "      width: 32px;\n",
              "    }\n",
              "\n",
              "    .colab-df-convert:hover {\n",
              "      background-color: #E2EBFA;\n",
              "      box-shadow: 0px 1px 2px rgba(60, 64, 67, 0.3), 0px 1px 3px 1px rgba(60, 64, 67, 0.15);\n",
              "      fill: #174EA6;\n",
              "    }\n",
              "\n",
              "    [theme=dark] .colab-df-convert {\n",
              "      background-color: #3B4455;\n",
              "      fill: #D2E3FC;\n",
              "    }\n",
              "\n",
              "    [theme=dark] .colab-df-convert:hover {\n",
              "      background-color: #434B5C;\n",
              "      box-shadow: 0px 1px 3px 1px rgba(0, 0, 0, 0.15);\n",
              "      filter: drop-shadow(0px 1px 2px rgba(0, 0, 0, 0.3));\n",
              "      fill: #FFFFFF;\n",
              "    }\n",
              "  </style>\n",
              "\n",
              "      <script>\n",
              "        const buttonEl =\n",
              "          document.querySelector('#df-8d6b53af-92f0-4cc0-b7ab-f4d0313366de button.colab-df-convert');\n",
              "        buttonEl.style.display =\n",
              "          google.colab.kernel.accessAllowed ? 'block' : 'none';\n",
              "\n",
              "        async function convertToInteractive(key) {\n",
              "          const element = document.querySelector('#df-8d6b53af-92f0-4cc0-b7ab-f4d0313366de');\n",
              "          const dataTable =\n",
              "            await google.colab.kernel.invokeFunction('convertToInteractive',\n",
              "                                                     [key], {});\n",
              "          if (!dataTable) return;\n",
              "\n",
              "          const docLinkHtml = 'Like what you see? Visit the ' +\n",
              "            '<a target=\"_blank\" href=https://colab.research.google.com/notebooks/data_table.ipynb>data table notebook</a>'\n",
              "            + ' to learn more about interactive tables.';\n",
              "          element.innerHTML = '';\n",
              "          dataTable['output_type'] = 'display_data';\n",
              "          await google.colab.output.renderOutput(dataTable, element);\n",
              "          const docLink = document.createElement('div');\n",
              "          docLink.innerHTML = docLinkHtml;\n",
              "          element.appendChild(docLink);\n",
              "        }\n",
              "      </script>\n",
              "    </div>\n",
              "  </div>\n",
              "  "
            ]
          },
          "metadata": {},
          "execution_count": 32
        }
      ]
    },
    {
      "cell_type": "code",
      "execution_count": 33,
      "metadata": {
        "colab": {
          "base_uri": "https://localhost:8080/"
        },
        "id": "8u1TzGhpcTF_",
        "outputId": "bc747d75-4a4f-4363-9fea-4e140ade1d67"
      },
      "outputs": [
        {
          "output_type": "execute_result",
          "data": {
            "text/plain": [
              "Bulky Items                                         440\n",
              "General Cleaning                                    349\n",
              "Encampment Reports                                  165\n",
              "Human or Animal Waste                               111\n",
              "Graffiti on Building_commercial                      74\n",
              "Abandoned Vehicles                                   70\n",
              "request_for_service                                  56\n",
              "Hazardous Materials                                  48\n",
              "Graffiti on Other_enter_additional_details_below     45\n",
              "Individual Concerns                                  42\n",
              "Name: request_type, dtype: int64"
            ]
          },
          "metadata": {},
          "execution_count": 33
        }
      ],
      "source": [
        "# Request type: most common 'General Cleaning' & 'Bulky Items'\n",
        "df['request_type'].value_counts().nlargest(n=10)\n"
      ]
    },
    {
      "cell_type": "code",
      "execution_count": 35,
      "metadata": {
        "colab": {
          "base_uri": "https://localhost:8080/",
          "height": 359
        },
        "id": "KrGhpusqdmhU",
        "outputId": "f8dcadd3-0997-47af-f8bd-bf4a3f12193f"
      },
      "outputs": [
        {
          "output_type": "execute_result",
          "data": {
            "text/plain": [
              "                     opened closed             updated status status_notes  \\\n",
              "CaseID                                                                       \n",
              "6472767 2016-10-28 23:52:37    NaT 2016-10-28 23:52:37   Open     accepted   \n",
              "6497603 2016-11-04 17:00:27    NaT 2016-11-04 17:03:33   Open     accepted   \n",
              "\n",
              "                                 responsible_agency  \\\n",
              "CaseID                                                \n",
              "6472767                      PUC Streetlights Queue   \n",
              "6497603  DPW - Bureau of Street Use and Mapping - G   \n",
              "\n",
              "                               category  \\\n",
              "CaseID                                    \n",
              "6472767                    Streetlights   \n",
              "6497603  General Request - PUBLIC WORKS   \n",
              "\n",
              "                                        request_type  \\\n",
              "CaseID                                                 \n",
              "6472767  Streetlight - Other_Request_New_Streetlight   \n",
              "6497603                            customer_callback   \n",
              "\n",
              "                                     request_details  \\\n",
              "CaseID                                                 \n",
              "6472767  Other_Request_New_Streetlight on Metal Pole   \n",
              "6497603                      bsm - customer_callback   \n",
              "\n",
              "                                                  address     street  \\\n",
              "CaseID                                                                 \n",
              "6472767  Intersection of MARKET ST and SOUTH VAN NESS AVE  MARKET ST   \n",
              "6497603                Intersection of 4TH ST and KING ST     4TH ST   \n",
              "\n",
              "        supervisor_district     neighborhood police_district   latitude  \\\n",
              "CaseID                                                                    \n",
              "6472767                   6  South of Market        SOUTHERN  37.775146   \n",
              "6497603                   6      Mission Bay        SOUTHERN  37.776382   \n",
              "\n",
              "          longitude          source  \n",
              "CaseID                               \n",
              "6472767 -122.419258  Mobile/Open311  \n",
              "6497603 -122.394096           Phone  "
            ],
            "text/html": [
              "\n",
              "  <div id=\"df-da4b5d7e-7e4a-4876-bae2-2aa190d36350\">\n",
              "    <div class=\"colab-df-container\">\n",
              "      <div>\n",
              "<style scoped>\n",
              "    .dataframe tbody tr th:only-of-type {\n",
              "        vertical-align: middle;\n",
              "    }\n",
              "\n",
              "    .dataframe tbody tr th {\n",
              "        vertical-align: top;\n",
              "    }\n",
              "\n",
              "    .dataframe thead th {\n",
              "        text-align: right;\n",
              "    }\n",
              "</style>\n",
              "<table border=\"1\" class=\"dataframe\">\n",
              "  <thead>\n",
              "    <tr style=\"text-align: right;\">\n",
              "      <th></th>\n",
              "      <th>opened</th>\n",
              "      <th>closed</th>\n",
              "      <th>updated</th>\n",
              "      <th>status</th>\n",
              "      <th>status_notes</th>\n",
              "      <th>responsible_agency</th>\n",
              "      <th>category</th>\n",
              "      <th>request_type</th>\n",
              "      <th>request_details</th>\n",
              "      <th>address</th>\n",
              "      <th>street</th>\n",
              "      <th>supervisor_district</th>\n",
              "      <th>neighborhood</th>\n",
              "      <th>police_district</th>\n",
              "      <th>latitude</th>\n",
              "      <th>longitude</th>\n",
              "      <th>source</th>\n",
              "    </tr>\n",
              "    <tr>\n",
              "      <th>CaseID</th>\n",
              "      <th></th>\n",
              "      <th></th>\n",
              "      <th></th>\n",
              "      <th></th>\n",
              "      <th></th>\n",
              "      <th></th>\n",
              "      <th></th>\n",
              "      <th></th>\n",
              "      <th></th>\n",
              "      <th></th>\n",
              "      <th></th>\n",
              "      <th></th>\n",
              "      <th></th>\n",
              "      <th></th>\n",
              "      <th></th>\n",
              "      <th></th>\n",
              "      <th></th>\n",
              "    </tr>\n",
              "  </thead>\n",
              "  <tbody>\n",
              "    <tr>\n",
              "      <th>6472767</th>\n",
              "      <td>2016-10-28 23:52:37</td>\n",
              "      <td>NaT</td>\n",
              "      <td>2016-10-28 23:52:37</td>\n",
              "      <td>Open</td>\n",
              "      <td>accepted</td>\n",
              "      <td>PUC Streetlights Queue</td>\n",
              "      <td>Streetlights</td>\n",
              "      <td>Streetlight - Other_Request_New_Streetlight</td>\n",
              "      <td>Other_Request_New_Streetlight on Metal Pole</td>\n",
              "      <td>Intersection of MARKET ST and SOUTH VAN NESS AVE</td>\n",
              "      <td>MARKET ST</td>\n",
              "      <td>6</td>\n",
              "      <td>South of Market</td>\n",
              "      <td>SOUTHERN</td>\n",
              "      <td>37.775146</td>\n",
              "      <td>-122.419258</td>\n",
              "      <td>Mobile/Open311</td>\n",
              "    </tr>\n",
              "    <tr>\n",
              "      <th>6497603</th>\n",
              "      <td>2016-11-04 17:00:27</td>\n",
              "      <td>NaT</td>\n",
              "      <td>2016-11-04 17:03:33</td>\n",
              "      <td>Open</td>\n",
              "      <td>accepted</td>\n",
              "      <td>DPW - Bureau of Street Use and Mapping - G</td>\n",
              "      <td>General Request - PUBLIC WORKS</td>\n",
              "      <td>customer_callback</td>\n",
              "      <td>bsm - customer_callback</td>\n",
              "      <td>Intersection of 4TH ST and KING ST</td>\n",
              "      <td>4TH ST</td>\n",
              "      <td>6</td>\n",
              "      <td>Mission Bay</td>\n",
              "      <td>SOUTHERN</td>\n",
              "      <td>37.776382</td>\n",
              "      <td>-122.394096</td>\n",
              "      <td>Phone</td>\n",
              "    </tr>\n",
              "  </tbody>\n",
              "</table>\n",
              "</div>\n",
              "      <button class=\"colab-df-convert\" onclick=\"convertToInteractive('df-da4b5d7e-7e4a-4876-bae2-2aa190d36350')\"\n",
              "              title=\"Convert this dataframe to an interactive table.\"\n",
              "              style=\"display:none;\">\n",
              "        \n",
              "  <svg xmlns=\"http://www.w3.org/2000/svg\" height=\"24px\"viewBox=\"0 0 24 24\"\n",
              "       width=\"24px\">\n",
              "    <path d=\"M0 0h24v24H0V0z\" fill=\"none\"/>\n",
              "    <path d=\"M18.56 5.44l.94 2.06.94-2.06 2.06-.94-2.06-.94-.94-2.06-.94 2.06-2.06.94zm-11 1L8.5 8.5l.94-2.06 2.06-.94-2.06-.94L8.5 2.5l-.94 2.06-2.06.94zm10 10l.94 2.06.94-2.06 2.06-.94-2.06-.94-.94-2.06-.94 2.06-2.06.94z\"/><path d=\"M17.41 7.96l-1.37-1.37c-.4-.4-.92-.59-1.43-.59-.52 0-1.04.2-1.43.59L10.3 9.45l-7.72 7.72c-.78.78-.78 2.05 0 2.83L4 21.41c.39.39.9.59 1.41.59.51 0 1.02-.2 1.41-.59l7.78-7.78 2.81-2.81c.8-.78.8-2.07 0-2.86zM5.41 20L4 18.59l7.72-7.72 1.47 1.35L5.41 20z\"/>\n",
              "  </svg>\n",
              "      </button>\n",
              "      \n",
              "  <style>\n",
              "    .colab-df-container {\n",
              "      display:flex;\n",
              "      flex-wrap:wrap;\n",
              "      gap: 12px;\n",
              "    }\n",
              "\n",
              "    .colab-df-convert {\n",
              "      background-color: #E8F0FE;\n",
              "      border: none;\n",
              "      border-radius: 50%;\n",
              "      cursor: pointer;\n",
              "      display: none;\n",
              "      fill: #1967D2;\n",
              "      height: 32px;\n",
              "      padding: 0 0 0 0;\n",
              "      width: 32px;\n",
              "    }\n",
              "\n",
              "    .colab-df-convert:hover {\n",
              "      background-color: #E2EBFA;\n",
              "      box-shadow: 0px 1px 2px rgba(60, 64, 67, 0.3), 0px 1px 3px 1px rgba(60, 64, 67, 0.15);\n",
              "      fill: #174EA6;\n",
              "    }\n",
              "\n",
              "    [theme=dark] .colab-df-convert {\n",
              "      background-color: #3B4455;\n",
              "      fill: #D2E3FC;\n",
              "    }\n",
              "\n",
              "    [theme=dark] .colab-df-convert:hover {\n",
              "      background-color: #434B5C;\n",
              "      box-shadow: 0px 1px 3px 1px rgba(0, 0, 0, 0.15);\n",
              "      filter: drop-shadow(0px 1px 2px rgba(0, 0, 0, 0.3));\n",
              "      fill: #FFFFFF;\n",
              "    }\n",
              "  </style>\n",
              "\n",
              "      <script>\n",
              "        const buttonEl =\n",
              "          document.querySelector('#df-da4b5d7e-7e4a-4876-bae2-2aa190d36350 button.colab-df-convert');\n",
              "        buttonEl.style.display =\n",
              "          google.colab.kernel.accessAllowed ? 'block' : 'none';\n",
              "\n",
              "        async function convertToInteractive(key) {\n",
              "          const element = document.querySelector('#df-da4b5d7e-7e4a-4876-bae2-2aa190d36350');\n",
              "          const dataTable =\n",
              "            await google.colab.kernel.invokeFunction('convertToInteractive',\n",
              "                                                     [key], {});\n",
              "          if (!dataTable) return;\n",
              "\n",
              "          const docLinkHtml = 'Like what you see? Visit the ' +\n",
              "            '<a target=\"_blank\" href=https://colab.research.google.com/notebooks/data_table.ipynb>data table notebook</a>'\n",
              "            + ' to learn more about interactive tables.';\n",
              "          element.innerHTML = '';\n",
              "          dataTable['output_type'] = 'display_data';\n",
              "          await google.colab.output.renderOutput(dataTable, element);\n",
              "          const docLink = document.createElement('div');\n",
              "          docLink.innerHTML = docLinkHtml;\n",
              "          element.appendChild(docLink);\n",
              "        }\n",
              "      </script>\n",
              "    </div>\n",
              "  </div>\n",
              "  "
            ]
          },
          "metadata": {},
          "execution_count": 35
        }
      ],
      "source": [
        "#earliest requests that are still open\n",
        "df[df['status']=='Open'].nsmallest(n=5, columns='opened')\n"
      ]
    },
    {
      "cell_type": "markdown",
      "metadata": {
        "id": "nFyaFsL64Z3i"
      },
      "source": [
        "### Drop rows where 'Status Notes' contains 'Case is a Duplicate'"
      ]
    },
    {
      "cell_type": "code",
      "execution_count": 37,
      "metadata": {
        "colab": {
          "base_uri": "https://localhost:8080/"
        },
        "id": "Z9gWKc141wsf",
        "outputId": "f93d94b7-028c-42c6-a1f5-922dcfb0940d"
      },
      "outputs": [
        {
          "output_type": "stream",
          "name": "stdout",
          "text": [
            "Found 58 rows with \"Status_Notes\" containing \"Case is a Duplicate\"\n",
            "Dropped 58 rows containing \"Case is a Duplicate\"\n"
          ]
        }
      ],
      "source": [
        "# df with 'Status_Notes' contains 'Case is a Duplicate'\n",
        "df_quick = df.query(\"status_notes.str.contains('Case is a Duplicate').values\")\n",
        "\n",
        "#if len(df_quick) > 0:\n",
        "if not df_quick.empty:  \n",
        "  print('Found', df_quick.shape[0],'rows with \"Status_Notes\" containing \"Case is a Duplicate\"')\n",
        "  before_drop = df.shape[0]\n",
        "\n",
        "  # drop those rows\n",
        "  df = df.drop(df_quick.index)\n",
        "\n",
        "  print('Dropped', before_drop - df.shape[0], 'rows containing \"Case is a Duplicate\"')\n",
        "  assert df.shape[0] == before_drop - df_quick.shape[0], 'Dropped unexpected number of rows'\n",
        "  del df_quick"
      ]
    },
    {
      "cell_type": "code",
      "source": [
        "df.shape"
      ],
      "metadata": {
        "colab": {
          "base_uri": "https://localhost:8080/"
        },
        "id": "iRNA5e63Cn5n",
        "outputId": "a261b223-31b9-4011-abbb-1ff208e77813"
      },
      "execution_count": 38,
      "outputs": [
        {
          "output_type": "execute_result",
          "data": {
            "text/plain": [
              "(2379, 17)"
            ]
          },
          "metadata": {},
          "execution_count": 38
        }
      ]
    },
    {
      "cell_type": "markdown",
      "metadata": {
        "id": "LYsexx0RaSp0"
      },
      "source": [
        "###Feature Engineering"
      ]
    },
    {
      "cell_type": "code",
      "execution_count": 39,
      "metadata": {
        "colab": {
          "base_uri": "https://localhost:8080/"
        },
        "id": "08tfn8sWW5t9",
        "outputId": "e7a53d12-317a-4940-9b8d-ef71768b58dd"
      },
      "outputs": [
        {
          "output_type": "execute_result",
          "data": {
            "text/plain": [
              "(2, 15)"
            ]
          },
          "metadata": {},
          "execution_count": 39
        }
      ],
      "source": [
        "# Create dataframe for open 311 cases\n",
        "df_open = df[df['status']=='Open'].copy()\n",
        "\n",
        "# don't need these cols\n",
        "df_open = df_open.drop(columns=['closed','status'])\n",
        "df_open.shape"
      ]
    },
    {
      "cell_type": "code",
      "execution_count": 40,
      "metadata": {
        "colab": {
          "base_uri": "https://localhost:8080/"
        },
        "id": "d28sunPpXCn_",
        "outputId": "5774c16d-a5a0-4a84-cf23-f6b2c478a2a6"
      },
      "outputs": [
        {
          "output_type": "execute_result",
          "data": {
            "text/plain": [
              "(2377, 16)"
            ]
          },
          "metadata": {},
          "execution_count": 40
        }
      ],
      "source": [
        "# Create dataframe for closed 311 cases\n",
        "df_closed = df[df['status']=='Closed'].copy()\n",
        "df_closed = df_closed.drop(columns='status')\n",
        "df_closed.shape"
      ]
    },
    {
      "cell_type": "code",
      "execution_count": 41,
      "metadata": {
        "id": "45gJ1KL3VaoN"
      },
      "outputs": [],
      "source": [
        "# new cols...\n",
        "#  calculate how long open cases have been open (days_open)\n",
        "#  calculate processing_days for closed cases\n",
        "#  break out year opened\n",
        "#  create col for month & year combined\n",
        "\n",
        "# for df_open (cases still open)\n",
        "df_open['days_open'] = (datetime.now() - df_open['opened']).astype(\"timedelta64[D]\").astype('int')\n",
        "\n",
        "# for df_closed (cases that have been closed)\n",
        "df_closed['opened_month_year'] = df_closed['opened'].dt.to_period('M')\n",
        "df_closed['opened_year'] = df_closed['opened'].dt.year\n",
        "df_closed['processing_days'] = (df_closed['closed'] - df_closed['opened']).astype(\"timedelta64[D]\").astype('int')\n",
        "\n",
        "# processing_days is < 1 if Closed date is earlier than Opened date, set to 1 (1 day to close)\n",
        "df_closed.loc[df_closed['processing_days'] < 1, 'processing_days'] = 1"
      ]
    },
    {
      "cell_type": "code",
      "source": [
        "df_closed.filter(['opened', 'closed', 'opened_month_year', 'opened_year', 'processing_days']).sample(10)"
      ],
      "metadata": {
        "colab": {
          "base_uri": "https://localhost:8080/",
          "height": 390
        },
        "id": "2t_O94L7FKYo",
        "outputId": "ce6ff61b-ab49-45db-d69b-0087189d9310"
      },
      "execution_count": 42,
      "outputs": [
        {
          "output_type": "execute_result",
          "data": {
            "text/plain": [
              "                     opened              closed opened_month_year  \\\n",
              "CaseID                                                              \n",
              "6503973 2016-11-07 08:10:39 2016-11-07 14:10:42           2016-11   \n",
              "6473656 2016-10-29 11:07:10 2016-10-29 12:23:02           2016-10   \n",
              "6498275 2016-11-04 23:30:37 2016-11-09 14:00:03           2016-11   \n",
              "6503627 2016-11-07 06:12:03 2016-11-07 10:03:02           2016-11   \n",
              "6475770 2016-10-30 10:08:38 2016-11-08 15:34:24           2016-10   \n",
              "6472048 2016-10-28 16:03:43 2016-11-04 09:05:53           2016-10   \n",
              "6490288 2016-11-02 20:18:38 2016-11-02 22:10:11           2016-11   \n",
              "6278946 2016-09-06 09:56:15 2016-10-17 19:16:08           2016-09   \n",
              "6487958 2016-11-02 11:20:51 2016-11-02 13:54:04           2016-11   \n",
              "6505144 2016-11-07 10:35:53 2016-11-08 16:11:52           2016-11   \n",
              "\n",
              "         opened_year  processing_days  \n",
              "CaseID                                 \n",
              "6503973         2016                1  \n",
              "6473656         2016                1  \n",
              "6498275         2016                4  \n",
              "6503627         2016                1  \n",
              "6475770         2016                9  \n",
              "6472048         2016                6  \n",
              "6490288         2016                1  \n",
              "6278946         2016               41  \n",
              "6487958         2016                1  \n",
              "6505144         2016                1  "
            ],
            "text/html": [
              "\n",
              "  <div id=\"df-ef602e50-9f02-4559-9521-3827c9a360c6\">\n",
              "    <div class=\"colab-df-container\">\n",
              "      <div>\n",
              "<style scoped>\n",
              "    .dataframe tbody tr th:only-of-type {\n",
              "        vertical-align: middle;\n",
              "    }\n",
              "\n",
              "    .dataframe tbody tr th {\n",
              "        vertical-align: top;\n",
              "    }\n",
              "\n",
              "    .dataframe thead th {\n",
              "        text-align: right;\n",
              "    }\n",
              "</style>\n",
              "<table border=\"1\" class=\"dataframe\">\n",
              "  <thead>\n",
              "    <tr style=\"text-align: right;\">\n",
              "      <th></th>\n",
              "      <th>opened</th>\n",
              "      <th>closed</th>\n",
              "      <th>opened_month_year</th>\n",
              "      <th>opened_year</th>\n",
              "      <th>processing_days</th>\n",
              "    </tr>\n",
              "    <tr>\n",
              "      <th>CaseID</th>\n",
              "      <th></th>\n",
              "      <th></th>\n",
              "      <th></th>\n",
              "      <th></th>\n",
              "      <th></th>\n",
              "    </tr>\n",
              "  </thead>\n",
              "  <tbody>\n",
              "    <tr>\n",
              "      <th>6503973</th>\n",
              "      <td>2016-11-07 08:10:39</td>\n",
              "      <td>2016-11-07 14:10:42</td>\n",
              "      <td>2016-11</td>\n",
              "      <td>2016</td>\n",
              "      <td>1</td>\n",
              "    </tr>\n",
              "    <tr>\n",
              "      <th>6473656</th>\n",
              "      <td>2016-10-29 11:07:10</td>\n",
              "      <td>2016-10-29 12:23:02</td>\n",
              "      <td>2016-10</td>\n",
              "      <td>2016</td>\n",
              "      <td>1</td>\n",
              "    </tr>\n",
              "    <tr>\n",
              "      <th>6498275</th>\n",
              "      <td>2016-11-04 23:30:37</td>\n",
              "      <td>2016-11-09 14:00:03</td>\n",
              "      <td>2016-11</td>\n",
              "      <td>2016</td>\n",
              "      <td>4</td>\n",
              "    </tr>\n",
              "    <tr>\n",
              "      <th>6503627</th>\n",
              "      <td>2016-11-07 06:12:03</td>\n",
              "      <td>2016-11-07 10:03:02</td>\n",
              "      <td>2016-11</td>\n",
              "      <td>2016</td>\n",
              "      <td>1</td>\n",
              "    </tr>\n",
              "    <tr>\n",
              "      <th>6475770</th>\n",
              "      <td>2016-10-30 10:08:38</td>\n",
              "      <td>2016-11-08 15:34:24</td>\n",
              "      <td>2016-10</td>\n",
              "      <td>2016</td>\n",
              "      <td>9</td>\n",
              "    </tr>\n",
              "    <tr>\n",
              "      <th>6472048</th>\n",
              "      <td>2016-10-28 16:03:43</td>\n",
              "      <td>2016-11-04 09:05:53</td>\n",
              "      <td>2016-10</td>\n",
              "      <td>2016</td>\n",
              "      <td>6</td>\n",
              "    </tr>\n",
              "    <tr>\n",
              "      <th>6490288</th>\n",
              "      <td>2016-11-02 20:18:38</td>\n",
              "      <td>2016-11-02 22:10:11</td>\n",
              "      <td>2016-11</td>\n",
              "      <td>2016</td>\n",
              "      <td>1</td>\n",
              "    </tr>\n",
              "    <tr>\n",
              "      <th>6278946</th>\n",
              "      <td>2016-09-06 09:56:15</td>\n",
              "      <td>2016-10-17 19:16:08</td>\n",
              "      <td>2016-09</td>\n",
              "      <td>2016</td>\n",
              "      <td>41</td>\n",
              "    </tr>\n",
              "    <tr>\n",
              "      <th>6487958</th>\n",
              "      <td>2016-11-02 11:20:51</td>\n",
              "      <td>2016-11-02 13:54:04</td>\n",
              "      <td>2016-11</td>\n",
              "      <td>2016</td>\n",
              "      <td>1</td>\n",
              "    </tr>\n",
              "    <tr>\n",
              "      <th>6505144</th>\n",
              "      <td>2016-11-07 10:35:53</td>\n",
              "      <td>2016-11-08 16:11:52</td>\n",
              "      <td>2016-11</td>\n",
              "      <td>2016</td>\n",
              "      <td>1</td>\n",
              "    </tr>\n",
              "  </tbody>\n",
              "</table>\n",
              "</div>\n",
              "      <button class=\"colab-df-convert\" onclick=\"convertToInteractive('df-ef602e50-9f02-4559-9521-3827c9a360c6')\"\n",
              "              title=\"Convert this dataframe to an interactive table.\"\n",
              "              style=\"display:none;\">\n",
              "        \n",
              "  <svg xmlns=\"http://www.w3.org/2000/svg\" height=\"24px\"viewBox=\"0 0 24 24\"\n",
              "       width=\"24px\">\n",
              "    <path d=\"M0 0h24v24H0V0z\" fill=\"none\"/>\n",
              "    <path d=\"M18.56 5.44l.94 2.06.94-2.06 2.06-.94-2.06-.94-.94-2.06-.94 2.06-2.06.94zm-11 1L8.5 8.5l.94-2.06 2.06-.94-2.06-.94L8.5 2.5l-.94 2.06-2.06.94zm10 10l.94 2.06.94-2.06 2.06-.94-2.06-.94-.94-2.06-.94 2.06-2.06.94z\"/><path d=\"M17.41 7.96l-1.37-1.37c-.4-.4-.92-.59-1.43-.59-.52 0-1.04.2-1.43.59L10.3 9.45l-7.72 7.72c-.78.78-.78 2.05 0 2.83L4 21.41c.39.39.9.59 1.41.59.51 0 1.02-.2 1.41-.59l7.78-7.78 2.81-2.81c.8-.78.8-2.07 0-2.86zM5.41 20L4 18.59l7.72-7.72 1.47 1.35L5.41 20z\"/>\n",
              "  </svg>\n",
              "      </button>\n",
              "      \n",
              "  <style>\n",
              "    .colab-df-container {\n",
              "      display:flex;\n",
              "      flex-wrap:wrap;\n",
              "      gap: 12px;\n",
              "    }\n",
              "\n",
              "    .colab-df-convert {\n",
              "      background-color: #E8F0FE;\n",
              "      border: none;\n",
              "      border-radius: 50%;\n",
              "      cursor: pointer;\n",
              "      display: none;\n",
              "      fill: #1967D2;\n",
              "      height: 32px;\n",
              "      padding: 0 0 0 0;\n",
              "      width: 32px;\n",
              "    }\n",
              "\n",
              "    .colab-df-convert:hover {\n",
              "      background-color: #E2EBFA;\n",
              "      box-shadow: 0px 1px 2px rgba(60, 64, 67, 0.3), 0px 1px 3px 1px rgba(60, 64, 67, 0.15);\n",
              "      fill: #174EA6;\n",
              "    }\n",
              "\n",
              "    [theme=dark] .colab-df-convert {\n",
              "      background-color: #3B4455;\n",
              "      fill: #D2E3FC;\n",
              "    }\n",
              "\n",
              "    [theme=dark] .colab-df-convert:hover {\n",
              "      background-color: #434B5C;\n",
              "      box-shadow: 0px 1px 3px 1px rgba(0, 0, 0, 0.15);\n",
              "      filter: drop-shadow(0px 1px 2px rgba(0, 0, 0, 0.3));\n",
              "      fill: #FFFFFF;\n",
              "    }\n",
              "  </style>\n",
              "\n",
              "      <script>\n",
              "        const buttonEl =\n",
              "          document.querySelector('#df-ef602e50-9f02-4559-9521-3827c9a360c6 button.colab-df-convert');\n",
              "        buttonEl.style.display =\n",
              "          google.colab.kernel.accessAllowed ? 'block' : 'none';\n",
              "\n",
              "        async function convertToInteractive(key) {\n",
              "          const element = document.querySelector('#df-ef602e50-9f02-4559-9521-3827c9a360c6');\n",
              "          const dataTable =\n",
              "            await google.colab.kernel.invokeFunction('convertToInteractive',\n",
              "                                                     [key], {});\n",
              "          if (!dataTable) return;\n",
              "\n",
              "          const docLinkHtml = 'Like what you see? Visit the ' +\n",
              "            '<a target=\"_blank\" href=https://colab.research.google.com/notebooks/data_table.ipynb>data table notebook</a>'\n",
              "            + ' to learn more about interactive tables.';\n",
              "          element.innerHTML = '';\n",
              "          dataTable['output_type'] = 'display_data';\n",
              "          await google.colab.output.renderOutput(dataTable, element);\n",
              "          const docLink = document.createElement('div');\n",
              "          docLink.innerHTML = docLinkHtml;\n",
              "          element.appendChild(docLink);\n",
              "        }\n",
              "      </script>\n",
              "    </div>\n",
              "  </div>\n",
              "  "
            ]
          },
          "metadata": {},
          "execution_count": 42
        }
      ]
    },
    {
      "cell_type": "code",
      "source": [
        "df_closed.opened_month_year.value_counts()\n",
        "# Why were so many cases opened in 2016? (And this shows only the cases that were closed)"
      ],
      "metadata": {
        "colab": {
          "base_uri": "https://localhost:8080/"
        },
        "id": "eyzhv4XOU0Z4",
        "outputId": "40b7bbaa-e456-48e0-880d-d34171c9a90a"
      },
      "execution_count": 43,
      "outputs": [
        {
          "output_type": "execute_result",
          "data": {
            "text/plain": [
              "2016-11    1682\n",
              "2016-10     664\n",
              "2014-12       9\n",
              "2019-01       3\n",
              "2022-07       2\n",
              "2016-09       2\n",
              "2010-09       2\n",
              "2018-04       2\n",
              "2010-08       1\n",
              "2018-02       1\n",
              "2018-07       1\n",
              "2018-06       1\n",
              "2017-08       1\n",
              "2018-01       1\n",
              "2017-12       1\n",
              "2015-12       1\n",
              "2015-04       1\n",
              "2013-10       1\n",
              "2022-12       1\n",
              "Freq: M, Name: opened_month_year, dtype: int64"
            ]
          },
          "metadata": {},
          "execution_count": 43
        }
      ]
    },
    {
      "cell_type": "code",
      "execution_count": 44,
      "metadata": {
        "colab": {
          "base_uri": "https://localhost:8080/",
          "height": 639
        },
        "id": "sqLg92hPLSvq",
        "outputId": "6b38c8e3-d355-4d24-81b2-64b357de61f7"
      },
      "outputs": [
        {
          "output_type": "execute_result",
          "data": {
            "text/plain": [
              "                     opened              closed             updated  \\\n",
              "CaseID                                                                \n",
              "721686  2010-08-27 20:32:34 2010-09-02 15:02:39 2010-09-02 15:02:39   \n",
              "730283  2010-09-10 15:40:46 2010-09-15 14:42:02 2010-09-15 14:42:02   \n",
              "732258  2010-09-14 04:25:57 2010-09-16 14:02:37 2010-09-16 14:02:37   \n",
              "2899186 2013-10-02 14:57:53 2015-04-15 04:05:25 2015-04-15 04:05:25   \n",
              "4328069 2014-12-23 10:43:18 2014-12-23 12:45:40 2014-12-23 12:45:40   \n",
              "\n",
              "                                              status_notes  \\\n",
              "CaseID                                                       \n",
              "721686                         Case Transferred - # 372527   \n",
              "730283                           Case Transferred - 373563   \n",
              "732258                           Case Transferred - 373691   \n",
              "2899186  Case Transferred - Per process - cases are clo...   \n",
              "4328069       Case Completed - resolved: Pickup completed.   \n",
              "\n",
              "                       responsible_agency                      category  \\\n",
              "CaseID                                                                    \n",
              "721686                    MUNI Work Queue                 MUNI Feedback   \n",
              "730283                    MUNI Work Queue                 MUNI Feedback   \n",
              "732258                    MUNI Work Queue                 MUNI Feedback   \n",
              "2899186  311 Service Request Queue - Hold              Damaged Property   \n",
              "4328069                Recology_Abandoned  Street and Sidewalk Cleaning   \n",
              "\n",
              "                                              request_type  \\\n",
              "CaseID                                                       \n",
              "721686         MUNI - Services_Service_Delivery_Facilities   \n",
              "730283         MUNI - Services_Service_Delivery_Facilities   \n",
              "732258   MUNI - Conduct_Discourteous_Insensitive_Inappr...   \n",
              "2899186                             Damaged Traffic_Signal   \n",
              "4328069                                        Bulky Items   \n",
              "\n",
              "                                 request_details  \\\n",
              "CaseID                                             \n",
              "721686             605_Vehicle_Maintenance_Noise   \n",
              "730283   608_Station_Stop_Appearance_Maintenance   \n",
              "732258             303_Fare_Transfer_POP_Dispute   \n",
              "2899186                           Traffic_Signal   \n",
              "4328069                             Refrigerator   \n",
              "\n",
              "                                         address  street supervisor_district  \\\n",
              "CaseID                                                                         \n",
              "721686    Not associated with a specific address     NaN                 NaN   \n",
              "730283    Not associated with a specific address     NaN                 NaN   \n",
              "732258    Not associated with a specific address     NaN                 NaN   \n",
              "2899186  Intersection of 3RD ST and INGERSON AVE  3RD ST                  10   \n",
              "4328069   Not associated with a specific address     NaN                 NaN   \n",
              "\n",
              "        neighborhood police_district   latitude   longitude  \\\n",
              "CaseID                                                        \n",
              "721686           NaN             NaN   0.000000    0.000000   \n",
              "730283           NaN             NaN   0.000000    0.000000   \n",
              "732258           NaN             NaN   0.000000    0.000000   \n",
              "2899186   Bret Harte         BAYVIEW  37.720982 -122.396271   \n",
              "4328069          NaN             NaN   0.000000    0.000000   \n",
              "\n",
              "                    source opened_month_year  opened_year  processing_days  \n",
              "CaseID                                                                      \n",
              "721686               Phone           2010-08         2010                5  \n",
              "730283               Phone           2010-09         2010                4  \n",
              "732258               Phone           2010-09         2010                2  \n",
              "2899186              Phone           2013-10         2013              559  \n",
              "4328069  Integrated Agency           2014-12         2014                1  "
            ],
            "text/html": [
              "\n",
              "  <div id=\"df-d14b72e3-051f-4564-9bea-c8467a3d605e\">\n",
              "    <div class=\"colab-df-container\">\n",
              "      <div>\n",
              "<style scoped>\n",
              "    .dataframe tbody tr th:only-of-type {\n",
              "        vertical-align: middle;\n",
              "    }\n",
              "\n",
              "    .dataframe tbody tr th {\n",
              "        vertical-align: top;\n",
              "    }\n",
              "\n",
              "    .dataframe thead th {\n",
              "        text-align: right;\n",
              "    }\n",
              "</style>\n",
              "<table border=\"1\" class=\"dataframe\">\n",
              "  <thead>\n",
              "    <tr style=\"text-align: right;\">\n",
              "      <th></th>\n",
              "      <th>opened</th>\n",
              "      <th>closed</th>\n",
              "      <th>updated</th>\n",
              "      <th>status_notes</th>\n",
              "      <th>responsible_agency</th>\n",
              "      <th>category</th>\n",
              "      <th>request_type</th>\n",
              "      <th>request_details</th>\n",
              "      <th>address</th>\n",
              "      <th>street</th>\n",
              "      <th>supervisor_district</th>\n",
              "      <th>neighborhood</th>\n",
              "      <th>police_district</th>\n",
              "      <th>latitude</th>\n",
              "      <th>longitude</th>\n",
              "      <th>source</th>\n",
              "      <th>opened_month_year</th>\n",
              "      <th>opened_year</th>\n",
              "      <th>processing_days</th>\n",
              "    </tr>\n",
              "    <tr>\n",
              "      <th>CaseID</th>\n",
              "      <th></th>\n",
              "      <th></th>\n",
              "      <th></th>\n",
              "      <th></th>\n",
              "      <th></th>\n",
              "      <th></th>\n",
              "      <th></th>\n",
              "      <th></th>\n",
              "      <th></th>\n",
              "      <th></th>\n",
              "      <th></th>\n",
              "      <th></th>\n",
              "      <th></th>\n",
              "      <th></th>\n",
              "      <th></th>\n",
              "      <th></th>\n",
              "      <th></th>\n",
              "      <th></th>\n",
              "      <th></th>\n",
              "    </tr>\n",
              "  </thead>\n",
              "  <tbody>\n",
              "    <tr>\n",
              "      <th>721686</th>\n",
              "      <td>2010-08-27 20:32:34</td>\n",
              "      <td>2010-09-02 15:02:39</td>\n",
              "      <td>2010-09-02 15:02:39</td>\n",
              "      <td>Case Transferred - # 372527</td>\n",
              "      <td>MUNI Work Queue</td>\n",
              "      <td>MUNI Feedback</td>\n",
              "      <td>MUNI - Services_Service_Delivery_Facilities</td>\n",
              "      <td>605_Vehicle_Maintenance_Noise</td>\n",
              "      <td>Not associated with a specific address</td>\n",
              "      <td>NaN</td>\n",
              "      <td>NaN</td>\n",
              "      <td>NaN</td>\n",
              "      <td>NaN</td>\n",
              "      <td>0.000000</td>\n",
              "      <td>0.000000</td>\n",
              "      <td>Phone</td>\n",
              "      <td>2010-08</td>\n",
              "      <td>2010</td>\n",
              "      <td>5</td>\n",
              "    </tr>\n",
              "    <tr>\n",
              "      <th>730283</th>\n",
              "      <td>2010-09-10 15:40:46</td>\n",
              "      <td>2010-09-15 14:42:02</td>\n",
              "      <td>2010-09-15 14:42:02</td>\n",
              "      <td>Case Transferred - 373563</td>\n",
              "      <td>MUNI Work Queue</td>\n",
              "      <td>MUNI Feedback</td>\n",
              "      <td>MUNI - Services_Service_Delivery_Facilities</td>\n",
              "      <td>608_Station_Stop_Appearance_Maintenance</td>\n",
              "      <td>Not associated with a specific address</td>\n",
              "      <td>NaN</td>\n",
              "      <td>NaN</td>\n",
              "      <td>NaN</td>\n",
              "      <td>NaN</td>\n",
              "      <td>0.000000</td>\n",
              "      <td>0.000000</td>\n",
              "      <td>Phone</td>\n",
              "      <td>2010-09</td>\n",
              "      <td>2010</td>\n",
              "      <td>4</td>\n",
              "    </tr>\n",
              "    <tr>\n",
              "      <th>732258</th>\n",
              "      <td>2010-09-14 04:25:57</td>\n",
              "      <td>2010-09-16 14:02:37</td>\n",
              "      <td>2010-09-16 14:02:37</td>\n",
              "      <td>Case Transferred - 373691</td>\n",
              "      <td>MUNI Work Queue</td>\n",
              "      <td>MUNI Feedback</td>\n",
              "      <td>MUNI - Conduct_Discourteous_Insensitive_Inappr...</td>\n",
              "      <td>303_Fare_Transfer_POP_Dispute</td>\n",
              "      <td>Not associated with a specific address</td>\n",
              "      <td>NaN</td>\n",
              "      <td>NaN</td>\n",
              "      <td>NaN</td>\n",
              "      <td>NaN</td>\n",
              "      <td>0.000000</td>\n",
              "      <td>0.000000</td>\n",
              "      <td>Phone</td>\n",
              "      <td>2010-09</td>\n",
              "      <td>2010</td>\n",
              "      <td>2</td>\n",
              "    </tr>\n",
              "    <tr>\n",
              "      <th>2899186</th>\n",
              "      <td>2013-10-02 14:57:53</td>\n",
              "      <td>2015-04-15 04:05:25</td>\n",
              "      <td>2015-04-15 04:05:25</td>\n",
              "      <td>Case Transferred - Per process - cases are clo...</td>\n",
              "      <td>311 Service Request Queue - Hold</td>\n",
              "      <td>Damaged Property</td>\n",
              "      <td>Damaged Traffic_Signal</td>\n",
              "      <td>Traffic_Signal</td>\n",
              "      <td>Intersection of 3RD ST and INGERSON AVE</td>\n",
              "      <td>3RD ST</td>\n",
              "      <td>10</td>\n",
              "      <td>Bret Harte</td>\n",
              "      <td>BAYVIEW</td>\n",
              "      <td>37.720982</td>\n",
              "      <td>-122.396271</td>\n",
              "      <td>Phone</td>\n",
              "      <td>2013-10</td>\n",
              "      <td>2013</td>\n",
              "      <td>559</td>\n",
              "    </tr>\n",
              "    <tr>\n",
              "      <th>4328069</th>\n",
              "      <td>2014-12-23 10:43:18</td>\n",
              "      <td>2014-12-23 12:45:40</td>\n",
              "      <td>2014-12-23 12:45:40</td>\n",
              "      <td>Case Completed - resolved: Pickup completed.</td>\n",
              "      <td>Recology_Abandoned</td>\n",
              "      <td>Street and Sidewalk Cleaning</td>\n",
              "      <td>Bulky Items</td>\n",
              "      <td>Refrigerator</td>\n",
              "      <td>Not associated with a specific address</td>\n",
              "      <td>NaN</td>\n",
              "      <td>NaN</td>\n",
              "      <td>NaN</td>\n",
              "      <td>NaN</td>\n",
              "      <td>0.000000</td>\n",
              "      <td>0.000000</td>\n",
              "      <td>Integrated Agency</td>\n",
              "      <td>2014-12</td>\n",
              "      <td>2014</td>\n",
              "      <td>1</td>\n",
              "    </tr>\n",
              "  </tbody>\n",
              "</table>\n",
              "</div>\n",
              "      <button class=\"colab-df-convert\" onclick=\"convertToInteractive('df-d14b72e3-051f-4564-9bea-c8467a3d605e')\"\n",
              "              title=\"Convert this dataframe to an interactive table.\"\n",
              "              style=\"display:none;\">\n",
              "        \n",
              "  <svg xmlns=\"http://www.w3.org/2000/svg\" height=\"24px\"viewBox=\"0 0 24 24\"\n",
              "       width=\"24px\">\n",
              "    <path d=\"M0 0h24v24H0V0z\" fill=\"none\"/>\n",
              "    <path d=\"M18.56 5.44l.94 2.06.94-2.06 2.06-.94-2.06-.94-.94-2.06-.94 2.06-2.06.94zm-11 1L8.5 8.5l.94-2.06 2.06-.94-2.06-.94L8.5 2.5l-.94 2.06-2.06.94zm10 10l.94 2.06.94-2.06 2.06-.94-2.06-.94-.94-2.06-.94 2.06-2.06.94z\"/><path d=\"M17.41 7.96l-1.37-1.37c-.4-.4-.92-.59-1.43-.59-.52 0-1.04.2-1.43.59L10.3 9.45l-7.72 7.72c-.78.78-.78 2.05 0 2.83L4 21.41c.39.39.9.59 1.41.59.51 0 1.02-.2 1.41-.59l7.78-7.78 2.81-2.81c.8-.78.8-2.07 0-2.86zM5.41 20L4 18.59l7.72-7.72 1.47 1.35L5.41 20z\"/>\n",
              "  </svg>\n",
              "      </button>\n",
              "      \n",
              "  <style>\n",
              "    .colab-df-container {\n",
              "      display:flex;\n",
              "      flex-wrap:wrap;\n",
              "      gap: 12px;\n",
              "    }\n",
              "\n",
              "    .colab-df-convert {\n",
              "      background-color: #E8F0FE;\n",
              "      border: none;\n",
              "      border-radius: 50%;\n",
              "      cursor: pointer;\n",
              "      display: none;\n",
              "      fill: #1967D2;\n",
              "      height: 32px;\n",
              "      padding: 0 0 0 0;\n",
              "      width: 32px;\n",
              "    }\n",
              "\n",
              "    .colab-df-convert:hover {\n",
              "      background-color: #E2EBFA;\n",
              "      box-shadow: 0px 1px 2px rgba(60, 64, 67, 0.3), 0px 1px 3px 1px rgba(60, 64, 67, 0.15);\n",
              "      fill: #174EA6;\n",
              "    }\n",
              "\n",
              "    [theme=dark] .colab-df-convert {\n",
              "      background-color: #3B4455;\n",
              "      fill: #D2E3FC;\n",
              "    }\n",
              "\n",
              "    [theme=dark] .colab-df-convert:hover {\n",
              "      background-color: #434B5C;\n",
              "      box-shadow: 0px 1px 3px 1px rgba(0, 0, 0, 0.15);\n",
              "      filter: drop-shadow(0px 1px 2px rgba(0, 0, 0, 0.3));\n",
              "      fill: #FFFFFF;\n",
              "    }\n",
              "  </style>\n",
              "\n",
              "      <script>\n",
              "        const buttonEl =\n",
              "          document.querySelector('#df-d14b72e3-051f-4564-9bea-c8467a3d605e button.colab-df-convert');\n",
              "        buttonEl.style.display =\n",
              "          google.colab.kernel.accessAllowed ? 'block' : 'none';\n",
              "\n",
              "        async function convertToInteractive(key) {\n",
              "          const element = document.querySelector('#df-d14b72e3-051f-4564-9bea-c8467a3d605e');\n",
              "          const dataTable =\n",
              "            await google.colab.kernel.invokeFunction('convertToInteractive',\n",
              "                                                     [key], {});\n",
              "          if (!dataTable) return;\n",
              "\n",
              "          const docLinkHtml = 'Like what you see? Visit the ' +\n",
              "            '<a target=\"_blank\" href=https://colab.research.google.com/notebooks/data_table.ipynb>data table notebook</a>'\n",
              "            + ' to learn more about interactive tables.';\n",
              "          element.innerHTML = '';\n",
              "          dataTable['output_type'] = 'display_data';\n",
              "          await google.colab.output.renderOutput(dataTable, element);\n",
              "          const docLink = document.createElement('div');\n",
              "          docLink.innerHTML = docLinkHtml;\n",
              "          element.appendChild(docLink);\n",
              "        }\n",
              "      </script>\n",
              "    </div>\n",
              "  </div>\n",
              "  "
            ]
          },
          "metadata": {},
          "execution_count": 44
        }
      ],
      "source": [
        "df_closed.head()"
      ]
    },
    {
      "cell_type": "code",
      "execution_count": 45,
      "metadata": {
        "colab": {
          "base_uri": "https://localhost:8080/"
        },
        "id": "qEmozJ36ISJ0",
        "outputId": "3d39e700-23f2-4209-9eca-fbb6811aa5b3"
      },
      "outputs": [
        {
          "output_type": "execute_result",
          "data": {
            "text/plain": [
              "1      1458\n",
              "2       166\n",
              "3       116\n",
              "4        77\n",
              "6        75\n",
              "       ... \n",
              "739       1\n",
              "760       1\n",
              "689       1\n",
              "627       1\n",
              "592       1\n",
              "Name: processing_days, Length: 61, dtype: int64"
            ]
          },
          "metadata": {},
          "execution_count": 45
        }
      ],
      "source": [
        "df_closed.processing_days.value_counts()"
      ]
    },
    {
      "cell_type": "code",
      "source": [
        "df_closed.opened_month_year.value_counts()"
      ],
      "metadata": {
        "colab": {
          "base_uri": "https://localhost:8080/"
        },
        "id": "ZiG0zTQPbDRU",
        "outputId": "4a9f49da-b364-40f2-f0bd-707e17729ae7"
      },
      "execution_count": 46,
      "outputs": [
        {
          "output_type": "execute_result",
          "data": {
            "text/plain": [
              "2016-11    1682\n",
              "2016-10     664\n",
              "2014-12       9\n",
              "2019-01       3\n",
              "2022-07       2\n",
              "2016-09       2\n",
              "2010-09       2\n",
              "2018-04       2\n",
              "2010-08       1\n",
              "2018-02       1\n",
              "2018-07       1\n",
              "2018-06       1\n",
              "2017-08       1\n",
              "2018-01       1\n",
              "2017-12       1\n",
              "2015-12       1\n",
              "2015-04       1\n",
              "2013-10       1\n",
              "2022-12       1\n",
              "Freq: M, Name: opened_month_year, dtype: int64"
            ]
          },
          "metadata": {},
          "execution_count": 46
        }
      ]
    },
    {
      "cell_type": "code",
      "execution_count": 47,
      "metadata": {
        "colab": {
          "base_uri": "https://localhost:8080/"
        },
        "id": "J_2egQJ4Nrlj",
        "outputId": "9a2e5e46-c566-44c4-95ab-97b07d09e62d"
      },
      "outputs": [
        {
          "output_type": "stream",
          "name": "stdout",
          "text": [
            "<class 'pandas.core.frame.DataFrame'>\n",
            "Int64Index: 2377 entries, 721686 to 16205667\n",
            "Data columns (total 19 columns):\n",
            " #   Column               Non-Null Count  Dtype         \n",
            "---  ------               --------------  -----         \n",
            " 0   opened               2377 non-null   datetime64[ns]\n",
            " 1   closed               2377 non-null   datetime64[ns]\n",
            " 2   updated              2377 non-null   datetime64[ns]\n",
            " 3   status_notes         2377 non-null   object        \n",
            " 4   responsible_agency   2377 non-null   object        \n",
            " 5   category             2377 non-null   object        \n",
            " 6   request_type         2377 non-null   object        \n",
            " 7   request_details      2377 non-null   object        \n",
            " 8   address              2377 non-null   object        \n",
            " 9   street               2259 non-null   object        \n",
            " 10  supervisor_district  2259 non-null   category      \n",
            " 11  neighborhood         2254 non-null   object        \n",
            " 12  police_district      2251 non-null   category      \n",
            " 13  latitude             2377 non-null   float32       \n",
            " 14  longitude            2377 non-null   float32       \n",
            " 15  source               2377 non-null   category      \n",
            " 16  opened_month_year    2377 non-null   period[M]     \n",
            " 17  opened_year          2377 non-null   int64         \n",
            " 18  processing_days      2377 non-null   int64         \n",
            "dtypes: category(3), datetime64[ns](3), float32(2), int64(2), object(8), period[M](1)\n",
            "memory usage: 305.1+ KB\n"
          ]
        }
      ],
      "source": [
        "df_closed.info()"
      ]
    },
    {
      "cell_type": "code",
      "execution_count": 49,
      "metadata": {
        "colab": {
          "base_uri": "https://localhost:8080/",
          "height": 161
        },
        "id": "Dc7DjQKEu0LK",
        "outputId": "ca5559d3-c14c-4585-a511-ec9d88ac6578"
      },
      "outputs": [
        {
          "output_type": "stream",
          "name": "stdout",
          "text": [
            "rows where \"Closed\" date is earlier than \"Opened\" date...\n"
          ]
        },
        {
          "output_type": "execute_result",
          "data": {
            "text/plain": [
              "Empty DataFrame\n",
              "Columns: [opened, closed, updated, status_notes, responsible_agency, category, request_type, request_details, address, street, supervisor_district, neighborhood, police_district, latitude, longitude, source, opened_month_year, opened_year, processing_days]\n",
              "Index: []"
            ],
            "text/html": [
              "\n",
              "  <div id=\"df-613a1d50-8051-4873-a4c6-69f60e60104f\">\n",
              "    <div class=\"colab-df-container\">\n",
              "      <div>\n",
              "<style scoped>\n",
              "    .dataframe tbody tr th:only-of-type {\n",
              "        vertical-align: middle;\n",
              "    }\n",
              "\n",
              "    .dataframe tbody tr th {\n",
              "        vertical-align: top;\n",
              "    }\n",
              "\n",
              "    .dataframe thead th {\n",
              "        text-align: right;\n",
              "    }\n",
              "</style>\n",
              "<table border=\"1\" class=\"dataframe\">\n",
              "  <thead>\n",
              "    <tr style=\"text-align: right;\">\n",
              "      <th></th>\n",
              "      <th>opened</th>\n",
              "      <th>closed</th>\n",
              "      <th>updated</th>\n",
              "      <th>status_notes</th>\n",
              "      <th>responsible_agency</th>\n",
              "      <th>category</th>\n",
              "      <th>request_type</th>\n",
              "      <th>request_details</th>\n",
              "      <th>address</th>\n",
              "      <th>street</th>\n",
              "      <th>supervisor_district</th>\n",
              "      <th>neighborhood</th>\n",
              "      <th>police_district</th>\n",
              "      <th>latitude</th>\n",
              "      <th>longitude</th>\n",
              "      <th>source</th>\n",
              "      <th>opened_month_year</th>\n",
              "      <th>opened_year</th>\n",
              "      <th>processing_days</th>\n",
              "    </tr>\n",
              "    <tr>\n",
              "      <th>CaseID</th>\n",
              "      <th></th>\n",
              "      <th></th>\n",
              "      <th></th>\n",
              "      <th></th>\n",
              "      <th></th>\n",
              "      <th></th>\n",
              "      <th></th>\n",
              "      <th></th>\n",
              "      <th></th>\n",
              "      <th></th>\n",
              "      <th></th>\n",
              "      <th></th>\n",
              "      <th></th>\n",
              "      <th></th>\n",
              "      <th></th>\n",
              "      <th></th>\n",
              "      <th></th>\n",
              "      <th></th>\n",
              "      <th></th>\n",
              "    </tr>\n",
              "  </thead>\n",
              "  <tbody>\n",
              "  </tbody>\n",
              "</table>\n",
              "</div>\n",
              "      <button class=\"colab-df-convert\" onclick=\"convertToInteractive('df-613a1d50-8051-4873-a4c6-69f60e60104f')\"\n",
              "              title=\"Convert this dataframe to an interactive table.\"\n",
              "              style=\"display:none;\">\n",
              "        \n",
              "  <svg xmlns=\"http://www.w3.org/2000/svg\" height=\"24px\"viewBox=\"0 0 24 24\"\n",
              "       width=\"24px\">\n",
              "    <path d=\"M0 0h24v24H0V0z\" fill=\"none\"/>\n",
              "    <path d=\"M18.56 5.44l.94 2.06.94-2.06 2.06-.94-2.06-.94-.94-2.06-.94 2.06-2.06.94zm-11 1L8.5 8.5l.94-2.06 2.06-.94-2.06-.94L8.5 2.5l-.94 2.06-2.06.94zm10 10l.94 2.06.94-2.06 2.06-.94-2.06-.94-.94-2.06-.94 2.06-2.06.94z\"/><path d=\"M17.41 7.96l-1.37-1.37c-.4-.4-.92-.59-1.43-.59-.52 0-1.04.2-1.43.59L10.3 9.45l-7.72 7.72c-.78.78-.78 2.05 0 2.83L4 21.41c.39.39.9.59 1.41.59.51 0 1.02-.2 1.41-.59l7.78-7.78 2.81-2.81c.8-.78.8-2.07 0-2.86zM5.41 20L4 18.59l7.72-7.72 1.47 1.35L5.41 20z\"/>\n",
              "  </svg>\n",
              "      </button>\n",
              "      \n",
              "  <style>\n",
              "    .colab-df-container {\n",
              "      display:flex;\n",
              "      flex-wrap:wrap;\n",
              "      gap: 12px;\n",
              "    }\n",
              "\n",
              "    .colab-df-convert {\n",
              "      background-color: #E8F0FE;\n",
              "      border: none;\n",
              "      border-radius: 50%;\n",
              "      cursor: pointer;\n",
              "      display: none;\n",
              "      fill: #1967D2;\n",
              "      height: 32px;\n",
              "      padding: 0 0 0 0;\n",
              "      width: 32px;\n",
              "    }\n",
              "\n",
              "    .colab-df-convert:hover {\n",
              "      background-color: #E2EBFA;\n",
              "      box-shadow: 0px 1px 2px rgba(60, 64, 67, 0.3), 0px 1px 3px 1px rgba(60, 64, 67, 0.15);\n",
              "      fill: #174EA6;\n",
              "    }\n",
              "\n",
              "    [theme=dark] .colab-df-convert {\n",
              "      background-color: #3B4455;\n",
              "      fill: #D2E3FC;\n",
              "    }\n",
              "\n",
              "    [theme=dark] .colab-df-convert:hover {\n",
              "      background-color: #434B5C;\n",
              "      box-shadow: 0px 1px 3px 1px rgba(0, 0, 0, 0.15);\n",
              "      filter: drop-shadow(0px 1px 2px rgba(0, 0, 0, 0.3));\n",
              "      fill: #FFFFFF;\n",
              "    }\n",
              "  </style>\n",
              "\n",
              "      <script>\n",
              "        const buttonEl =\n",
              "          document.querySelector('#df-613a1d50-8051-4873-a4c6-69f60e60104f button.colab-df-convert');\n",
              "        buttonEl.style.display =\n",
              "          google.colab.kernel.accessAllowed ? 'block' : 'none';\n",
              "\n",
              "        async function convertToInteractive(key) {\n",
              "          const element = document.querySelector('#df-613a1d50-8051-4873-a4c6-69f60e60104f');\n",
              "          const dataTable =\n",
              "            await google.colab.kernel.invokeFunction('convertToInteractive',\n",
              "                                                     [key], {});\n",
              "          if (!dataTable) return;\n",
              "\n",
              "          const docLinkHtml = 'Like what you see? Visit the ' +\n",
              "            '<a target=\"_blank\" href=https://colab.research.google.com/notebooks/data_table.ipynb>data table notebook</a>'\n",
              "            + ' to learn more about interactive tables.';\n",
              "          element.innerHTML = '';\n",
              "          dataTable['output_type'] = 'display_data';\n",
              "          await google.colab.output.renderOutput(dataTable, element);\n",
              "          const docLink = document.createElement('div');\n",
              "          docLink.innerHTML = docLinkHtml;\n",
              "          element.appendChild(docLink);\n",
              "        }\n",
              "      </script>\n",
              "    </div>\n",
              "  </div>\n",
              "  "
            ]
          },
          "metadata": {},
          "execution_count": 49
        }
      ],
      "source": [
        "print('rows where \"Closed\" date is earlier than \"Opened\" date...')\n",
        "df_closed[ df_closed['closed'] < df_closed['opened'] ]\n",
        "\n",
        "# often the date is same, but closed time is before opened time\n",
        "# resulting in a negative value for processing_time"
      ]
    },
    {
      "cell_type": "markdown",
      "metadata": {
        "id": "uIbACQ41cXYj"
      },
      "source": [
        "### Descriptive Analytics"
      ]
    },
    {
      "cell_type": "code",
      "execution_count": 50,
      "metadata": {
        "colab": {
          "base_uri": "https://localhost:8080/",
          "height": 297
        },
        "id": "2QapozM6agzg",
        "outputId": "d488a774-ea44-46b3-818b-d6c899ed9114"
      },
      "outputs": [
        {
          "output_type": "execute_result",
          "data": {
            "text/plain": [
              "                           opened              updated   latitude   longitude  \\\n",
              "count                           2                    2   2.000000    2.000000   \n",
              "mean          2016-11-01 08:26:32  2016-11-01 08:28:05  37.775764 -122.406677   \n",
              "min           2016-10-28 23:52:37  2016-10-28 23:52:37  37.775146 -122.419258   \n",
              "25%    2016-10-30 16:09:34.500000  2016-10-30 16:10:21  37.775455 -122.412968   \n",
              "50%           2016-11-01 08:26:32  2016-11-01 08:28:05  37.775764 -122.406677   \n",
              "75%    2016-11-03 00:43:29.500000  2016-11-03 00:45:49  37.776073 -122.400387   \n",
              "max           2016-11-04 17:00:27  2016-11-04 17:03:33  37.776382 -122.394096   \n",
              "std                           NaN                  NaN   0.000874    0.017792   \n",
              "\n",
              "         days_open  \n",
              "count     2.000000  \n",
              "mean   2358.500000  \n",
              "min    2355.000000  \n",
              "25%    2356.750000  \n",
              "50%    2358.500000  \n",
              "75%    2360.250000  \n",
              "max    2362.000000  \n",
              "std       4.949747  "
            ],
            "text/html": [
              "\n",
              "  <div id=\"df-a24538cb-3bd4-4360-b0cc-45c64b7b892d\">\n",
              "    <div class=\"colab-df-container\">\n",
              "      <div>\n",
              "<style scoped>\n",
              "    .dataframe tbody tr th:only-of-type {\n",
              "        vertical-align: middle;\n",
              "    }\n",
              "\n",
              "    .dataframe tbody tr th {\n",
              "        vertical-align: top;\n",
              "    }\n",
              "\n",
              "    .dataframe thead th {\n",
              "        text-align: right;\n",
              "    }\n",
              "</style>\n",
              "<table border=\"1\" class=\"dataframe\">\n",
              "  <thead>\n",
              "    <tr style=\"text-align: right;\">\n",
              "      <th></th>\n",
              "      <th>opened</th>\n",
              "      <th>updated</th>\n",
              "      <th>latitude</th>\n",
              "      <th>longitude</th>\n",
              "      <th>days_open</th>\n",
              "    </tr>\n",
              "  </thead>\n",
              "  <tbody>\n",
              "    <tr>\n",
              "      <th>count</th>\n",
              "      <td>2</td>\n",
              "      <td>2</td>\n",
              "      <td>2.000000</td>\n",
              "      <td>2.000000</td>\n",
              "      <td>2.000000</td>\n",
              "    </tr>\n",
              "    <tr>\n",
              "      <th>mean</th>\n",
              "      <td>2016-11-01 08:26:32</td>\n",
              "      <td>2016-11-01 08:28:05</td>\n",
              "      <td>37.775764</td>\n",
              "      <td>-122.406677</td>\n",
              "      <td>2358.500000</td>\n",
              "    </tr>\n",
              "    <tr>\n",
              "      <th>min</th>\n",
              "      <td>2016-10-28 23:52:37</td>\n",
              "      <td>2016-10-28 23:52:37</td>\n",
              "      <td>37.775146</td>\n",
              "      <td>-122.419258</td>\n",
              "      <td>2355.000000</td>\n",
              "    </tr>\n",
              "    <tr>\n",
              "      <th>25%</th>\n",
              "      <td>2016-10-30 16:09:34.500000</td>\n",
              "      <td>2016-10-30 16:10:21</td>\n",
              "      <td>37.775455</td>\n",
              "      <td>-122.412968</td>\n",
              "      <td>2356.750000</td>\n",
              "    </tr>\n",
              "    <tr>\n",
              "      <th>50%</th>\n",
              "      <td>2016-11-01 08:26:32</td>\n",
              "      <td>2016-11-01 08:28:05</td>\n",
              "      <td>37.775764</td>\n",
              "      <td>-122.406677</td>\n",
              "      <td>2358.500000</td>\n",
              "    </tr>\n",
              "    <tr>\n",
              "      <th>75%</th>\n",
              "      <td>2016-11-03 00:43:29.500000</td>\n",
              "      <td>2016-11-03 00:45:49</td>\n",
              "      <td>37.776073</td>\n",
              "      <td>-122.400387</td>\n",
              "      <td>2360.250000</td>\n",
              "    </tr>\n",
              "    <tr>\n",
              "      <th>max</th>\n",
              "      <td>2016-11-04 17:00:27</td>\n",
              "      <td>2016-11-04 17:03:33</td>\n",
              "      <td>37.776382</td>\n",
              "      <td>-122.394096</td>\n",
              "      <td>2362.000000</td>\n",
              "    </tr>\n",
              "    <tr>\n",
              "      <th>std</th>\n",
              "      <td>NaN</td>\n",
              "      <td>NaN</td>\n",
              "      <td>0.000874</td>\n",
              "      <td>0.017792</td>\n",
              "      <td>4.949747</td>\n",
              "    </tr>\n",
              "  </tbody>\n",
              "</table>\n",
              "</div>\n",
              "      <button class=\"colab-df-convert\" onclick=\"convertToInteractive('df-a24538cb-3bd4-4360-b0cc-45c64b7b892d')\"\n",
              "              title=\"Convert this dataframe to an interactive table.\"\n",
              "              style=\"display:none;\">\n",
              "        \n",
              "  <svg xmlns=\"http://www.w3.org/2000/svg\" height=\"24px\"viewBox=\"0 0 24 24\"\n",
              "       width=\"24px\">\n",
              "    <path d=\"M0 0h24v24H0V0z\" fill=\"none\"/>\n",
              "    <path d=\"M18.56 5.44l.94 2.06.94-2.06 2.06-.94-2.06-.94-.94-2.06-.94 2.06-2.06.94zm-11 1L8.5 8.5l.94-2.06 2.06-.94-2.06-.94L8.5 2.5l-.94 2.06-2.06.94zm10 10l.94 2.06.94-2.06 2.06-.94-2.06-.94-.94-2.06-.94 2.06-2.06.94z\"/><path d=\"M17.41 7.96l-1.37-1.37c-.4-.4-.92-.59-1.43-.59-.52 0-1.04.2-1.43.59L10.3 9.45l-7.72 7.72c-.78.78-.78 2.05 0 2.83L4 21.41c.39.39.9.59 1.41.59.51 0 1.02-.2 1.41-.59l7.78-7.78 2.81-2.81c.8-.78.8-2.07 0-2.86zM5.41 20L4 18.59l7.72-7.72 1.47 1.35L5.41 20z\"/>\n",
              "  </svg>\n",
              "      </button>\n",
              "      \n",
              "  <style>\n",
              "    .colab-df-container {\n",
              "      display:flex;\n",
              "      flex-wrap:wrap;\n",
              "      gap: 12px;\n",
              "    }\n",
              "\n",
              "    .colab-df-convert {\n",
              "      background-color: #E8F0FE;\n",
              "      border: none;\n",
              "      border-radius: 50%;\n",
              "      cursor: pointer;\n",
              "      display: none;\n",
              "      fill: #1967D2;\n",
              "      height: 32px;\n",
              "      padding: 0 0 0 0;\n",
              "      width: 32px;\n",
              "    }\n",
              "\n",
              "    .colab-df-convert:hover {\n",
              "      background-color: #E2EBFA;\n",
              "      box-shadow: 0px 1px 2px rgba(60, 64, 67, 0.3), 0px 1px 3px 1px rgba(60, 64, 67, 0.15);\n",
              "      fill: #174EA6;\n",
              "    }\n",
              "\n",
              "    [theme=dark] .colab-df-convert {\n",
              "      background-color: #3B4455;\n",
              "      fill: #D2E3FC;\n",
              "    }\n",
              "\n",
              "    [theme=dark] .colab-df-convert:hover {\n",
              "      background-color: #434B5C;\n",
              "      box-shadow: 0px 1px 3px 1px rgba(0, 0, 0, 0.15);\n",
              "      filter: drop-shadow(0px 1px 2px rgba(0, 0, 0, 0.3));\n",
              "      fill: #FFFFFF;\n",
              "    }\n",
              "  </style>\n",
              "\n",
              "      <script>\n",
              "        const buttonEl =\n",
              "          document.querySelector('#df-a24538cb-3bd4-4360-b0cc-45c64b7b892d button.colab-df-convert');\n",
              "        buttonEl.style.display =\n",
              "          google.colab.kernel.accessAllowed ? 'block' : 'none';\n",
              "\n",
              "        async function convertToInteractive(key) {\n",
              "          const element = document.querySelector('#df-a24538cb-3bd4-4360-b0cc-45c64b7b892d');\n",
              "          const dataTable =\n",
              "            await google.colab.kernel.invokeFunction('convertToInteractive',\n",
              "                                                     [key], {});\n",
              "          if (!dataTable) return;\n",
              "\n",
              "          const docLinkHtml = 'Like what you see? Visit the ' +\n",
              "            '<a target=\"_blank\" href=https://colab.research.google.com/notebooks/data_table.ipynb>data table notebook</a>'\n",
              "            + ' to learn more about interactive tables.';\n",
              "          element.innerHTML = '';\n",
              "          dataTable['output_type'] = 'display_data';\n",
              "          await google.colab.output.renderOutput(dataTable, element);\n",
              "          const docLink = document.createElement('div');\n",
              "          docLink.innerHTML = docLinkHtml;\n",
              "          element.appendChild(docLink);\n",
              "        }\n",
              "      </script>\n",
              "    </div>\n",
              "  </div>\n",
              "  "
            ]
          },
          "metadata": {},
          "execution_count": 50
        }
      ],
      "source": [
        "df_open.describe(datetime_is_numeric=True)"
      ]
    },
    {
      "cell_type": "code",
      "execution_count": 51,
      "metadata": {
        "colab": {
          "base_uri": "https://localhost:8080/",
          "height": 358
        },
        "id": "j0WAWRiEJl0I",
        "outputId": "c88ab024-3fda-4292-ad42-cbf44a16ed9a"
      },
      "outputs": [
        {
          "output_type": "execute_result",
          "data": {
            "text/plain": [
              "                              opened                         closed  \\\n",
              "count                           2377                           2377   \n",
              "mean   2016-11-02 00:25:01.138830592  2016-11-08 20:53:46.114009088   \n",
              "min              2010-08-27 20:32:34            2010-09-02 15:02:39   \n",
              "25%              2016-10-31 14:10:13            2016-11-02 10:58:09   \n",
              "50%              2016-11-02 17:01:04            2016-11-05 09:24:17   \n",
              "75%              2016-11-05 09:57:13            2016-11-08 15:46:30   \n",
              "max              2022-12-20 15:08:00            2022-12-20 15:23:05   \n",
              "std                              NaN                            NaN   \n",
              "\n",
              "                             updated     latitude    longitude  opened_year  \\\n",
              "count                           2377  2377.000000  2377.000000  2377.000000   \n",
              "mean   2016-11-08 20:53:46.114009088    35.939156  -116.505493  2016.000000   \n",
              "min              2010-09-02 15:02:39     0.000000  -122.514214  2010.000000   \n",
              "25%              2016-11-02 10:58:09    37.750103  -122.437614  2016.000000   \n",
              "50%              2016-11-05 09:24:17    37.769012  -122.418922  2016.000000   \n",
              "75%              2016-11-08 15:46:30    37.780170  -122.406921  2016.000000   \n",
              "max              2022-12-20 15:23:05    37.829617     0.000000  2022.000000   \n",
              "std                              NaN     8.105195    26.274872     0.364687   \n",
              "\n",
              "       processing_days  \n",
              "count      2377.000000  \n",
              "mean          6.978124  \n",
              "min           1.000000  \n",
              "25%           1.000000  \n",
              "50%           1.000000  \n",
              "75%           4.000000  \n",
              "max         806.000000  \n",
              "std          38.200951  "
            ],
            "text/html": [
              "\n",
              "  <div id=\"df-c0a231a5-4aa6-4a60-9ea5-21ea458cdadf\">\n",
              "    <div class=\"colab-df-container\">\n",
              "      <div>\n",
              "<style scoped>\n",
              "    .dataframe tbody tr th:only-of-type {\n",
              "        vertical-align: middle;\n",
              "    }\n",
              "\n",
              "    .dataframe tbody tr th {\n",
              "        vertical-align: top;\n",
              "    }\n",
              "\n",
              "    .dataframe thead th {\n",
              "        text-align: right;\n",
              "    }\n",
              "</style>\n",
              "<table border=\"1\" class=\"dataframe\">\n",
              "  <thead>\n",
              "    <tr style=\"text-align: right;\">\n",
              "      <th></th>\n",
              "      <th>opened</th>\n",
              "      <th>closed</th>\n",
              "      <th>updated</th>\n",
              "      <th>latitude</th>\n",
              "      <th>longitude</th>\n",
              "      <th>opened_year</th>\n",
              "      <th>processing_days</th>\n",
              "    </tr>\n",
              "  </thead>\n",
              "  <tbody>\n",
              "    <tr>\n",
              "      <th>count</th>\n",
              "      <td>2377</td>\n",
              "      <td>2377</td>\n",
              "      <td>2377</td>\n",
              "      <td>2377.000000</td>\n",
              "      <td>2377.000000</td>\n",
              "      <td>2377.000000</td>\n",
              "      <td>2377.000000</td>\n",
              "    </tr>\n",
              "    <tr>\n",
              "      <th>mean</th>\n",
              "      <td>2016-11-02 00:25:01.138830592</td>\n",
              "      <td>2016-11-08 20:53:46.114009088</td>\n",
              "      <td>2016-11-08 20:53:46.114009088</td>\n",
              "      <td>35.939156</td>\n",
              "      <td>-116.505493</td>\n",
              "      <td>2016.000000</td>\n",
              "      <td>6.978124</td>\n",
              "    </tr>\n",
              "    <tr>\n",
              "      <th>min</th>\n",
              "      <td>2010-08-27 20:32:34</td>\n",
              "      <td>2010-09-02 15:02:39</td>\n",
              "      <td>2010-09-02 15:02:39</td>\n",
              "      <td>0.000000</td>\n",
              "      <td>-122.514214</td>\n",
              "      <td>2010.000000</td>\n",
              "      <td>1.000000</td>\n",
              "    </tr>\n",
              "    <tr>\n",
              "      <th>25%</th>\n",
              "      <td>2016-10-31 14:10:13</td>\n",
              "      <td>2016-11-02 10:58:09</td>\n",
              "      <td>2016-11-02 10:58:09</td>\n",
              "      <td>37.750103</td>\n",
              "      <td>-122.437614</td>\n",
              "      <td>2016.000000</td>\n",
              "      <td>1.000000</td>\n",
              "    </tr>\n",
              "    <tr>\n",
              "      <th>50%</th>\n",
              "      <td>2016-11-02 17:01:04</td>\n",
              "      <td>2016-11-05 09:24:17</td>\n",
              "      <td>2016-11-05 09:24:17</td>\n",
              "      <td>37.769012</td>\n",
              "      <td>-122.418922</td>\n",
              "      <td>2016.000000</td>\n",
              "      <td>1.000000</td>\n",
              "    </tr>\n",
              "    <tr>\n",
              "      <th>75%</th>\n",
              "      <td>2016-11-05 09:57:13</td>\n",
              "      <td>2016-11-08 15:46:30</td>\n",
              "      <td>2016-11-08 15:46:30</td>\n",
              "      <td>37.780170</td>\n",
              "      <td>-122.406921</td>\n",
              "      <td>2016.000000</td>\n",
              "      <td>4.000000</td>\n",
              "    </tr>\n",
              "    <tr>\n",
              "      <th>max</th>\n",
              "      <td>2022-12-20 15:08:00</td>\n",
              "      <td>2022-12-20 15:23:05</td>\n",
              "      <td>2022-12-20 15:23:05</td>\n",
              "      <td>37.829617</td>\n",
              "      <td>0.000000</td>\n",
              "      <td>2022.000000</td>\n",
              "      <td>806.000000</td>\n",
              "    </tr>\n",
              "    <tr>\n",
              "      <th>std</th>\n",
              "      <td>NaN</td>\n",
              "      <td>NaN</td>\n",
              "      <td>NaN</td>\n",
              "      <td>8.105195</td>\n",
              "      <td>26.274872</td>\n",
              "      <td>0.364687</td>\n",
              "      <td>38.200951</td>\n",
              "    </tr>\n",
              "  </tbody>\n",
              "</table>\n",
              "</div>\n",
              "      <button class=\"colab-df-convert\" onclick=\"convertToInteractive('df-c0a231a5-4aa6-4a60-9ea5-21ea458cdadf')\"\n",
              "              title=\"Convert this dataframe to an interactive table.\"\n",
              "              style=\"display:none;\">\n",
              "        \n",
              "  <svg xmlns=\"http://www.w3.org/2000/svg\" height=\"24px\"viewBox=\"0 0 24 24\"\n",
              "       width=\"24px\">\n",
              "    <path d=\"M0 0h24v24H0V0z\" fill=\"none\"/>\n",
              "    <path d=\"M18.56 5.44l.94 2.06.94-2.06 2.06-.94-2.06-.94-.94-2.06-.94 2.06-2.06.94zm-11 1L8.5 8.5l.94-2.06 2.06-.94-2.06-.94L8.5 2.5l-.94 2.06-2.06.94zm10 10l.94 2.06.94-2.06 2.06-.94-2.06-.94-.94-2.06-.94 2.06-2.06.94z\"/><path d=\"M17.41 7.96l-1.37-1.37c-.4-.4-.92-.59-1.43-.59-.52 0-1.04.2-1.43.59L10.3 9.45l-7.72 7.72c-.78.78-.78 2.05 0 2.83L4 21.41c.39.39.9.59 1.41.59.51 0 1.02-.2 1.41-.59l7.78-7.78 2.81-2.81c.8-.78.8-2.07 0-2.86zM5.41 20L4 18.59l7.72-7.72 1.47 1.35L5.41 20z\"/>\n",
              "  </svg>\n",
              "      </button>\n",
              "      \n",
              "  <style>\n",
              "    .colab-df-container {\n",
              "      display:flex;\n",
              "      flex-wrap:wrap;\n",
              "      gap: 12px;\n",
              "    }\n",
              "\n",
              "    .colab-df-convert {\n",
              "      background-color: #E8F0FE;\n",
              "      border: none;\n",
              "      border-radius: 50%;\n",
              "      cursor: pointer;\n",
              "      display: none;\n",
              "      fill: #1967D2;\n",
              "      height: 32px;\n",
              "      padding: 0 0 0 0;\n",
              "      width: 32px;\n",
              "    }\n",
              "\n",
              "    .colab-df-convert:hover {\n",
              "      background-color: #E2EBFA;\n",
              "      box-shadow: 0px 1px 2px rgba(60, 64, 67, 0.3), 0px 1px 3px 1px rgba(60, 64, 67, 0.15);\n",
              "      fill: #174EA6;\n",
              "    }\n",
              "\n",
              "    [theme=dark] .colab-df-convert {\n",
              "      background-color: #3B4455;\n",
              "      fill: #D2E3FC;\n",
              "    }\n",
              "\n",
              "    [theme=dark] .colab-df-convert:hover {\n",
              "      background-color: #434B5C;\n",
              "      box-shadow: 0px 1px 3px 1px rgba(0, 0, 0, 0.15);\n",
              "      filter: drop-shadow(0px 1px 2px rgba(0, 0, 0, 0.3));\n",
              "      fill: #FFFFFF;\n",
              "    }\n",
              "  </style>\n",
              "\n",
              "      <script>\n",
              "        const buttonEl =\n",
              "          document.querySelector('#df-c0a231a5-4aa6-4a60-9ea5-21ea458cdadf button.colab-df-convert');\n",
              "        buttonEl.style.display =\n",
              "          google.colab.kernel.accessAllowed ? 'block' : 'none';\n",
              "\n",
              "        async function convertToInteractive(key) {\n",
              "          const element = document.querySelector('#df-c0a231a5-4aa6-4a60-9ea5-21ea458cdadf');\n",
              "          const dataTable =\n",
              "            await google.colab.kernel.invokeFunction('convertToInteractive',\n",
              "                                                     [key], {});\n",
              "          if (!dataTable) return;\n",
              "\n",
              "          const docLinkHtml = 'Like what you see? Visit the ' +\n",
              "            '<a target=\"_blank\" href=https://colab.research.google.com/notebooks/data_table.ipynb>data table notebook</a>'\n",
              "            + ' to learn more about interactive tables.';\n",
              "          element.innerHTML = '';\n",
              "          dataTable['output_type'] = 'display_data';\n",
              "          await google.colab.output.renderOutput(dataTable, element);\n",
              "          const docLink = document.createElement('div');\n",
              "          docLink.innerHTML = docLinkHtml;\n",
              "          element.appendChild(docLink);\n",
              "        }\n",
              "      </script>\n",
              "    </div>\n",
              "  </div>\n",
              "  "
            ]
          },
          "metadata": {},
          "execution_count": 51
        }
      ],
      "source": [
        "df_closed.describe(datetime_is_numeric=True)\n",
        "# processing_days: note that the max is WAY higher than 75 percentile... outlier(s) "
      ]
    },
    {
      "cell_type": "markdown",
      "metadata": {
        "id": "1thJ8goBVqRH"
      },
      "source": [
        "##Exploratory Visualization"
      ]
    },
    {
      "cell_type": "code",
      "source": [
        "sns.set_style(\"whitegrid\", {'axes.grid' : False})"
      ],
      "metadata": {
        "id": "TAnFK5N6rNKJ"
      },
      "execution_count": 52,
      "outputs": []
    },
    {
      "cell_type": "markdown",
      "source": [
        "### Visualize source"
      ],
      "metadata": {
        "id": "lGuF-f0zq-GW"
      }
    },
    {
      "cell_type": "code",
      "source": [
        "df.source.value_counts()"
      ],
      "metadata": {
        "colab": {
          "base_uri": "https://localhost:8080/"
        },
        "id": "W-PWWX6lrQ12",
        "outputId": "1238674e-430d-457b-aa29-d214bbb66692"
      },
      "execution_count": 53,
      "outputs": [
        {
          "output_type": "execute_result",
          "data": {
            "text/plain": [
              "Mobile/Open311       1237\n",
              "Phone                 755\n",
              "Web                   313\n",
              "Integrated Agency      65\n",
              "Twitter                 7\n",
              "Other Department        2\n",
              "Name: source, dtype: int64"
            ]
          },
          "metadata": {},
          "execution_count": 53
        }
      ]
    },
    {
      "cell_type": "code",
      "source": [
        "#df.Source.value_counts().pivot().plot(kind='bar')\n",
        "#plt.show()"
      ],
      "metadata": {
        "id": "bWm4XXjErETv"
      },
      "execution_count": null,
      "outputs": []
    },
    {
      "cell_type": "markdown",
      "metadata": {
        "id": "0YORa_GNYaAY"
      },
      "source": [
        "### Histograms for time open"
      ]
    },
    {
      "cell_type": "code",
      "execution_count": 54,
      "metadata": {
        "colab": {
          "base_uri": "https://localhost:8080/"
        },
        "id": "kW0uU3wFfXhQ",
        "outputId": "efabfd29-61fc-44ad-abf5-156975dc99f1"
      },
      "outputs": [
        {
          "output_type": "stream",
          "name": "stdout",
          "text": [
            "Quick stats on \"days open\", use to set range on histogram\n",
            "min       2355.0\n",
            "max       2362.0\n",
            "mean      2358.5\n",
            "median    2358.5\n",
            "mode      2362.0\n",
            "Name: days_open, dtype: float64\n"
          ]
        }
      ],
      "source": [
        "print('Quick stats on \"days open\", use to set range on histogram')\n",
        "print(df_open.days_open.agg([min, max, np.mean, np.median, statistics.mode]))"
      ]
    },
    {
      "cell_type": "code",
      "source": [
        "df_open.shape"
      ],
      "metadata": {
        "colab": {
          "base_uri": "https://localhost:8080/"
        },
        "id": "uMGhem1tTJcE",
        "outputId": "4d717dbb-7d65-4fbe-e102-8aa65b94f4b0"
      },
      "execution_count": 61,
      "outputs": [
        {
          "output_type": "execute_result",
          "data": {
            "text/plain": [
              "(2, 16)"
            ]
          },
          "metadata": {},
          "execution_count": 61
        }
      ]
    },
    {
      "cell_type": "code",
      "execution_count": 56,
      "metadata": {
        "colab": {
          "base_uri": "https://localhost:8080/",
          "height": 487
        },
        "id": "mHKYvKrzfV5W",
        "outputId": "94ab2d9d-baa1-4aaf-98db-db4d2a65ccfd"
      },
      "outputs": [
        {
          "output_type": "display_data",
          "data": {
            "text/plain": [
              "<Figure size 900x500 with 1 Axes>"
            ],
            "image/png": "[encoded data removed]"
          },
          "metadata": {}
        }
      ],
      "source": [
        "# hist to visaulize nbr of days open cases have remained open\n",
        "\n",
        "# NOTE \n",
        "# Currently need to manually change the plot range to account \n",
        "# for range cases have been open, esp. in regard to the *mean*\n",
        "\n",
        "sns.set_style(\"whitegrid\", {'axes.grid' : False})\n",
        "plt.title('Number of Days Open 311-Cases Have Remained Open')\n",
        "plt.xlabel('Nbr of Days')\n",
        "#df_open['days_open'].plot(kind='hist', range=[500,5100], figsize=(9,5))\n",
        "df_open['days_open'].plot(kind='hist', figsize=(9,5))\n",
        "plt.show()\n",
        "# Note for 2500 rows, there are only 2 values for days_open"
      ]
    },
    {
      "cell_type": "markdown",
      "source": [
        "### Histograms processing time "
      ],
      "metadata": {
        "id": "D3Zd4guBe9sd"
      }
    },
    {
      "cell_type": "code",
      "execution_count": 62,
      "metadata": {
        "colab": {
          "base_uri": "https://localhost:8080/"
        },
        "id": "As9DlSZ0j3X6",
        "outputId": "8af69985-2910-4cd3-e98c-16ca439cc7ba"
      },
      "outputs": [
        {
          "output_type": "stream",
          "name": "stdout",
          "text": [
            "Quick stats on \"processing days\", use to set range on histogram\n",
            "min         1.000000\n",
            "max       806.000000\n",
            "mean        6.978124\n",
            "median      1.000000\n",
            "mode        1.000000\n",
            "Name: processing_days, dtype: float64\n"
          ]
        }
      ],
      "source": [
        "print('Quick stats on \"processing days\", use to set range on histogram')\n",
        "print(df_closed.processing_days.agg([min, max, np.mean, np.median, statistics.mode]))"
      ]
    },
    {
      "cell_type": "code",
      "source": [
        "# hist to visualize processing time for cases that have been closed\n",
        "plt.title('Number of Days Required to Close 311-Cases')\n",
        "plt.xlabel('Nbr of Days')\n",
        "df_closed['processing_days'].plot(kind='hist', color='lightgreen')\n",
        "plt.show()\n",
        "# frequency scale is too broad to show any detail"
      ],
      "metadata": {
        "colab": {
          "base_uri": "https://localhost:8080/",
          "height": 472
        },
        "id": "3Gielwh_jDEk",
        "outputId": "aecfffb1-8d1a-4638-d3d5-b03b61c2e519"
      },
      "execution_count": 63,
      "outputs": [
        {
          "output_type": "display_data",
          "data": {
            "text/plain": [
              "<Figure size 640x480 with 1 Axes>"
            ],
            "image/png": "[encoded data removed]"
          },
          "metadata": {}
        }
      ]
    },
    {
      "cell_type": "code",
      "execution_count": 64,
      "metadata": {
        "colab": {
          "base_uri": "https://localhost:8080/",
          "height": 487
        },
        "id": "tlfKpBUnzX-X",
        "outputId": "cfa63f78-c851-48e4-ad3e-fc49d31f1c8a"
      },
      "outputs": [
        {
          "output_type": "display_data",
          "data": {
            "text/plain": [
              "<Figure size 900x500 with 1 Axes>"
            ],
            "image/png": "[encoded data removed]"
          },
          "metadata": {}
        }
      ],
      "source": [
        "# hist to visualize processing time for cases that have been closed\n",
        "plt.title('Number of Days Required to Close 311-Cases')\n",
        "plt.xlabel('Nbr of Days')\n",
        "df_closed['processing_days'].plot(kind='hist', range=[0,50], color='DarkMagenta', figsize=(9,5))\n",
        "plt.show()"
      ]
    },
    {
      "cell_type": "code",
      "execution_count": 65,
      "metadata": {
        "colab": {
          "base_uri": "https://localhost:8080/",
          "height": 472
        },
        "id": "Fw7KgTHJTDJW",
        "outputId": "495c8458-6671-48c9-dc6a-46470019831b"
      },
      "outputs": [
        {
          "output_type": "display_data",
          "data": {
            "text/plain": [
              "<Figure size 640x480 with 1 Axes>"
            ],
            "image/png": "[encoded data removed]"
          },
          "metadata": {}
        }
      ],
      "source": [
        "# hist to visualize processing time for cases that have been closed\n",
        "plt.title('Number of Days Required to Close 311-Cases, Focusing on Cases that Took More than 50 Days')\n",
        "plt.xlabel('Nbr of Days')\n",
        "#df_closed['processing_days'].plot(kind='hist', range=[100,900], color='LightBlue')\n",
        "df_closed['processing_days'].plot(kind='hist', range=[50,500], color='LightBlue')\n",
        "plt.show()"
      ]
    },
    {
      "cell_type": "code",
      "execution_count": 66,
      "metadata": {
        "colab": {
          "base_uri": "https://localhost:8080/"
        },
        "id": "caTOJm1yTvUJ",
        "outputId": "6771b666-3280-49af-8db1-204f037bcb85"
      },
      "outputs": [
        {
          "output_type": "stream",
          "name": "stdout",
          "text": [
            "(2370, 19)\n",
            "(7, 19)\n"
          ]
        }
      ],
      "source": [
        "df_proc_less_100 = df_closed[df_closed['processing_days']<100]\n",
        "df_proc_more_100 = df_closed[df_closed['processing_days']>99]\n",
        "\n",
        "print(df_proc_less_100.shape)\n",
        "print(df_proc_more_100.shape)"
      ]
    },
    {
      "cell_type": "code",
      "execution_count": 67,
      "metadata": {
        "colab": {
          "base_uri": "https://localhost:8080/",
          "height": 419
        },
        "id": "tyG6X9lIUv26",
        "outputId": "a49e8324-703c-4764-9fe1-58f6dd3af906"
      },
      "outputs": [
        {
          "output_type": "display_data",
          "data": {
            "text/plain": [
              "<Figure size 1500x500 with 2 Axes>"
            ],
            "image/png": "[encoded data removed]"
          },
          "metadata": {}
        }
      ],
      "source": [
        "fig,ax =  plt.subplots(1,2, figsize=(15,5))\n",
        "\n",
        "fig.suptitle('Number of Days Required to Close 311-Cases',fontsize=14)\n",
        "ax[0].set(xlabel='Nbr of Days')\n",
        "ax[1].set(xlabel='Nbr of Days')\n",
        "ax[0].set(ylabel='Nbr of Cases')\n",
        "ax[1].set(ylabel='Nbr of Cases')\n",
        "\n",
        "ax[0].set_title('Cases Completed in Less Than 100 Days')\n",
        "ax[1].set_title('Cases Completed in Greater Than 99 Days')\n",
        "\n",
        "ax[0].hist(df_proc_less_100.processing_days)\n",
        "ax[1].hist(df_proc_more_100.processing_days)\n",
        "plt.show()"
      ]
    },
    {
      "cell_type": "code",
      "execution_count": null,
      "metadata": {
        "colab": {
          "base_uri": "https://localhost:8080/"
        },
        "id": "-RDXQhPea3xZ",
        "outputId": "06cdaae1-9c75-4308-bb50-625b0b32908a"
      },
      "outputs": [
        {
          "output_type": "stream",
          "name": "stdout",
          "text": [
            "(223323, 19)\n",
            "(11867, 19)\n",
            "(7628, 19)\n"
          ]
        }
      ],
      "source": [
        "# break it into 3 blocks...\n",
        "df_proc_less_50 = df_closed[df_closed['processing_days']<50]\n",
        "df_proc_less_100 = df_closed[df_closed['processing_days'].between(50,100)]\n",
        "df_proc_more_100 = df_closed[df_closed['processing_days']>99]\n",
        "\n",
        "print(df_proc_less_50.shape)\n",
        "print(df_proc_less_100.shape)\n",
        "print(df_proc_more_100.shape)"
      ]
    },
    {
      "cell_type": "code",
      "execution_count": null,
      "metadata": {
        "colab": {
          "base_uri": "https://localhost:8080/",
          "height": 412
        },
        "id": "-DvHwCSlbYOi",
        "outputId": "57a90f8e-d301-4ad1-f2e4-b0d5379f9f99"
      },
      "outputs": [
        {
          "output_type": "display_data",
          "data": {
            "text/plain": [
              "<Figure size 1500x500 with 3 Axes>"
            ],
            "image/png": "[encoded data removed]"
          },
          "metadata": {}
        }
      ],
      "source": [
        "fig,ax =  plt.subplots(1,3, figsize=(15,5))\n",
        "fig.suptitle('Number of Days Required to Close 311-Cases',fontsize=14)\n",
        "for i in range(3):\n",
        "  ax[i].set(xlabel='Nbr of Days')\n",
        "  ax[i].set(ylabel='Nbr of Cases')\n",
        "ax[0].set_title('Cases Completed in Less Than 50 Days')\n",
        "ax[1].set_title('Cases Completed in 50 - 99 Days')\n",
        "ax[2].set_title('Cases Completed in More Than 99 Days')\n",
        "\n",
        "ax[0].hist(df_proc_less_50.processing_days)\n",
        "ax[1].hist(df_proc_less_100.processing_days)\n",
        "ax[2].hist(df_proc_more_100.processing_days)\n",
        "plt.show()\n",
        "\n",
        "# misleading because compares frequency scales that are completely diffefrent"
      ]
    },
    {
      "cell_type": "code",
      "execution_count": null,
      "metadata": {
        "id": "e41hdBJwdT_w"
      },
      "outputs": [],
      "source": [
        "del df_proc_less_50, df_proc_less_100, df_proc_more_100"
      ]
    },
    {
      "cell_type": "markdown",
      "metadata": {
        "id": "Ubav_8caF69R"
      },
      "source": [
        "### Plot, over time, nbr of days required to close cases"
      ]
    },
    {
      "cell_type": "code",
      "execution_count": 69,
      "metadata": {
        "colab": {
          "base_uri": "https://localhost:8080/"
        },
        "id": "wX0lLNaDPEmJ",
        "outputId": "a7f4378b-98cc-41fa-f422-04bba378205f"
      },
      "outputs": [
        {
          "output_type": "stream",
          "name": "stdout",
          "text": [
            "Processing days range: 1 to 806\n"
          ]
        }
      ],
      "source": [
        "print('Processing days range:',df_closed.processing_days.min(),'to',df_closed.processing_days.max())"
      ]
    },
    {
      "cell_type": "code",
      "source": [
        "# Create df with aggregate stats for month & year (reset_index to make opened_month_year a col)\n",
        "grouped_df = df_closed.groupby('opened_month_year')['processing_days'].agg([np.mean, min, max]).reset_index()\n",
        "\n",
        "# chg col names: 'process_mean' refers to mean nbr of days required to close a 311-case\n",
        "grouped_df.rename(columns={'mean': 'closing_days_mean', 'min': 'closing_days_min', 'max':'closing_days_max'},inplace=True)\n",
        "grouped_df.head()"
      ],
      "metadata": {
        "colab": {
          "base_uri": "https://localhost:8080/",
          "height": 204
        },
        "id": "Pf5Z4IshbkTk",
        "outputId": "9d22fd21-9458-4d78-f22d-5c9045616c93"
      },
      "execution_count": 70,
      "outputs": [
        {
          "output_type": "execute_result",
          "data": {
            "text/plain": [
              "  opened_month_year  closing_days_mean  closing_days_min  closing_days_max\n",
              "0           2010-08           5.000000                 5                 5\n",
              "1           2010-09           3.000000                 2                 4\n",
              "2           2013-10         559.000000               559               559\n",
              "3           2014-12           2.333333                 1                 7\n",
              "4           2015-04           1.000000                 1                 1"
            ],
            "text/html": [
              "\n",
              "  <div id=\"df-b5274a30-8f98-4b88-9941-dd920210639d\">\n",
              "    <div class=\"colab-df-container\">\n",
              "      <div>\n",
              "<style scoped>\n",
              "    .dataframe tbody tr th:only-of-type {\n",
              "        vertical-align: middle;\n",
              "    }\n",
              "\n",
              "    .dataframe tbody tr th {\n",
              "        vertical-align: top;\n",
              "    }\n",
              "\n",
              "    .dataframe thead th {\n",
              "        text-align: right;\n",
              "    }\n",
              "</style>\n",
              "<table border=\"1\" class=\"dataframe\">\n",
              "  <thead>\n",
              "    <tr style=\"text-align: right;\">\n",
              "      <th></th>\n",
              "      <th>opened_month_year</th>\n",
              "      <th>closing_days_mean</th>\n",
              "      <th>closing_days_min</th>\n",
              "      <th>closing_days_max</th>\n",
              "    </tr>\n",
              "  </thead>\n",
              "  <tbody>\n",
              "    <tr>\n",
              "      <th>0</th>\n",
              "      <td>2010-08</td>\n",
              "      <td>5.000000</td>\n",
              "      <td>5</td>\n",
              "      <td>5</td>\n",
              "    </tr>\n",
              "    <tr>\n",
              "      <th>1</th>\n",
              "      <td>2010-09</td>\n",
              "      <td>3.000000</td>\n",
              "      <td>2</td>\n",
              "      <td>4</td>\n",
              "    </tr>\n",
              "    <tr>\n",
              "      <th>2</th>\n",
              "      <td>2013-10</td>\n",
              "      <td>559.000000</td>\n",
              "      <td>559</td>\n",
              "      <td>559</td>\n",
              "    </tr>\n",
              "    <tr>\n",
              "      <th>3</th>\n",
              "      <td>2014-12</td>\n",
              "      <td>2.333333</td>\n",
              "      <td>1</td>\n",
              "      <td>7</td>\n",
              "    </tr>\n",
              "    <tr>\n",
              "      <th>4</th>\n",
              "      <td>2015-04</td>\n",
              "      <td>1.000000</td>\n",
              "      <td>1</td>\n",
              "      <td>1</td>\n",
              "    </tr>\n",
              "  </tbody>\n",
              "</table>\n",
              "</div>\n",
              "      <button class=\"colab-df-convert\" onclick=\"convertToInteractive('df-b5274a30-8f98-4b88-9941-dd920210639d')\"\n",
              "              title=\"Convert this dataframe to an interactive table.\"\n",
              "              style=\"display:none;\">\n",
              "        \n",
              "  <svg xmlns=\"http://www.w3.org/2000/svg\" height=\"24px\"viewBox=\"0 0 24 24\"\n",
              "       width=\"24px\">\n",
              "    <path d=\"M0 0h24v24H0V0z\" fill=\"none\"/>\n",
              "    <path d=\"M18.56 5.44l.94 2.06.94-2.06 2.06-.94-2.06-.94-.94-2.06-.94 2.06-2.06.94zm-11 1L8.5 8.5l.94-2.06 2.06-.94-2.06-.94L8.5 2.5l-.94 2.06-2.06.94zm10 10l.94 2.06.94-2.06 2.06-.94-2.06-.94-.94-2.06-.94 2.06-2.06.94z\"/><path d=\"M17.41 7.96l-1.37-1.37c-.4-.4-.92-.59-1.43-.59-.52 0-1.04.2-1.43.59L10.3 9.45l-7.72 7.72c-.78.78-.78 2.05 0 2.83L4 21.41c.39.39.9.59 1.41.59.51 0 1.02-.2 1.41-.59l7.78-7.78 2.81-2.81c.8-.78.8-2.07 0-2.86zM5.41 20L4 18.59l7.72-7.72 1.47 1.35L5.41 20z\"/>\n",
              "  </svg>\n",
              "      </button>\n",
              "      \n",
              "  <style>\n",
              "    .colab-df-container {\n",
              "      display:flex;\n",
              "      flex-wrap:wrap;\n",
              "      gap: 12px;\n",
              "    }\n",
              "\n",
              "    .colab-df-convert {\n",
              "      background-color: #E8F0FE;\n",
              "      border: none;\n",
              "      border-radius: 50%;\n",
              "      cursor: pointer;\n",
              "      display: none;\n",
              "      fill: #1967D2;\n",
              "      height: 32px;\n",
              "      padding: 0 0 0 0;\n",
              "      width: 32px;\n",
              "    }\n",
              "\n",
              "    .colab-df-convert:hover {\n",
              "      background-color: #E2EBFA;\n",
              "      box-shadow: 0px 1px 2px rgba(60, 64, 67, 0.3), 0px 1px 3px 1px rgba(60, 64, 67, 0.15);\n",
              "      fill: #174EA6;\n",
              "    }\n",
              "\n",
              "    [theme=dark] .colab-df-convert {\n",
              "      background-color: #3B4455;\n",
              "      fill: #D2E3FC;\n",
              "    }\n",
              "\n",
              "    [theme=dark] .colab-df-convert:hover {\n",
              "      background-color: #434B5C;\n",
              "      box-shadow: 0px 1px 3px 1px rgba(0, 0, 0, 0.15);\n",
              "      filter: drop-shadow(0px 1px 2px rgba(0, 0, 0, 0.3));\n",
              "      fill: #FFFFFF;\n",
              "    }\n",
              "  </style>\n",
              "\n",
              "      <script>\n",
              "        const buttonEl =\n",
              "          document.querySelector('#df-b5274a30-8f98-4b88-9941-dd920210639d button.colab-df-convert');\n",
              "        buttonEl.style.display =\n",
              "          google.colab.kernel.accessAllowed ? 'block' : 'none';\n",
              "\n",
              "        async function convertToInteractive(key) {\n",
              "          const element = document.querySelector('#df-b5274a30-8f98-4b88-9941-dd920210639d');\n",
              "          const dataTable =\n",
              "            await google.colab.kernel.invokeFunction('convertToInteractive',\n",
              "                                                     [key], {});\n",
              "          if (!dataTable) return;\n",
              "\n",
              "          const docLinkHtml = 'Like what you see? Visit the ' +\n",
              "            '<a target=\"_blank\" href=https://colab.research.google.com/notebooks/data_table.ipynb>data table notebook</a>'\n",
              "            + ' to learn more about interactive tables.';\n",
              "          element.innerHTML = '';\n",
              "          dataTable['output_type'] = 'display_data';\n",
              "          await google.colab.output.renderOutput(dataTable, element);\n",
              "          const docLink = document.createElement('div');\n",
              "          docLink.innerHTML = docLinkHtml;\n",
              "          element.appendChild(docLink);\n",
              "        }\n",
              "      </script>\n",
              "    </div>\n",
              "  </div>\n",
              "  "
            ]
          },
          "metadata": {},
          "execution_count": 70
        }
      ]
    },
    {
      "cell_type": "code",
      "source": [
        "grouped_df.info()"
      ],
      "metadata": {
        "colab": {
          "base_uri": "https://localhost:8080/"
        },
        "id": "UMoWtiFO7Ccg",
        "outputId": "6ecf1a1c-049d-491b-cd21-8ac08b079453"
      },
      "execution_count": 71,
      "outputs": [
        {
          "output_type": "stream",
          "name": "stdout",
          "text": [
            "<class 'pandas.core.frame.DataFrame'>\n",
            "RangeIndex: 19 entries, 0 to 18\n",
            "Data columns (total 4 columns):\n",
            " #   Column             Non-Null Count  Dtype    \n",
            "---  ------             --------------  -----    \n",
            " 0   opened_month_year  19 non-null     period[M]\n",
            " 1   closing_days_mean  19 non-null     float64  \n",
            " 2   closing_days_min   19 non-null     int64    \n",
            " 3   closing_days_max   19 non-null     int64    \n",
            "dtypes: float64(1), int64(2), period[M](1)\n",
            "memory usage: 736.0 bytes\n"
          ]
        }
      ]
    },
    {
      "cell_type": "code",
      "source": [
        "# Visualize nbr of days it took to close cases, over time\n",
        "\n",
        "# ISSUE [TODO]\n",
        "\n",
        "# What was I trying to do here???\n",
        "\n",
        "# when more recs were read time frame expaned; now x-axis labels are too close together\n",
        "# could this be switched to the year, rather than the month?\n",
        "# to do that, would need to create new col for year opened, then groupby that col\n",
        "\n",
        "labels = grouped_df.opened_month_year.dt.strftime('%m:%Y').astype(str)\n",
        "x = grouped_df.closing_days_max.max()\n",
        "x_max = int(math.ceil(x / 100.0)) * 100\n",
        "\n",
        "fig, ax = plt.subplots(3,1, figsize=(18,12))\n",
        "for i in range(3):\n",
        "  ax[i].set(ylabel='Nbr of Days')\n",
        "  ax[i].set_xticklabels(labels, rotation='vertical')\n",
        "  ax[i].set(xlabel='Date Case Was Opened')\n",
        "  ax[i].set_ylim([0, x_max]) # makes y scale same on all 3\n",
        "\n",
        "ax[0].set_title('Minimum Number of Days Required to Close Cases, Over Time')\n",
        "ax[1].set_title('Maximum Number of Days Required to Close Cases, Over Time')\n",
        "ax[2].set_title('Mean Number of Days Required to Close Cases, Over Time')\n",
        "fig.tight_layout(pad=4.0)\n",
        "'''\n",
        "annotate start of pandemic?\n",
        "ax.annotate('pixel offset from axes fraction',\n",
        "            xy=(1, 0), xycoords='axes fraction',\n",
        "            xytext=(-20, 20), textcoords='offset pixels',\n",
        "            horizontalalignment='right',\n",
        "            verticalalignment='bottom')\n",
        "'''\n",
        "ax[0].plot(grouped_df.opened_month_year.dt.strftime('%m:%Y'), grouped_df.closing_days_min, color='g')\n",
        "ax[1].plot(grouped_df.opened_month_year.dt.strftime('%m:%Y'), grouped_df.closing_days_max, color='r')\n",
        "ax[2].plot(grouped_df.opened_month_year.dt.strftime('%m:%Y'), grouped_df.closing_days_mean, color='b')\n",
        "plt.show()"
      ],
      "metadata": {
        "id": "qmFZ_eGFCVS1",
        "colab": {
          "base_uri": "https://localhost:8080/",
          "height": 708
        },
        "outputId": "ad8edc77-86e3-4c40-e3bc-39fd5d0e81c9"
      },
      "execution_count": 72,
      "outputs": [
        {
          "output_type": "stream",
          "name": "stderr",
          "text": [
            "<ipython-input-72-9a389c6ba49d>:18: UserWarning: FixedFormatter should only be used together with FixedLocator\n",
            "  ax[i].set_xticklabels(labels, rotation='vertical')\n"
          ]
        },
        {
          "output_type": "display_data",
          "data": {
            "text/plain": [
              "<Figure size 1800x1200 with 3 Axes>"
            ],
            "image/png": "[encoded data removed]"
          },
          "metadata": {}
        }
      ]
    },
    {
      "cell_type": "code",
      "source": [
        "# Create df with aggregate stats for month & year (reset_index to make opened_month_year a col)\n",
        "year_df = df_closed.groupby('opened_year')['processing_days'].agg([np.mean, min, max]).reset_index()\n",
        "\n",
        "# chg col names: 'process_mean' refers to mean nbr of days required to close a 311-case\n",
        "year_df.rename(columns={'mean': 'closing_days_mean', 'min': 'closing_days_min', 'max':'closing_days_max'},inplace=True)\n",
        "year_df.head()"
      ],
      "metadata": {
        "colab": {
          "base_uri": "https://localhost:8080/",
          "height": 204
        },
        "id": "xNJFgww9mHma",
        "outputId": "4ab82351-58ef-40cf-97d4-17598671cc28"
      },
      "execution_count": 73,
      "outputs": [
        {
          "output_type": "execute_result",
          "data": {
            "text/plain": [
              "   opened_year  closing_days_mean  closing_days_min  closing_days_max\n",
              "0         2010           3.666667                 2                 5\n",
              "1         2013         559.000000               559               559\n",
              "2         2014           2.333333                 1                 7\n",
              "3         2015           1.000000                 1                 1\n",
              "4         2016           5.013203                 1                95"
            ],
            "text/html": [
              "\n",
              "  <div id=\"df-c4bcf062-6258-44a2-8642-7486fe5f7956\">\n",
              "    <div class=\"colab-df-container\">\n",
              "      <div>\n",
              "<style scoped>\n",
              "    .dataframe tbody tr th:only-of-type {\n",
              "        vertical-align: middle;\n",
              "    }\n",
              "\n",
              "    .dataframe tbody tr th {\n",
              "        vertical-align: top;\n",
              "    }\n",
              "\n",
              "    .dataframe thead th {\n",
              "        text-align: right;\n",
              "    }\n",
              "</style>\n",
              "<table border=\"1\" class=\"dataframe\">\n",
              "  <thead>\n",
              "    <tr style=\"text-align: right;\">\n",
              "      <th></th>\n",
              "      <th>opened_year</th>\n",
              "      <th>closing_days_mean</th>\n",
              "      <th>closing_days_min</th>\n",
              "      <th>closing_days_max</th>\n",
              "    </tr>\n",
              "  </thead>\n",
              "  <tbody>\n",
              "    <tr>\n",
              "      <th>0</th>\n",
              "      <td>2010</td>\n",
              "      <td>3.666667</td>\n",
              "      <td>2</td>\n",
              "      <td>5</td>\n",
              "    </tr>\n",
              "    <tr>\n",
              "      <th>1</th>\n",
              "      <td>2013</td>\n",
              "      <td>559.000000</td>\n",
              "      <td>559</td>\n",
              "      <td>559</td>\n",
              "    </tr>\n",
              "    <tr>\n",
              "      <th>2</th>\n",
              "      <td>2014</td>\n",
              "      <td>2.333333</td>\n",
              "      <td>1</td>\n",
              "      <td>7</td>\n",
              "    </tr>\n",
              "    <tr>\n",
              "      <th>3</th>\n",
              "      <td>2015</td>\n",
              "      <td>1.000000</td>\n",
              "      <td>1</td>\n",
              "      <td>1</td>\n",
              "    </tr>\n",
              "    <tr>\n",
              "      <th>4</th>\n",
              "      <td>2016</td>\n",
              "      <td>5.013203</td>\n",
              "      <td>1</td>\n",
              "      <td>95</td>\n",
              "    </tr>\n",
              "  </tbody>\n",
              "</table>\n",
              "</div>\n",
              "      <button class=\"colab-df-convert\" onclick=\"convertToInteractive('df-c4bcf062-6258-44a2-8642-7486fe5f7956')\"\n",
              "              title=\"Convert this dataframe to an interactive table.\"\n",
              "              style=\"display:none;\">\n",
              "        \n",
              "  <svg xmlns=\"http://www.w3.org/2000/svg\" height=\"24px\"viewBox=\"0 0 24 24\"\n",
              "       width=\"24px\">\n",
              "    <path d=\"M0 0h24v24H0V0z\" fill=\"none\"/>\n",
              "    <path d=\"M18.56 5.44l.94 2.06.94-2.06 2.06-.94-2.06-.94-.94-2.06-.94 2.06-2.06.94zm-11 1L8.5 8.5l.94-2.06 2.06-.94-2.06-.94L8.5 2.5l-.94 2.06-2.06.94zm10 10l.94 2.06.94-2.06 2.06-.94-2.06-.94-.94-2.06-.94 2.06-2.06.94z\"/><path d=\"M17.41 7.96l-1.37-1.37c-.4-.4-.92-.59-1.43-.59-.52 0-1.04.2-1.43.59L10.3 9.45l-7.72 7.72c-.78.78-.78 2.05 0 2.83L4 21.41c.39.39.9.59 1.41.59.51 0 1.02-.2 1.41-.59l7.78-7.78 2.81-2.81c.8-.78.8-2.07 0-2.86zM5.41 20L4 18.59l7.72-7.72 1.47 1.35L5.41 20z\"/>\n",
              "  </svg>\n",
              "      </button>\n",
              "      \n",
              "  <style>\n",
              "    .colab-df-container {\n",
              "      display:flex;\n",
              "      flex-wrap:wrap;\n",
              "      gap: 12px;\n",
              "    }\n",
              "\n",
              "    .colab-df-convert {\n",
              "      background-color: #E8F0FE;\n",
              "      border: none;\n",
              "      border-radius: 50%;\n",
              "      cursor: pointer;\n",
              "      display: none;\n",
              "      fill: #1967D2;\n",
              "      height: 32px;\n",
              "      padding: 0 0 0 0;\n",
              "      width: 32px;\n",
              "    }\n",
              "\n",
              "    .colab-df-convert:hover {\n",
              "      background-color: #E2EBFA;\n",
              "      box-shadow: 0px 1px 2px rgba(60, 64, 67, 0.3), 0px 1px 3px 1px rgba(60, 64, 67, 0.15);\n",
              "      fill: #174EA6;\n",
              "    }\n",
              "\n",
              "    [theme=dark] .colab-df-convert {\n",
              "      background-color: #3B4455;\n",
              "      fill: #D2E3FC;\n",
              "    }\n",
              "\n",
              "    [theme=dark] .colab-df-convert:hover {\n",
              "      background-color: #434B5C;\n",
              "      box-shadow: 0px 1px 3px 1px rgba(0, 0, 0, 0.15);\n",
              "      filter: drop-shadow(0px 1px 2px rgba(0, 0, 0, 0.3));\n",
              "      fill: #FFFFFF;\n",
              "    }\n",
              "  </style>\n",
              "\n",
              "      <script>\n",
              "        const buttonEl =\n",
              "          document.querySelector('#df-c4bcf062-6258-44a2-8642-7486fe5f7956 button.colab-df-convert');\n",
              "        buttonEl.style.display =\n",
              "          google.colab.kernel.accessAllowed ? 'block' : 'none';\n",
              "\n",
              "        async function convertToInteractive(key) {\n",
              "          const element = document.querySelector('#df-c4bcf062-6258-44a2-8642-7486fe5f7956');\n",
              "          const dataTable =\n",
              "            await google.colab.kernel.invokeFunction('convertToInteractive',\n",
              "                                                     [key], {});\n",
              "          if (!dataTable) return;\n",
              "\n",
              "          const docLinkHtml = 'Like what you see? Visit the ' +\n",
              "            '<a target=\"_blank\" href=https://colab.research.google.com/notebooks/data_table.ipynb>data table notebook</a>'\n",
              "            + ' to learn more about interactive tables.';\n",
              "          element.innerHTML = '';\n",
              "          dataTable['output_type'] = 'display_data';\n",
              "          await google.colab.output.renderOutput(dataTable, element);\n",
              "          const docLink = document.createElement('div');\n",
              "          docLink.innerHTML = docLinkHtml;\n",
              "          element.appendChild(docLink);\n",
              "        }\n",
              "      </script>\n",
              "    </div>\n",
              "  </div>\n",
              "  "
            ]
          },
          "metadata": {},
          "execution_count": 73
        }
      ]
    },
    {
      "cell_type": "code",
      "source": [
        "del grouped_df"
      ],
      "metadata": {
        "id": "E-BuaehomYzL"
      },
      "execution_count": 74,
      "outputs": []
    },
    {
      "cell_type": "code",
      "source": [
        "# same visualization, but at yearly intervals\n",
        "# NOTE that the y-axis scales are NOT the same\n",
        "\n",
        "#TODO change this to match the current way I populate opened_year\n",
        "\n",
        "#labels = year_df.opened_year.dt.strftime('%Y').astype(str)\n",
        "labels = year_df.opened_year.astype(str)\n",
        "\n",
        "x = year_df.closing_days_max.max()\n",
        "x_max = int(math.ceil(x / 100.0)) * 100\n",
        "\n",
        "fig, ax = plt.subplots(3,1, figsize=(18,12))\n",
        "for i in range(3):\n",
        "  ax[i].set(ylabel='Nbr of Days')\n",
        "  ax[i].set_xticklabels(labels)\n",
        "  ax[i].set(xlabel='Year Case Was Opened')\n",
        "#  ax[i].set_ylim([0, x_max]) # makes y scale same on all 3\n",
        "\n",
        "ax[0].set_title('Minimum Number of Days Required to Close Cases, Over Time')\n",
        "ax[1].set_title('Maximum Number of Days Required to Close Cases, Over Time')\n",
        "ax[2].set_title('Mean Number of Days Required to Close Cases, Over Time')\n",
        "fig.tight_layout(pad=4.0)\n",
        "\n",
        "ax[0].plot(year_df.opened_year.dt.strftime('%Y'), year_df.closing_days_min, color='lightgreen')\n",
        "ax[1].plot(year_df.opened_year.dt.strftime('%Y'), year_df.closing_days_max, color='plum')\n",
        "ax[2].plot(year_df.opened_year.dt.strftime('%Y'), year_df.closing_days_mean, color='lightblue')\n",
        "plt.show()"
      ],
      "metadata": {
        "id": "XcmuPYOCmTYO",
        "colab": {
          "base_uri": "https://localhost:8080/",
          "height": 1000
        },
        "outputId": "6482b8a3-7a1b-463a-a9e7-613e83d05c92"
      },
      "execution_count": 75,
      "outputs": [
        {
          "output_type": "stream",
          "name": "stderr",
          "text": [
            "<ipython-input-75-2ba42fe16abd>:15: UserWarning: FixedFormatter should only be used together with FixedLocator\n",
            "  ax[i].set_xticklabels(labels)\n"
          ]
        },
        {
          "output_type": "error",
          "ename": "AttributeError",
          "evalue": "ignored",
          "traceback": [
            "\u001b[0;31m---------------------------------------------------------------------------\u001b[0m",
            "\u001b[0;31mAttributeError\u001b[0m                            Traceback (most recent call last)",
            "\u001b[0;32m<ipython-input-75-2ba42fe16abd>\u001b[0m in \u001b[0;36m<cell line: 24>\u001b[0;34m()\u001b[0m\n\u001b[1;32m     22\u001b[0m \u001b[0mfig\u001b[0m\u001b[0;34m.\u001b[0m\u001b[0mtight_layout\u001b[0m\u001b[0;34m(\u001b[0m\u001b[0mpad\u001b[0m\u001b[0;34m=\u001b[0m\u001b[0;36m4.0\u001b[0m\u001b[0;34m)\u001b[0m\u001b[0;34m\u001b[0m\u001b[0;34m\u001b[0m\u001b[0m\n\u001b[1;32m     23\u001b[0m \u001b[0;34m\u001b[0m\u001b[0m\n\u001b[0;32m---> 24\u001b[0;31m \u001b[0max\u001b[0m\u001b[0;34m[\u001b[0m\u001b[0;36m0\u001b[0m\u001b[0;34m]\u001b[0m\u001b[0;34m.\u001b[0m\u001b[0mplot\u001b[0m\u001b[0;34m(\u001b[0m\u001b[0myear_df\u001b[0m\u001b[0;34m.\u001b[0m\u001b[0mopened_year\u001b[0m\u001b[0;34m.\u001b[0m\u001b[0mdt\u001b[0m\u001b[0;34m.\u001b[0m\u001b[0mstrftime\u001b[0m\u001b[0;34m(\u001b[0m\u001b[0;34m'%Y'\u001b[0m\u001b[0;34m)\u001b[0m\u001b[0;34m,\u001b[0m \u001b[0myear_df\u001b[0m\u001b[0;34m.\u001b[0m\u001b[0mclosing_days_min\u001b[0m\u001b[0;34m,\u001b[0m \u001b[0mcolor\u001b[0m\u001b[0;34m=\u001b[0m\u001b[0;34m'lightgreen'\u001b[0m\u001b[0;34m)\u001b[0m\u001b[0;34m\u001b[0m\u001b[0;34m\u001b[0m\u001b[0m\n\u001b[0m\u001b[1;32m     25\u001b[0m \u001b[0max\u001b[0m\u001b[0;34m[\u001b[0m\u001b[0;36m1\u001b[0m\u001b[0;34m]\u001b[0m\u001b[0;34m.\u001b[0m\u001b[0mplot\u001b[0m\u001b[0;34m(\u001b[0m\u001b[0myear_df\u001b[0m\u001b[0;34m.\u001b[0m\u001b[0mopened_year\u001b[0m\u001b[0;34m.\u001b[0m\u001b[0mdt\u001b[0m\u001b[0;34m.\u001b[0m\u001b[0mstrftime\u001b[0m\u001b[0;34m(\u001b[0m\u001b[0;34m'%Y'\u001b[0m\u001b[0;34m)\u001b[0m\u001b[0;34m,\u001b[0m \u001b[0myear_df\u001b[0m\u001b[0;34m.\u001b[0m\u001b[0mclosing_days_max\u001b[0m\u001b[0;34m,\u001b[0m \u001b[0mcolor\u001b[0m\u001b[0;34m=\u001b[0m\u001b[0;34m'plum'\u001b[0m\u001b[0;34m)\u001b[0m\u001b[0;34m\u001b[0m\u001b[0;34m\u001b[0m\u001b[0m\n\u001b[1;32m     26\u001b[0m \u001b[0max\u001b[0m\u001b[0;34m[\u001b[0m\u001b[0;36m2\u001b[0m\u001b[0;34m]\u001b[0m\u001b[0;34m.\u001b[0m\u001b[0mplot\u001b[0m\u001b[0;34m(\u001b[0m\u001b[0myear_df\u001b[0m\u001b[0;34m.\u001b[0m\u001b[0mopened_year\u001b[0m\u001b[0;34m.\u001b[0m\u001b[0mdt\u001b[0m\u001b[0;34m.\u001b[0m\u001b[0mstrftime\u001b[0m\u001b[0;34m(\u001b[0m\u001b[0;34m'%Y'\u001b[0m\u001b[0;34m)\u001b[0m\u001b[0;34m,\u001b[0m \u001b[0myear_df\u001b[0m\u001b[0;34m.\u001b[0m\u001b[0mclosing_days_mean\u001b[0m\u001b[0;34m,\u001b[0m \u001b[0mcolor\u001b[0m\u001b[0;34m=\u001b[0m\u001b[0;34m'lightblue'\u001b[0m\u001b[0;34m)\u001b[0m\u001b[0;34m\u001b[0m\u001b[0;34m\u001b[0m\u001b[0m\n",
            "\u001b[0;32m/usr/local/lib/python3.9/dist-packages/pandas/core/generic.py\u001b[0m in \u001b[0;36m__getattr__\u001b[0;34m(self, name)\u001b[0m\n\u001b[1;32m   5900\u001b[0m         ):\n\u001b[1;32m   5901\u001b[0m             \u001b[0;32mreturn\u001b[0m \u001b[0mself\u001b[0m\u001b[0;34m[\u001b[0m\u001b[0mname\u001b[0m\u001b[0;34m]\u001b[0m\u001b[0;34m\u001b[0m\u001b[0;34m\u001b[0m\u001b[0m\n\u001b[0;32m-> 5902\u001b[0;31m         \u001b[0;32mreturn\u001b[0m \u001b[0mobject\u001b[0m\u001b[0;34m.\u001b[0m\u001b[0m__getattribute__\u001b[0m\u001b[0;34m(\u001b[0m\u001b[0mself\u001b[0m\u001b[0;34m,\u001b[0m \u001b[0mname\u001b[0m\u001b[0;34m)\u001b[0m\u001b[0;34m\u001b[0m\u001b[0;34m\u001b[0m\u001b[0m\n\u001b[0m\u001b[1;32m   5903\u001b[0m \u001b[0;34m\u001b[0m\u001b[0m\n\u001b[1;32m   5904\u001b[0m     \u001b[0;32mdef\u001b[0m \u001b[0m__setattr__\u001b[0m\u001b[0;34m(\u001b[0m\u001b[0mself\u001b[0m\u001b[0;34m,\u001b[0m \u001b[0mname\u001b[0m\u001b[0;34m:\u001b[0m \u001b[0mstr\u001b[0m\u001b[0;34m,\u001b[0m \u001b[0mvalue\u001b[0m\u001b[0;34m)\u001b[0m \u001b[0;34m->\u001b[0m \u001b[0;32mNone\u001b[0m\u001b[0;34m:\u001b[0m\u001b[0;34m\u001b[0m\u001b[0;34m\u001b[0m\u001b[0m\n",
            "\u001b[0;32m/usr/local/lib/python3.9/dist-packages/pandas/core/accessor.py\u001b[0m in \u001b[0;36m__get__\u001b[0;34m(self, obj, cls)\u001b[0m\n\u001b[1;32m    180\u001b[0m             \u001b[0;31m# we're accessing the attribute of the class, i.e., Dataset.geo\u001b[0m\u001b[0;34m\u001b[0m\u001b[0;34m\u001b[0m\u001b[0m\n\u001b[1;32m    181\u001b[0m             \u001b[0;32mreturn\u001b[0m \u001b[0mself\u001b[0m\u001b[0;34m.\u001b[0m\u001b[0m_accessor\u001b[0m\u001b[0;34m\u001b[0m\u001b[0;34m\u001b[0m\u001b[0m\n\u001b[0;32m--> 182\u001b[0;31m         \u001b[0maccessor_obj\u001b[0m \u001b[0;34m=\u001b[0m \u001b[0mself\u001b[0m\u001b[0;34m.\u001b[0m\u001b[0m_accessor\u001b[0m\u001b[0;34m(\u001b[0m\u001b[0mobj\u001b[0m\u001b[0;34m)\u001b[0m\u001b[0;34m\u001b[0m\u001b[0;34m\u001b[0m\u001b[0m\n\u001b[0m\u001b[1;32m    183\u001b[0m         \u001b[0;31m# Replace the property with the accessor object. Inspired by:\u001b[0m\u001b[0;34m\u001b[0m\u001b[0;34m\u001b[0m\u001b[0m\n\u001b[1;32m    184\u001b[0m         \u001b[0;31m# https://www.pydanny.com/cached-property.html\u001b[0m\u001b[0;34m\u001b[0m\u001b[0;34m\u001b[0m\u001b[0m\n",
            "\u001b[0;32m/usr/local/lib/python3.9/dist-packages/pandas/core/indexes/accessors.py\u001b[0m in \u001b[0;36m__new__\u001b[0;34m(cls, data)\u001b[0m\n\u001b[1;32m    510\u001b[0m             \u001b[0;32mreturn\u001b[0m \u001b[0mPeriodProperties\u001b[0m\u001b[0;34m(\u001b[0m\u001b[0mdata\u001b[0m\u001b[0;34m,\u001b[0m \u001b[0morig\u001b[0m\u001b[0;34m)\u001b[0m\u001b[0;34m\u001b[0m\u001b[0;34m\u001b[0m\u001b[0m\n\u001b[1;32m    511\u001b[0m \u001b[0;34m\u001b[0m\u001b[0m\n\u001b[0;32m--> 512\u001b[0;31m         \u001b[0;32mraise\u001b[0m \u001b[0mAttributeError\u001b[0m\u001b[0;34m(\u001b[0m\u001b[0;34m\"Can only use .dt accessor with datetimelike values\"\u001b[0m\u001b[0;34m)\u001b[0m\u001b[0;34m\u001b[0m\u001b[0;34m\u001b[0m\u001b[0m\n\u001b[0m",
            "\u001b[0;31mAttributeError\u001b[0m: Can only use .dt accessor with datetimelike values"
          ]
        },
        {
          "output_type": "display_data",
          "data": {
            "text/plain": [
              "<Figure size 1800x1200 with 3 Axes>"
            ],
            "image/png": "[encoded data removed]"
          },
          "metadata": {}
        }
      ]
    },
    {
      "cell_type": "markdown",
      "metadata": {
        "id": "Cck9xXc9c_nT"
      },
      "source": [
        "### Changes over time: has the source changed over time?"
      ]
    },
    {
      "cell_type": "markdown",
      "metadata": {
        "id": "0eeJ1aTrV-9b"
      },
      "source": [
        "### Plot closed cases \n",
        "  as a Series by: \n",
        "\n",
        "*   Responsible Agency\n",
        "*   Category\n",
        "*   Request Type\n",
        "*   Supervisor District\n",
        "*   Neighborhood\n",
        "*   Police Disctrict\n",
        "\n",
        "\n"
      ]
    },
    {
      "cell_type": "code",
      "execution_count": null,
      "metadata": {
        "id": "yUqydSeDgBPN"
      },
      "outputs": [],
      "source": [
        "# plot CLOSED cases (as a Series) by: Responsible Agency, Category, \n",
        "#  Request Type, Supervisor District, Neighborhood, Police District\n",
        "# 'ranking relationship' so using horizontal bar graphs\n",
        "# for Supervisor District, maybe join to diff table to get supervisor name (based on date)?\n",
        "\n",
        "elements = ['Responsible Agency','Category', 'Request Type',\n",
        "            'Supervisor District', 'Neighborhood', 'Police District']\n",
        "\n",
        "for el in elements:\n",
        "  plt.title('Most Common '+ el+' for Closed 311-Cases')\n",
        "  plt.xlabel('Count')\n",
        "  df_closed[el].value_counts().nlargest(n=8).sort_values().plot(kind='barh',color='g')\n",
        "  plt.show()\n"
      ]
    },
    {
      "cell_type": "markdown",
      "metadata": {
        "id": "p9pa5hWlWleR"
      },
      "source": [
        "### Plot open cases \n",
        " as a Series by: \n",
        "\n",
        "*   Responsible Agency\n",
        "*   Category\n",
        "*   Request Type\n",
        "*   Supervisor District\n",
        "*   Neighborhood\n",
        "*   Police Disctrict"
      ]
    },
    {
      "cell_type": "code",
      "execution_count": null,
      "metadata": {
        "id": "PaZv-_04zyJz"
      },
      "outputs": [],
      "source": [
        "#  Supervisor District (could join to a diff table to get supervisor name)\n",
        "# 'ranking relationship' so using horizontal bar graphs\n",
        "\n",
        "# When considering 'open' cases, focus on cases that have remained open for a lengthy period\n",
        "# (If a case opened yesterday is still open, that doesn't indicate an issue)\n",
        "\n",
        "# only consider cases open for at least a year...\n",
        "df_open_long = df_open[df_open['time_open'].astype('timedelta64[D]') > 365]\n",
        "\n",
        "for e in elements:\n",
        "  plt.title('Most Common '+ e+' for Open 311-Cases')\n",
        "  plt.xlabel('Count')\n",
        "  df_open_long[e].value_counts().nlargest(n=8).sort_values().plot(kind='barh', color='r')\n",
        "  plt.show()"
      ]
    },
    {
      "cell_type": "markdown",
      "metadata": {
        "id": "zcXFVD164NhF"
      },
      "source": [
        "## **Question**: Are the most common Closed case types the same as the most common Open case types? Should I be looking at percentages instead? Relative to total number of cases?"
      ]
    },
    {
      "cell_type": "code",
      "execution_count": null,
      "metadata": {
        "id": "m_mheCHfXDnc"
      },
      "outputs": [],
      "source": []
    },
    {
      "cell_type": "markdown",
      "metadata": {
        "id": "Owh2G2DqcGzG"
      },
      "source": [
        "## Correlation between [something?] and 'closure rate'\n",
        "### must define 'closure rate'"
      ]
    },
    {
      "cell_type": "code",
      "execution_count": null,
      "metadata": {
        "id": "ltCun2xucE7S"
      },
      "outputs": [],
      "source": []
    },
    {
      "cell_type": "code",
      "execution_count": null,
      "metadata": {
        "id": "3Bzpk8cqcEnA"
      },
      "outputs": [],
      "source": []
    }
  ],
  "metadata": {
    "colab": {
      "toc_visible": true,
      "provenance": [],
      "collapsed_sections": [
        "Cck9xXc9c_nT",
        "0eeJ1aTrV-9b",
        "p9pa5hWlWleR",
        "zcXFVD164NhF",
        "Owh2G2DqcGzG"
      ],
      "authorship_tag": "ABX9TyMt1XXhZYFM63yUWYHDmvSz",
      "include_colab_link": true
    },
    "kernelspec": {
      "display_name": "Python 3",
      "name": "python3"
    },
    "language_info": {
      "name": "python"
    }
  },
  "nbformat": 4,
  "nbformat_minor": 0
}